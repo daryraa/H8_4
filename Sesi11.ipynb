{
 "cells": [
  {
   "cell_type": "markdown",
   "id": "c66fd272",
   "metadata": {},
   "source": [
    "# Regression Models"
   ]
  },
  {
   "cell_type": "markdown",
   "id": "c51b2746",
   "metadata": {},
   "source": [
    "### Regression\n",
    "Regression analysis adalah salah satu bidang terpenting dalam statistik dan machine learning. Ada banyak metode regresi yang tersedia. Linear regression adalah salah satunya.\n",
    "\n",
    "### What Is Regression?\n",
    "Regression mencari hubungan antar variabel.\n",
    "\n",
    "Regression adalah bentuk lain dari supervised learning. Perbedaan antara classification dan regression adalah bahwa regression menghasilkan angka daripada kelas. Oleh karena itu, regression berguna saat memprediksi masalah berbasis angka seperti harga pasar saham, suhu untuk hari tertentu, atau probabilitas suatu peristiwa.\n",
    "\n",
    "Misalnya, kita dapat mengamati beberapa karyawan dari beberapa perusahaan dan mencoba memahami bagaimana gaji mereka bergantung pada fitur, seperti pengalaman, tingkat pendidikan, peran, kota tempat mereka bekerja, dan sebagainya.\n",
    "\n",
    "Contoh diatas adalah masalah regresi dimana data yang terkait dengan setiap karyawan merupakan satu observasi. Asumsinya, pengalaman, pendidikan, peran, dan kota adalah ciri-ciri tersendiri, sedangkan gaji bergantung padanya.\n",
    "\n",
    "Demikian pula, kita dapat mencoba membangun mathematical dependence/ketergantungan matematis dari harga rumah dengan wilayah, jumlah kamar tidur, jarak ke pusat kota, dan sebagainya.\n",
    "\n",
    "Secara umum, dalam regression analysis, kita biasanya mempertimbangkan beberapa fenomena yang menarik dan memiliki sejumlah pengamatan. Setiap observasi memiliki dua atau lebih fitur. Mengikuti asumsi bahwa (setidaknya) salah satu fitur bergantung pada yang lain, kita mencoba membangun hubungan di antara fitur tersebut.\n",
    "\n",
    "Dengan kata lain, kita perlu menemukan fungsi yang memetakan beberapa fitur atau variabel ke fitur lain dengan cukup baik.\n",
    "\n",
    "Fitur dependen/dependent features disebut variabel dependen/dependent variables, output, atau responses.\n",
    "\n",
    "Fitur independen disebut variabel independen/independent variables, input, atau predictors.\n",
    "\n",
    "Masalah regresi biasanya memiliki satu variabel dependen yang kontinu dan tidak terbatas. Namun, masukan dapat berupa data kontinu, diskrit, atau bahkan kategorikal seperti jenis kelamin, kebangsaan, merek, dan sebagainya.\n",
    "\n",
    "Biasanya kita melambangkan output dengan 𝑦 dan input dengan 𝑥. Jika ada dua atau lebih variabel independen, mereka dapat direpresentasikan sebagai vektor 𝐱 = (𝑥₁,…, 𝑥ᵣ), di mana 𝑟 adalah jumlah input.\n",
    "\n",
    "## When Do You Need Regression?\n",
    "Biasanya, kita memerlukan regresi untuk menjawab apakah dan bagaimana beberapa fenomena memengaruhi yang lain atau bagaimana terkaitnya variabel yang ada. Misalnya, kita dapat menggunakannya untuk menentukan apakah dan sejauh mana pengalaman atau gender memengaruhi gaji.\n",
    "\n",
    "Regresi juga berguna saat kita ingin meramalkan respons menggunakan kumpulan prediktor baru. Misalnya, kita dapat mencoba memprediksi konsumsi listrik rumah tangga untuk satu jam ke depan dengan melihat suhu luar ruangan, waktu, dan jumlah penduduk dalam rumah tersebut.\n",
    "\n",
    "Regresi digunakan di berbagai bidang: ekonomi, ilmu komputer, ilmu sosial, dan sebagainya. Kepentingannya meningkat setiap hari dengan ketersediaan data dalam jumlah besar dan kesadaran yang meningkat tentang nilai praktis data.\n",
    "\n",
    "### Linear Regression\n",
    "Linear regression mungkin salah satu teknik regresi yang paling penting dan banyak digunakan. Ini adalah salah satu metode regresi yang paling sederhana. Salah satu keuntungan utamanya adalah kemudahan interpretasi hasil.\n",
    "\n",
    "### Problem Formulation\n",
    "Saat menerapkan linear regression dari beberaoa variabel dependen 𝑦 pada himpunan variabel independen 𝐱 = (𝑥₁,…, 𝑥ᵣ), di mana 𝑟 adalah jumlah prediktor, kita mengasumsikan linear relationship antara 𝑦 dan 𝐱: 𝑦 = 𝛽₀ + 𝛽₁𝑥₁ + 𝛽₁𝑥₁ + 𝛽ᵣ𝑥ᵣ + 𝜀. Persamaan ini adalah persamaan regresi. 𝛽₀, 𝛽₁,…, 𝛽ᵣ adalah koefisien regresi, dan 𝜀 adalah random error.\n",
    "\n",
    "Linear regression menghitung estimators dari koefisien regresi atau predicted weights, dilambangkan dengan 𝑏₀, 𝑏₁,…, 𝑏ᵣ. Koefisien regresimendefinisikan estimated regression function 𝑓 (𝐱) = 𝑏₀ + 𝑏₁𝑥₁ + ⋯ + 𝑏ᵣ𝑥ᵣ. Fungsi ini harus menangkap ketergantungan antara input dan output dengan cukup baik.\n",
    "\n",
    "Estimated atau predicted response, 𝑓 (𝐱ᵢ), untuk setiap pengamatan 𝑖 = 1,…, 𝑛, harus sedekat mungkin dengan actual response yang sesuai 𝑦ᵢ. Perbedaan 𝑦ᵢ - 𝑓 (𝐱ᵢ) untuk semua pengamatan 𝑖 = 1,…, 𝑛, disebut residuals. Regresi adalah tentang menentukan best predicted weights, yaitu bobot yang sesuai dengan residuals terkecil.\n",
    "\n",
    "Untuk mendapatkan bobot terbaik, biasanya kita meminimalkan sum of squared residuals (SSR) untuk semua pengamatan 𝑖 = 1,…, 𝑛: SSR = Σᵢ (𝑦ᵢ - 𝑓 (𝐱ᵢ)) ². Pendekatan ini disebut method of ordinary least squares.\n",
    "\n",
    "### Regression Performance\n",
    "Variasi respon aktual 𝑦ᵢ, 𝑖 = 1,…, 𝑛, terjadi sebagian karena ketergantungan pada prediktor 𝐱ᵢ. Namun, ada juga varian tambahan yang melekat pada output.\n",
    "\n",
    "Coefficient of determination, dilambangkan sebagai 𝑅², memberi tahu kita berapa banyak variasi dalam 𝑦 yang dapat dijelaskan oleh ketergantungan pada 𝐱 menggunakan model regresi tertentu. Lebih besar 𝑅² menunjukkan kesesuaian yang lebih baik dan berarti bahwa model dapat menjelaskan variasi keluaran dengan masukan yang berbeda dengan lebih baik.\n",
    "\n",
    "Nilai 𝑅² = 1 sesuai dengan SSR = 0, yaitu perfect fit karena nilai prediksi dan respons aktual saling cocok satu sama lain.\n",
    "\n",
    "## Simple Linear Regression\n",
    "Simple atau single-variate linear regression adalah kasus regresi linier yang paling sederhana dengan variabel independen tunggal, 𝐱 = 𝑥.\n",
    "\n",
    "Gambar berikut menggambarkan regresi linier sederhana:\n",
    "\n",
    "\n",
    "\n",
    "Saat menerapkan simple linear regression, kita biasanya mulai dengan kumpulan pasangan input-output (𝑥-𝑦) tertentu (lingkaran hijau). Pasangan ini adalah observasi kita. Misalnya, pengamatan paling kiri (lingkaran hijau) memiliki masukan 𝑥 = 5 dan keluaran aktual (tanggapan) 𝑦 = 5. Yang berikutnya memiliki 𝑥 = 15 dan 𝑦 = 20, dan seterusnya.\n",
    "\n",
    "Estimated regression function (garis hitam) memiliki persamaan 𝑓 (𝑥) = 𝑏₀ + 𝑏₁𝑥. Tujuan kita adalah menghitung nilai optimal dari bobot prediksi 𝑏₀ dan 𝑏₁ yang meminimalkan SSR dan menentukan estimated regression function. Nilai 𝑏₀, juga disebut intercept, menunjukkan titik di mana garis regresi yang diperkirakan melintasi sumbu 𝑦. Ini adalah nilai perkiraan respon 𝑓 (𝑥) untuk 𝑥 = 0. Nilai 𝑏₁ menentukan kemiringan/slope garis regresi yang diperkirakan.\n",
    "\n",
    "Predicted responses (kotak merah) adalah titik-titik pada regression line yang sesuai dengan nilai input. Misalnya, untuk input 𝑥 = 5, respons yang diprediksi adalah 𝑓 (5) = 8,33 (diwakili dengan kotak merah paling kiri).\n",
    "\n",
    "Residuals (garis abu-abu putus-putus vertikal) dapat dihitung sebagai 𝑦ᵢ - 𝑓 (𝐱ᵢ) = 𝑦ᵢ - 𝑏₀ - 𝑏₁𝑥ᵢ untuk 𝑖 = 1,…, 𝑛. Itu adalah jarak antara lingkaran hijau dan kotak merah. Saat kita menerapkan regresi linier, kita sebenarnya mencoba meminimalkan jarak ini dan membuat kotak merah sedekat mungkin dengan lingkaran hijau yang telah ditentukan sebelumnya.\n",
    "\n",
    "## Multiple Linear Regression\n",
    "Multiple atau multivariate linear regression adalah kasus regresi linier dengan dua atau lebih independent variables.\n",
    "\n",
    "Jika hanya ada dua independent variables, estimated regression function-nya adalah 𝑓 (𝑥₁, 𝑥₂) = 𝑏₀ + 𝑏₁𝑥₁ + 𝑏₂𝑥₂. Ini mewakili bidang regresi dalam ruang tiga dimensi. Tujuan dari regresi adalah untuk menentukan nilai bobot 𝑏₀, 𝑏₁, dan 𝑏₂ sedemikian rupa sehingga bidang ini sedekat mungkin dengan respons aktual dan menghasilkan SSR minimal.\n",
    "\n",
    "Kasus lebih dari dua independent variables adalah serupa, tetapi lebih umum. Estimated regression function adalah 𝑓 (𝑥₁,…, 𝑥ᵣ) = 𝑏₀ + 𝑏₁𝑥₁ + ⋯ + 𝑏ᵣ𝑥ᵣ, dan ada 𝑟 + 1 bobot yang harus ditentukan jika jumlah masukan adalah 𝑟.\n",
    "\n",
    "## Polynomial Regression\n",
    "Kita dapat menganggap polynomial regression sebagai kasus umum linear regression. Kita mengasumsikan polynomial dependence antara output dan inputs , dan menghasilkan, polynomial estimated regression function.\n",
    "\n",
    "Dengan kata lain, selain istilah linier seperti 𝑏₁𝑥₁, fungsi regresi kita 𝑓 dapat menyertakan istilah non-linier seperti 𝑏₂𝑥₁², 𝑏₃𝑥₁³, atau bahkan 𝑏₄𝑥₁𝑥₂, 𝑏₅𝑥₁²𝑥₂, dan seterusnya.\n",
    "\n",
    "Contoh paling sederhana dari polynomial regression memiliki satu independent variable, dan estimated regression function adalah polynomial of degree 2: 𝑓 (𝑥) = 𝑏₀ + 𝑏₁𝑥 + 𝑏₂𝑥². Sekarang, ingatlah bahwa kita ingin menghitung 𝑏₀, 𝑏₁, dan 𝑏₂, yang meminimalkan SSR.\n",
    "\n",
    "Dengan mengingat hal ini, bandingkan regression function sebelumnya dengan fungsi 𝑓 (𝑥₁, 𝑥₂) = 𝑏₀ + 𝑏₁𝑥₁ + 𝑏₂𝑥₂ yang digunakan untuk linear regression. Mereka terlihat sangat mirip dan keduanya merupakan linear functions of the unknowns 𝑏₀, 𝑏₁, dan 𝑏₂. Inilah mengapa kita dapat menyelesaikan polynomial regression problem sebagai linier problem dengan istilah 𝑥² dianggap sebagai input variable.\n",
    "\n",
    "Dalam kasus dua variabel dan polynomial of degree 2, regression function memiliki bentuk ini: 𝑓 (𝑥₁, 𝑥₂) = 𝑏₀ + 𝑏₁𝑥₁ + 𝑏₂𝑥₂ + 𝑏₃𝑥₁² + 𝑏₄𝑥₁𝑥₂ + 𝑏₅𝑥₂². Prosedur penyelesaian masalah identik dengan kasus sebelumnya. Kita menerapkan regresi linier untuk lima masukan: 𝑥₁, 𝑥₂, 𝑥₁², 𝑥₁𝑥₂, dan 𝑥₂². Hasil dari regresi adalah nilai dari enam bobot yang meminimalkan SSR: 𝑏₀, 𝑏₁, 𝑏₂, 𝑏₃, 𝑏₄, dan 𝑏₅.\n",
    "\n",
    "\n",
    "## Underfitting and Overfitting\n",
    "Satu pertanyaan sangat penting yang mungkin muncul saat kita menerapkan polynomial regression terkait dengan pilihan optimal degree dari polynomial regression function.\n",
    "\n",
    "Tidak ada aturan langsung untuk melakukan ini. Tergantung kasusnya. Namun, kita harus menyadari dua masalah yang mungkin mengikuti choice of the degree: underfitting dan overfitting.\n",
    "\n",
    "Underfitting terjadi jika model tidak dapat menangkap dependensi di antara data secara akurat, biasanya sebagai konsekuensi dari kesederhanaannya sendiri. Seringkali menghasilkan 𝑅² rendah dengan data yang diketahui dan kemampuan generalisasi yang buruk saat diterapkan dengan data baru.\n",
    "\n",
    "Overfitting terjadi saat model mempelajari dependensi di antara data dan fluktuasi acak. Dengan kata lain, model mempelajari data yang ada dengan terlalu baik. Model kompleks, yang memiliki banyak fitur atau istilah, sering kali cenderung overfitting. Ketika diterapkan pada data yang diketahui, model seperti itu biasanya menghasilkan 𝑅² yang tinggi. Namun, mereka sering tidak menggeneralisasi dengan baik dan memiliki lebih rendah secara signifikan 𝑅² saat digunakan dengan data baru.\n",
    "\n",
    "Gambar berikut mengilustrasikan model underfitted, well-fit, dan overfitted:\n",
    "\n",
    "\n",
    "\n",
    "Plot kiri atas menunjukkan garis linear regression yang memiliki 𝑅² rendah. Mungkin juga penting bahwa garis lurus tidak dapat mengambil fakta bahwa actual response meningkat saat 𝑥 menjauh dari 25 menuju nol. Ini adalah contoh underfitting.\n",
    "\n",
    "Plot kanan atas menggambarkanpolynomial regression dengan degree sama dengan 2. Dalam contoh ini, mungkin derajat optimal untuk memodelkan data tersebut. Model ini memiliki nilai 𝑅² yang memuaskan dalam banyak kasus dan menunjukkan tren dengan baik.\n",
    "\n",
    "Plot kiri bawah menampilkan polynomial regression dengan degree sama dengan 3. Nilai 𝑅² lebih tinggi dari pada kasus sebelumnya. Model ini berperilaku lebih baik dengan data yang diketahui daripada yang sebelumnya. Namun, ini menunjukkan beberapa tanda overfitting, terutama untuk nilai input yang mendekati 60 saat garis mulai menurun, meskipun data sebenarnya tidak menunjukkannya.\n",
    "\n",
    "Akhirnya, pada plot kanan bawah, kita dapat melihat kesesuaian yang sempurna: enam titik dan polynomial line dengan derajat 5 (atau lebih tinggi) menghasilkan 𝑅² = 1. Setiap respons aktual sama dengan prediksi yang sesuai.\n",
    "\n",
    "Dalam beberapa situasi, ini mungkin yang kita cari. Namun, dalam banyak kasus, ini adalah model yang terlalu pas. Ini cenderung memiliki perilaku yang buruk dengan data yang tidak terlihat, terutama dengan input yang lebih besar dari 50.\n",
    "\n",
    "Sebagai contoh, ini mengasumsikan, tanpa bukti apapun, bahwa terdapat penurunan yang signifikan dalam respon untuk 𝑥> 50 dan 𝑦 mencapai nol untuk 𝑥 mendekati 60. Perilaku tersebut merupakan konsekuensi dari usaha yang berlebihan untuk mempelajari dan menyesuaikan dengan data yang ada.\n",
    "\n",
    "## Implementing Linear Regression in Python\n",
    "### Simple Linear Regression With scikit-learn\n",
    "Mari kita mulai dengan kasus paling sederhana, yaitu simple linear regression.\n",
    "\n",
    "Ada lima langkah dasar saat kita menerapkan simple linear regression:\n",
    "\n",
    "- Import the packages and classes you need.\n",
    "- Provide data to work with and eventually do appropriate transformations.\n",
    "- Create a regression model and fit it with existing data.\n",
    "- Check the results of model fitting to know whether the model is satisfactory.\n",
    "- Apply the model for predictions.\n",
    "\n",
    "Langkah-langkah ini kurang lebih umum untuk sebagian besar pendekatan dan penerapan regression.\n",
    "\n",
    "Step 1: Import packages and classes\n",
    "\n",
    "Langkah pertama adalah mengimpor package numpy dan class LinearRegression dari sklearn.linear_model:"
   ]
  },
  {
   "cell_type": "code",
   "execution_count": 67,
   "id": "c188ac73",
   "metadata": {},
   "outputs": [],
   "source": [
    "import numpy as np\n",
    "import matplotlib.pyplot as plt\n",
    "from sklearn.linear_model import LinearRegression\n",
    "from sklearn.preprocessing import PolynomialFeatures\n",
    "import statsmodels.api as sm\n",
    "from sklearn import datasets\n",
    "import pandas as pd\n",
    "from sklearn import linear_model\n",
    "from sklearn.model_selection import train_test_split"
   ]
  },
  {
   "cell_type": "markdown",
   "id": "93a96669",
   "metadata": {},
   "source": [
    "Sekarang, kita memiliki semua fungsi yang kita butuhkan untuk menerapkan linear regression.\n",
    "\n",
    "Class sklearn.linear_model.LinearRegression akan digunakan untuk melakukan linear and polynomial regression serta membuat prediksi yang sesuai.\n",
    "\n",
    "Step 2: Provide data\n",
    "\n",
    "Langkah kedua adalah menentukan data untuk dikerjakan. Input (regressors, 𝑥) dan output (predictor, 𝑦) harus berupa array (instance kelas numpy.ndarray) atau objek serupa. Ini adalah cara paling sederhana dalam membuat data untuk regression:"
   ]
  },
  {
   "cell_type": "code",
   "execution_count": 2,
   "id": "d3dc5b79",
   "metadata": {},
   "outputs": [],
   "source": [
    "x = np.array([5, 15, 25, 35, 45, 55]).reshape((-1, 1))\n",
    "y = np.array([5, 20, 14, 32, 22, 38])"
   ]
  },
  {
   "cell_type": "markdown",
   "id": "3350b26a",
   "metadata": {},
   "source": [
    "Sekarang, kita memiliki dua array: input x dan output y. Kita harus memanggil .reshape() pada x karena array ini harus dua dimensi, atau lebih tepatnya, memiliki satu kolom dan baris sebanyak yang diperlukan. Persis seperti itulah yang ditentukan oleh argumen (-1, 1) .reshape().\n",
    "\n",
    "Beginilah tampilan x dan y sekarang:"
   ]
  },
  {
   "cell_type": "code",
   "execution_count": 3,
   "id": "b70047cc",
   "metadata": {
    "scrolled": true
   },
   "outputs": [
    {
     "name": "stdout",
     "output_type": "stream",
     "text": [
      "[[ 5]\n",
      " [15]\n",
      " [25]\n",
      " [35]\n",
      " [45]\n",
      " [55]]\n",
      "[ 5 20 14 32 22 38]\n"
     ]
    }
   ],
   "source": [
    "print(x)\n",
    "print(y)"
   ]
  },
  {
   "cell_type": "markdown",
   "id": "e5df84ec",
   "metadata": {},
   "source": [
    "Seperti yang kita lihat, x memiliki dua dimensi, dan x.shape adalah (6, 1), sedangkan y memiliki satu dimensi, dan y.shape adalah (6,).\n",
    "\n",
    "Step 3: Create a model and fit it\n",
    "\n",
    "Langkah selanjutnya adalah membuat linear regression model dan fit dengan data yang ada.\n",
    "\n",
    "Mari buat instance class LinearRegression, yang akan mewakili regression model:"
   ]
  },
  {
   "cell_type": "code",
   "execution_count": 4,
   "id": "a6632fd3",
   "metadata": {},
   "outputs": [],
   "source": [
    "model = LinearRegression()"
   ]
  },
  {
   "cell_type": "markdown",
   "id": "975bc985",
   "metadata": {},
   "source": [
    "Pernyataan ini membuat variable model sebagai instance dari LinearRegression. Kita dapat memberikan beberapa parameter opsional untuk LinearRegression:\n",
    "\n",
    "- fit_intercept is a Boolean (True by default) that decides whether to calculate the intercept 𝑏₀ (True) or consider it equal to zero (False).\n",
    "- normalize is a Boolean (False by default) that decides whether to normalize the input variables (True) or not (False).\n",
    "- copy_X is a Boolean (True by default) that decides whether to copy (True) or overwrite the input variables (False).\n",
    "- n_jobs is an integer or None (default) and represents the number of jobs used in parallel computation. None usually means one job and -1 to use all processors.\n",
    "\n",
    "Contoh ini menggunakan nilai default dari semua parameter.\n",
    "\n",
    "Saatnya mulai menggunakan model. Pertama, kita perlu memanggil .fit() pada model:"
   ]
  },
  {
   "cell_type": "code",
   "execution_count": 5,
   "id": "2ae5855e",
   "metadata": {},
   "outputs": [
    {
     "data": {
      "text/html": [
       "<style>#sk-container-id-1 {color: black;background-color: white;}#sk-container-id-1 pre{padding: 0;}#sk-container-id-1 div.sk-toggleable {background-color: white;}#sk-container-id-1 label.sk-toggleable__label {cursor: pointer;display: block;width: 100%;margin-bottom: 0;padding: 0.3em;box-sizing: border-box;text-align: center;}#sk-container-id-1 label.sk-toggleable__label-arrow:before {content: \"▸\";float: left;margin-right: 0.25em;color: #696969;}#sk-container-id-1 label.sk-toggleable__label-arrow:hover:before {color: black;}#sk-container-id-1 div.sk-estimator:hover label.sk-toggleable__label-arrow:before {color: black;}#sk-container-id-1 div.sk-toggleable__content {max-height: 0;max-width: 0;overflow: hidden;text-align: left;background-color: #f0f8ff;}#sk-container-id-1 div.sk-toggleable__content pre {margin: 0.2em;color: black;border-radius: 0.25em;background-color: #f0f8ff;}#sk-container-id-1 input.sk-toggleable__control:checked~div.sk-toggleable__content {max-height: 200px;max-width: 100%;overflow: auto;}#sk-container-id-1 input.sk-toggleable__control:checked~label.sk-toggleable__label-arrow:before {content: \"▾\";}#sk-container-id-1 div.sk-estimator input.sk-toggleable__control:checked~label.sk-toggleable__label {background-color: #d4ebff;}#sk-container-id-1 div.sk-label input.sk-toggleable__control:checked~label.sk-toggleable__label {background-color: #d4ebff;}#sk-container-id-1 input.sk-hidden--visually {border: 0;clip: rect(1px 1px 1px 1px);clip: rect(1px, 1px, 1px, 1px);height: 1px;margin: -1px;overflow: hidden;padding: 0;position: absolute;width: 1px;}#sk-container-id-1 div.sk-estimator {font-family: monospace;background-color: #f0f8ff;border: 1px dotted black;border-radius: 0.25em;box-sizing: border-box;margin-bottom: 0.5em;}#sk-container-id-1 div.sk-estimator:hover {background-color: #d4ebff;}#sk-container-id-1 div.sk-parallel-item::after {content: \"\";width: 100%;border-bottom: 1px solid gray;flex-grow: 1;}#sk-container-id-1 div.sk-label:hover label.sk-toggleable__label {background-color: #d4ebff;}#sk-container-id-1 div.sk-serial::before {content: \"\";position: absolute;border-left: 1px solid gray;box-sizing: border-box;top: 0;bottom: 0;left: 50%;z-index: 0;}#sk-container-id-1 div.sk-serial {display: flex;flex-direction: column;align-items: center;background-color: white;padding-right: 0.2em;padding-left: 0.2em;position: relative;}#sk-container-id-1 div.sk-item {position: relative;z-index: 1;}#sk-container-id-1 div.sk-parallel {display: flex;align-items: stretch;justify-content: center;background-color: white;position: relative;}#sk-container-id-1 div.sk-item::before, #sk-container-id-1 div.sk-parallel-item::before {content: \"\";position: absolute;border-left: 1px solid gray;box-sizing: border-box;top: 0;bottom: 0;left: 50%;z-index: -1;}#sk-container-id-1 div.sk-parallel-item {display: flex;flex-direction: column;z-index: 1;position: relative;background-color: white;}#sk-container-id-1 div.sk-parallel-item:first-child::after {align-self: flex-end;width: 50%;}#sk-container-id-1 div.sk-parallel-item:last-child::after {align-self: flex-start;width: 50%;}#sk-container-id-1 div.sk-parallel-item:only-child::after {width: 0;}#sk-container-id-1 div.sk-dashed-wrapped {border: 1px dashed gray;margin: 0 0.4em 0.5em 0.4em;box-sizing: border-box;padding-bottom: 0.4em;background-color: white;}#sk-container-id-1 div.sk-label label {font-family: monospace;font-weight: bold;display: inline-block;line-height: 1.2em;}#sk-container-id-1 div.sk-label-container {text-align: center;}#sk-container-id-1 div.sk-container {/* jupyter's `normalize.less` sets `[hidden] { display: none; }` but bootstrap.min.css set `[hidden] { display: none !important; }` so we also need the `!important` here to be able to override the default hidden behavior on the sphinx rendered scikit-learn.org. See: https://github.com/scikit-learn/scikit-learn/issues/21755 */display: inline-block !important;position: relative;}#sk-container-id-1 div.sk-text-repr-fallback {display: none;}</style><div id=\"sk-container-id-1\" class=\"sk-top-container\"><div class=\"sk-text-repr-fallback\"><pre>LinearRegression()</pre><b>In a Jupyter environment, please rerun this cell to show the HTML representation or trust the notebook. <br />On GitHub, the HTML representation is unable to render, please try loading this page with nbviewer.org.</b></div><div class=\"sk-container\" hidden><div class=\"sk-item\"><div class=\"sk-estimator sk-toggleable\"><input class=\"sk-toggleable__control sk-hidden--visually\" id=\"sk-estimator-id-1\" type=\"checkbox\" checked><label for=\"sk-estimator-id-1\" class=\"sk-toggleable__label sk-toggleable__label-arrow\">LinearRegression</label><div class=\"sk-toggleable__content\"><pre>LinearRegression()</pre></div></div></div></div></div>"
      ],
      "text/plain": [
       "LinearRegression()"
      ]
     },
     "execution_count": 5,
     "metadata": {},
     "output_type": "execute_result"
    }
   ],
   "source": [
    "model.fit(x, y)"
   ]
  },
  {
   "cell_type": "code",
   "execution_count": 6,
   "id": "5258cfc6",
   "metadata": {
    "scrolled": true
   },
   "outputs": [
    {
     "data": {
      "text/html": [
       "<style>#sk-container-id-2 {color: black;background-color: white;}#sk-container-id-2 pre{padding: 0;}#sk-container-id-2 div.sk-toggleable {background-color: white;}#sk-container-id-2 label.sk-toggleable__label {cursor: pointer;display: block;width: 100%;margin-bottom: 0;padding: 0.3em;box-sizing: border-box;text-align: center;}#sk-container-id-2 label.sk-toggleable__label-arrow:before {content: \"▸\";float: left;margin-right: 0.25em;color: #696969;}#sk-container-id-2 label.sk-toggleable__label-arrow:hover:before {color: black;}#sk-container-id-2 div.sk-estimator:hover label.sk-toggleable__label-arrow:before {color: black;}#sk-container-id-2 div.sk-toggleable__content {max-height: 0;max-width: 0;overflow: hidden;text-align: left;background-color: #f0f8ff;}#sk-container-id-2 div.sk-toggleable__content pre {margin: 0.2em;color: black;border-radius: 0.25em;background-color: #f0f8ff;}#sk-container-id-2 input.sk-toggleable__control:checked~div.sk-toggleable__content {max-height: 200px;max-width: 100%;overflow: auto;}#sk-container-id-2 input.sk-toggleable__control:checked~label.sk-toggleable__label-arrow:before {content: \"▾\";}#sk-container-id-2 div.sk-estimator input.sk-toggleable__control:checked~label.sk-toggleable__label {background-color: #d4ebff;}#sk-container-id-2 div.sk-label input.sk-toggleable__control:checked~label.sk-toggleable__label {background-color: #d4ebff;}#sk-container-id-2 input.sk-hidden--visually {border: 0;clip: rect(1px 1px 1px 1px);clip: rect(1px, 1px, 1px, 1px);height: 1px;margin: -1px;overflow: hidden;padding: 0;position: absolute;width: 1px;}#sk-container-id-2 div.sk-estimator {font-family: monospace;background-color: #f0f8ff;border: 1px dotted black;border-radius: 0.25em;box-sizing: border-box;margin-bottom: 0.5em;}#sk-container-id-2 div.sk-estimator:hover {background-color: #d4ebff;}#sk-container-id-2 div.sk-parallel-item::after {content: \"\";width: 100%;border-bottom: 1px solid gray;flex-grow: 1;}#sk-container-id-2 div.sk-label:hover label.sk-toggleable__label {background-color: #d4ebff;}#sk-container-id-2 div.sk-serial::before {content: \"\";position: absolute;border-left: 1px solid gray;box-sizing: border-box;top: 0;bottom: 0;left: 50%;z-index: 0;}#sk-container-id-2 div.sk-serial {display: flex;flex-direction: column;align-items: center;background-color: white;padding-right: 0.2em;padding-left: 0.2em;position: relative;}#sk-container-id-2 div.sk-item {position: relative;z-index: 1;}#sk-container-id-2 div.sk-parallel {display: flex;align-items: stretch;justify-content: center;background-color: white;position: relative;}#sk-container-id-2 div.sk-item::before, #sk-container-id-2 div.sk-parallel-item::before {content: \"\";position: absolute;border-left: 1px solid gray;box-sizing: border-box;top: 0;bottom: 0;left: 50%;z-index: -1;}#sk-container-id-2 div.sk-parallel-item {display: flex;flex-direction: column;z-index: 1;position: relative;background-color: white;}#sk-container-id-2 div.sk-parallel-item:first-child::after {align-self: flex-end;width: 50%;}#sk-container-id-2 div.sk-parallel-item:last-child::after {align-self: flex-start;width: 50%;}#sk-container-id-2 div.sk-parallel-item:only-child::after {width: 0;}#sk-container-id-2 div.sk-dashed-wrapped {border: 1px dashed gray;margin: 0 0.4em 0.5em 0.4em;box-sizing: border-box;padding-bottom: 0.4em;background-color: white;}#sk-container-id-2 div.sk-label label {font-family: monospace;font-weight: bold;display: inline-block;line-height: 1.2em;}#sk-container-id-2 div.sk-label-container {text-align: center;}#sk-container-id-2 div.sk-container {/* jupyter's `normalize.less` sets `[hidden] { display: none; }` but bootstrap.min.css set `[hidden] { display: none !important; }` so we also need the `!important` here to be able to override the default hidden behavior on the sphinx rendered scikit-learn.org. See: https://github.com/scikit-learn/scikit-learn/issues/21755 */display: inline-block !important;position: relative;}#sk-container-id-2 div.sk-text-repr-fallback {display: none;}</style><div id=\"sk-container-id-2\" class=\"sk-top-container\"><div class=\"sk-text-repr-fallback\"><pre>LinearRegression()</pre><b>In a Jupyter environment, please rerun this cell to show the HTML representation or trust the notebook. <br />On GitHub, the HTML representation is unable to render, please try loading this page with nbviewer.org.</b></div><div class=\"sk-container\" hidden><div class=\"sk-item\"><div class=\"sk-estimator sk-toggleable\"><input class=\"sk-toggleable__control sk-hidden--visually\" id=\"sk-estimator-id-2\" type=\"checkbox\" checked><label for=\"sk-estimator-id-2\" class=\"sk-toggleable__label sk-toggleable__label-arrow\">LinearRegression</label><div class=\"sk-toggleable__content\"><pre>LinearRegression()</pre></div></div></div></div></div>"
      ],
      "text/plain": [
       "LinearRegression()"
      ]
     },
     "execution_count": 6,
     "metadata": {},
     "output_type": "execute_result"
    }
   ],
   "source": [
    "LinearRegression(copy_X=True, fit_intercept=True, n_jobs=None)"
   ]
  },
  {
   "cell_type": "markdown",
   "id": "cb4d3bfb",
   "metadata": {},
   "source": [
    "Dengan .fit(), kita menghitung nilai optimal dari bobot 𝑏₀ dan 𝑏₁, menggunakan masukan dan keluaran yang ada (x dan y) sebagai argumen. .fit() mengembalikan self, yang merupakan variable  model itu sendiri. Itulah mengapa kita dapat mengganti dua pernyataan terakhir dengan yang ini:"
   ]
  },
  {
   "cell_type": "markdown",
   "id": "b1e773ae",
   "metadata": {},
   "source": [
    "Pernyataan ini melakukan hal yang sama dengan dua pernyataan sebelumnya, hanya lebih pendek.\n",
    "\n",
    "Step 4: Get results\n",
    "\n",
    "Setelah model kita di-fit, kita bisa mendapatkan hasil untuk memeriksa apakah model bekerja dengan benar.\n",
    "\n",
    "Kita bisa mendapatkan coefficient of determination (𝑅²) dengan .score() pada model:"
   ]
  },
  {
   "cell_type": "code",
   "execution_count": 7,
   "id": "f74d5277",
   "metadata": {},
   "outputs": [
    {
     "name": "stdout",
     "output_type": "stream",
     "text": [
      "coefficient of determination: 0.715875613747954\n"
     ]
    }
   ],
   "source": [
    "r_sq = model.score(x,y)\n",
    "print('coefficient of determination:', r_sq)"
   ]
  },
  {
   "cell_type": "markdown",
   "id": "77eefbfb",
   "metadata": {},
   "source": [
    "Saat kita memakai .score(), argumennya juga merupakan predictor x dan regressor y, dan nilai kembaliannya adalah 𝑅².\n",
    "\n",
    "Atribut model adalah .intercept_, yang mewakili coefficient, 𝑏₀ dan .coef_, yang mewakili 𝑏₁:"
   ]
  },
  {
   "cell_type": "code",
   "execution_count": 8,
   "id": "983d1d8a",
   "metadata": {},
   "outputs": [
    {
     "name": "stdout",
     "output_type": "stream",
     "text": [
      "intercept: 5.633333333333329\n",
      "slope: [0.54]\n"
     ]
    }
   ],
   "source": [
    "print('intercept:', model.intercept_)\n",
    "print('slope:', model.coef_)"
   ]
  },
  {
   "cell_type": "markdown",
   "id": "bc69e8d2",
   "metadata": {},
   "source": [
    "Kode di atas menggambarkan cara mendapatkan 𝑏₀ dan 𝑏₁. kita dapat melihat bahwa .intercept_ adalah scalar, sedangkan .coef_ adalah array.\n",
    "\n",
    "Nilai 𝑏₀ = 5,63 (kurang-lebih) menggambarkan bahwa model kita memprediksi respons 5,63 ketika 𝑥 adalah nol. Nilai 𝑏₁ = 0,54 berarti respons yang diprediksi naik 0,54 saat 𝑥 naik satu.\n",
    "\n",
    "Kita harus memperhatikan bahwa kita juga dapat memberikan y sebagai two-dimensional array. Dalam kasus ini, kita akan mendapatkan hasil yang serupa. Seperti inilah tampilannya:"
   ]
  },
  {
   "cell_type": "code",
   "execution_count": 9,
   "id": "fdfca461",
   "metadata": {},
   "outputs": [
    {
     "name": "stdout",
     "output_type": "stream",
     "text": [
      "intercept: [5.63333333]\n",
      "slope: [[0.54]]\n"
     ]
    }
   ],
   "source": [
    "new_model = LinearRegression().fit(x, y.reshape((-1, 1)))\n",
    "print('intercept:', new_model.intercept_)\n",
    "print('slope:', new_model.coef_)"
   ]
  },
  {
   "cell_type": "markdown",
   "id": "01038a90",
   "metadata": {},
   "source": [
    "Seperti yang kita lihat, contoh ini sangat mirip dengan yang sebelumnya, tetapi dalam kasus ini, .intercept_ adalah one-dimensional array dengan elemen tunggal 𝑏₀, dan .coef_ adalah two-dimensional array dengan elemen tunggal 𝑏₁.\n",
    "\n",
    "Step 5: Predict response\n",
    "\n",
    "Setelah model yang dibuat memuaskan, kita dapat menggunakannya untuk prediksi dengan data baru atau yang sudah ada.\n",
    "\n",
    "Untuk mendapatkan respons yang diprediksi, gunakan .predict():\n",
    "\n"
   ]
  },
  {
   "cell_type": "code",
   "execution_count": 10,
   "id": "3ced4192",
   "metadata": {},
   "outputs": [
    {
     "name": "stdout",
     "output_type": "stream",
     "text": [
      "predicted response:\n",
      "[ 8.33333333 13.73333333 19.13333333 24.53333333 29.93333333 35.33333333]\n"
     ]
    }
   ],
   "source": [
    "y_pred = model.predict(x)\n",
    "print('predicted response:', y_pred, sep='\\n')"
   ]
  },
  {
   "cell_type": "code",
   "execution_count": 11,
   "id": "d229eeb4",
   "metadata": {},
   "outputs": [
    {
     "data": {
      "image/png": "[encoded data removed]",
      "text/plain": [
       "<Figure size 640x480 with 1 Axes>"
      ]
     },
     "metadata": {},
     "output_type": "display_data"
    }
   ],
   "source": [
    "plt.scatter(x, y, alpha=0.5)\n",
    "plt.plot(x, y_pred)\n",
    "\n",
    "plt.title('Scatter plot x and y')\n",
    "plt.xlabel('x')\n",
    "plt.ylabel('y')\n",
    "plt.show()"
   ]
  },
  {
   "cell_type": "markdown",
   "id": "17e50b49",
   "metadata": {},
   "source": [
    "Saat menerapkan .predict (), kita meneruskan regressor sebagai argumen dan mendapatkan prediksi respons yang sesuai.\n",
    "\n",
    "Ini adalah cara yang hampir identik untuk memprediksi respons:"
   ]
  },
  {
   "cell_type": "code",
   "execution_count": 12,
   "id": "544ee77d",
   "metadata": {},
   "outputs": [
    {
     "name": "stdout",
     "output_type": "stream",
     "text": [
      "predicted response:\n",
      "[[ 8.33333333]\n",
      " [13.73333333]\n",
      " [19.13333333]\n",
      " [24.53333333]\n",
      " [29.93333333]\n",
      " [35.33333333]]\n"
     ]
    }
   ],
   "source": [
    "y_pred = model.intercept_ + model.coef_ * x\n",
    "print('predicted response:', y_pred, sep='\\n')"
   ]
  },
  {
   "cell_type": "markdown",
   "id": "b1173340",
   "metadata": {},
   "source": [
    "Dalam kasus ini, kita mengalikan setiap elemen x dengan model.coef_ dan menambahkan model.intercept_ ke produk.\n",
    "\n",
    "Output di sini berbeda dari contoh sebelumnya hanya dalam dimensi. Respons yang diprediksi sekarang menjadi two-dimensional array, sedangkan pada kasus sebelumnya, memiliki satu dimensi.\n",
    "\n",
    "Jika kita mengurangi jumlah dimensi x menjadi satu, kedua pendekatan ini akan menghasilkan hasil yang sama. Kita dapat melakukan ini dengan mengganti x dengan x.reshape(-1), x.flatten(), atau x.ravel() saat mengalikannya dengan model.coef_.\n",
    "\n",
    "Dalam praktiknya, model regresi sering diterapkan untuk forecasts. Ini berarti kita dapat menggunakan model yang sudah di-fit untuk menghitung output berdasarkan beberapa input baru lainnya:"
   ]
  },
  {
   "cell_type": "code",
   "execution_count": 13,
   "id": "46662f30",
   "metadata": {},
   "outputs": [
    {
     "name": "stdout",
     "output_type": "stream",
     "text": [
      "[[0]\n",
      " [1]\n",
      " [2]\n",
      " [3]\n",
      " [4]]\n",
      "[5.63333333 6.17333333 6.71333333 7.25333333 7.79333333]\n"
     ]
    }
   ],
   "source": [
    "x_new = np.arange(5).reshape((-1, 1))\n",
    "print(x_new)\n",
    "y_new = model.predict(x_new)\n",
    "print(y_new)"
   ]
  },
  {
   "cell_type": "markdown",
   "id": "938e8409",
   "metadata": {},
   "source": [
    "Di sini .predict() diterapkan ke regressor baru x_new dan menghasilkan respons y_new. Contoh ini dengan mudah menggunakan arange() dari numpy untuk menghasilkan array dengan elemen dari 0 (inklusif) hingga 5 (eksklusif), yaitu 0, 1, 2, 3, dan 4.\n",
    "\n",
    "## Multiple Linear Regression With scikit-learn\n",
    "Kita dapat menerapkan multiple linear regression dengan mengikuti langkah-langkah yang sama seperti yang kita lakukan untuk simple regression.\n",
    "\n",
    "Steps 1 and 2: Import packages and classes, and provide data\n",
    "\n",
    "Pertama, kita mengimpor numpy dan sklearn.linear_model.LinearRegression serta memberikan masukan dan keluaran yang diketahui:"
   ]
  },
  {
   "cell_type": "code",
   "execution_count": 14,
   "id": "75738f04",
   "metadata": {},
   "outputs": [],
   "source": [
    "x = [[0, 1], [5, 1], [15, 2], [25, 5], [35, 11], [45, 15], [55, 34], [60, 35]]\n",
    "y = [4, 5, 20, 14, 32, 22, 38, 43]\n",
    "x, y = np.array(x), np.array(y)"
   ]
  },
  {
   "cell_type": "markdown",
   "id": "5f3ad6f5",
   "metadata": {},
   "source": [
    "Itu adalah cara sederhana untuk menentukan input x dan output y. Kita dapat mencetak x dan y untuk melihat tampilannya:"
   ]
  },
  {
   "cell_type": "code",
   "execution_count": 15,
   "id": "f8d43e69",
   "metadata": {},
   "outputs": [
    {
     "name": "stdout",
     "output_type": "stream",
     "text": [
      "[[ 0  1]\n",
      " [ 5  1]\n",
      " [15  2]\n",
      " [25  5]\n",
      " [35 11]\n",
      " [45 15]\n",
      " [55 34]\n",
      " [60 35]]\n",
      "[ 4  5 20 14 32 22 38 43]\n"
     ]
    }
   ],
   "source": [
    "print(x)\n",
    "print(y)"
   ]
  },
  {
   "cell_type": "markdown",
   "id": "7b08489b",
   "metadata": {},
   "source": [
    "Dalam multiple linear regression, x adalah two-dimensional array dengan setidaknya dua kolom, sedangkan y biasanya adalah one-dimensional array. Ini adalah contoh sederhana dari multiple linear regression, dan x memiliki tepat dua kolom.\n",
    "\n",
    "Step 3: Create a model and fit it\n",
    "\n",
    "Langkah selanjutnya adalah membuat regression model sebagai instance LinearRegression dan menyesuaikannya dengan .fit():"
   ]
  },
  {
   "cell_type": "code",
   "execution_count": 16,
   "id": "fe5093cb",
   "metadata": {},
   "outputs": [
    {
     "data": {
      "text/html": [
       "<style>#sk-container-id-3 {color: black;background-color: white;}#sk-container-id-3 pre{padding: 0;}#sk-container-id-3 div.sk-toggleable {background-color: white;}#sk-container-id-3 label.sk-toggleable__label {cursor: pointer;display: block;width: 100%;margin-bottom: 0;padding: 0.3em;box-sizing: border-box;text-align: center;}#sk-container-id-3 label.sk-toggleable__label-arrow:before {content: \"▸\";float: left;margin-right: 0.25em;color: #696969;}#sk-container-id-3 label.sk-toggleable__label-arrow:hover:before {color: black;}#sk-container-id-3 div.sk-estimator:hover label.sk-toggleable__label-arrow:before {color: black;}#sk-container-id-3 div.sk-toggleable__content {max-height: 0;max-width: 0;overflow: hidden;text-align: left;background-color: #f0f8ff;}#sk-container-id-3 div.sk-toggleable__content pre {margin: 0.2em;color: black;border-radius: 0.25em;background-color: #f0f8ff;}#sk-container-id-3 input.sk-toggleable__control:checked~div.sk-toggleable__content {max-height: 200px;max-width: 100%;overflow: auto;}#sk-container-id-3 input.sk-toggleable__control:checked~label.sk-toggleable__label-arrow:before {content: \"▾\";}#sk-container-id-3 div.sk-estimator input.sk-toggleable__control:checked~label.sk-toggleable__label {background-color: #d4ebff;}#sk-container-id-3 div.sk-label input.sk-toggleable__control:checked~label.sk-toggleable__label {background-color: #d4ebff;}#sk-container-id-3 input.sk-hidden--visually {border: 0;clip: rect(1px 1px 1px 1px);clip: rect(1px, 1px, 1px, 1px);height: 1px;margin: -1px;overflow: hidden;padding: 0;position: absolute;width: 1px;}#sk-container-id-3 div.sk-estimator {font-family: monospace;background-color: #f0f8ff;border: 1px dotted black;border-radius: 0.25em;box-sizing: border-box;margin-bottom: 0.5em;}#sk-container-id-3 div.sk-estimator:hover {background-color: #d4ebff;}#sk-container-id-3 div.sk-parallel-item::after {content: \"\";width: 100%;border-bottom: 1px solid gray;flex-grow: 1;}#sk-container-id-3 div.sk-label:hover label.sk-toggleable__label {background-color: #d4ebff;}#sk-container-id-3 div.sk-serial::before {content: \"\";position: absolute;border-left: 1px solid gray;box-sizing: border-box;top: 0;bottom: 0;left: 50%;z-index: 0;}#sk-container-id-3 div.sk-serial {display: flex;flex-direction: column;align-items: center;background-color: white;padding-right: 0.2em;padding-left: 0.2em;position: relative;}#sk-container-id-3 div.sk-item {position: relative;z-index: 1;}#sk-container-id-3 div.sk-parallel {display: flex;align-items: stretch;justify-content: center;background-color: white;position: relative;}#sk-container-id-3 div.sk-item::before, #sk-container-id-3 div.sk-parallel-item::before {content: \"\";position: absolute;border-left: 1px solid gray;box-sizing: border-box;top: 0;bottom: 0;left: 50%;z-index: -1;}#sk-container-id-3 div.sk-parallel-item {display: flex;flex-direction: column;z-index: 1;position: relative;background-color: white;}#sk-container-id-3 div.sk-parallel-item:first-child::after {align-self: flex-end;width: 50%;}#sk-container-id-3 div.sk-parallel-item:last-child::after {align-self: flex-start;width: 50%;}#sk-container-id-3 div.sk-parallel-item:only-child::after {width: 0;}#sk-container-id-3 div.sk-dashed-wrapped {border: 1px dashed gray;margin: 0 0.4em 0.5em 0.4em;box-sizing: border-box;padding-bottom: 0.4em;background-color: white;}#sk-container-id-3 div.sk-label label {font-family: monospace;font-weight: bold;display: inline-block;line-height: 1.2em;}#sk-container-id-3 div.sk-label-container {text-align: center;}#sk-container-id-3 div.sk-container {/* jupyter's `normalize.less` sets `[hidden] { display: none; }` but bootstrap.min.css set `[hidden] { display: none !important; }` so we also need the `!important` here to be able to override the default hidden behavior on the sphinx rendered scikit-learn.org. See: https://github.com/scikit-learn/scikit-learn/issues/21755 */display: inline-block !important;position: relative;}#sk-container-id-3 div.sk-text-repr-fallback {display: none;}</style><div id=\"sk-container-id-3\" class=\"sk-top-container\"><div class=\"sk-text-repr-fallback\"><pre>LinearRegression()</pre><b>In a Jupyter environment, please rerun this cell to show the HTML representation or trust the notebook. <br />On GitHub, the HTML representation is unable to render, please try loading this page with nbviewer.org.</b></div><div class=\"sk-container\" hidden><div class=\"sk-item\"><div class=\"sk-estimator sk-toggleable\"><input class=\"sk-toggleable__control sk-hidden--visually\" id=\"sk-estimator-id-3\" type=\"checkbox\" checked><label for=\"sk-estimator-id-3\" class=\"sk-toggleable__label sk-toggleable__label-arrow\">LinearRegression</label><div class=\"sk-toggleable__content\"><pre>LinearRegression()</pre></div></div></div></div></div>"
      ],
      "text/plain": [
       "LinearRegression()"
      ]
     },
     "execution_count": 16,
     "metadata": {},
     "output_type": "execute_result"
    }
   ],
   "source": [
    "model = LinearRegression()\n",
    "model.fit(x, y)"
   ]
  },
  {
   "cell_type": "markdown",
   "id": "a00800de",
   "metadata": {},
   "source": [
    "Hasil dari pernyataan ini adalah variabel model yang mengacu pada objek LinearRegression. Ini mewakili regression model yang di-fit dengan data yang ada.\n",
    "\n",
    "Step 4: Get results\n",
    "\n",
    "Kita dapat memperoleh properti model dengan cara yang sama seperti dalam kasus simple linear regression:"
   ]
  },
  {
   "cell_type": "code",
   "execution_count": 17,
   "id": "92646884",
   "metadata": {},
   "outputs": [
    {
     "name": "stdout",
     "output_type": "stream",
     "text": [
      "coefficient of determination: 0.8615939258756775\n",
      "intercept: 5.52257927519819\n",
      "slope: [0.44706965 0.25502548]\n"
     ]
    }
   ],
   "source": [
    "r_sq = model.score(x, y)\n",
    "print('coefficient of determination:', r_sq)\n",
    "print('intercept:', model.intercept_)\n",
    "print('slope:', model.coef_)"
   ]
  },
  {
   "cell_type": "markdown",
   "id": "d9ccb4fa",
   "metadata": {},
   "source": [
    "Kita mendapatkan nilai 𝑅² menggunakan .score() dan nilai estimators dari regression coefficients dengan .intercept_ and .coef_. Sekali lagi, .intercept_ memegang bias 𝑏₀, dan sekarang .coef_ adalah array yang masing-masing berisi 𝑏₁ dan 𝑏₂.\n",
    "\n",
    "Dalam contoh ini, intercept kira-kira 5,52, dan ini adalah nilai respons yang diprediksi ketika 𝑥₁ = 𝑥₂ = 0. Peningkatan 𝑥₁ sebesar 1 menghasilkan kenaikan respons yang diprediksi sebesar 0,45. Demikian pula, saat 𝑥₂ naik sebesar 1, respons naik sebesar 0,26.\n",
    "\n",
    "Step 5: Predict response\n",
    "\n",
    "Prediksi juga bekerja dengan cara yang sama seperti dalam kasus simple linear regression:"
   ]
  },
  {
   "cell_type": "code",
   "execution_count": 18,
   "id": "2def4799",
   "metadata": {
    "scrolled": true
   },
   "outputs": [
    {
     "name": "stdout",
     "output_type": "stream",
     "text": [
      "predicted response:\n",
      "[ 5.77760476  8.012953   12.73867497 17.9744479  23.97529728 29.4660957\n",
      " 38.78227633 41.27265006]\n"
     ]
    }
   ],
   "source": [
    "y_pred = model.predict(x)\n",
    "print('predicted response:', y_pred, sep='\\n')"
   ]
  },
  {
   "cell_type": "markdown",
   "id": "22ea39ef",
   "metadata": {},
   "source": [
    "Respons yang diprediksi diperoleh dengan .predict(), yang sangat mirip dengan berikut ini:"
   ]
  },
  {
   "cell_type": "code",
   "execution_count": 19,
   "id": "81658aaa",
   "metadata": {},
   "outputs": [
    {
     "name": "stdout",
     "output_type": "stream",
     "text": [
      "predicted response:\n",
      "[ 5.77760476  8.012953   12.73867497 17.9744479  23.97529728 29.4660957\n",
      " 38.78227633 41.27265006]\n"
     ]
    }
   ],
   "source": [
    "y_pred = model.intercept_ + np.sum(model.coef_ * x, axis=1)\n",
    "print('predicted response:', y_pred, sep='\\n')"
   ]
  },
  {
   "cell_type": "markdown",
   "id": "d165750d",
   "metadata": {},
   "source": [
    "Kita dapat memprediksi nilai output dengan mengalikan setiap kolom input dengan bobot yang sesuai, menjumlahkan hasilnya dan menambahkan intercept ke jumlahnya.\n",
    "\n",
    "Kita juga dapat menerapkan model ini ke data baru:\n",
    "\n"
   ]
  },
  {
   "cell_type": "code",
   "execution_count": 20,
   "id": "535034ce",
   "metadata": {
    "scrolled": true
   },
   "outputs": [
    {
     "name": "stdout",
     "output_type": "stream",
     "text": [
      "[[0 1]\n",
      " [2 3]\n",
      " [4 5]\n",
      " [6 7]\n",
      " [8 9]]\n",
      "[ 5.77760476  7.18179502  8.58598528  9.99017554 11.3943658 ]\n"
     ]
    }
   ],
   "source": [
    "x_new = np.arange(10).reshape((-1, 2))\n",
    "print(x_new)\n",
    "y_new = model.predict(x_new)\n",
    "print(y_new)"
   ]
  },
  {
   "cell_type": "markdown",
   "id": "b21b83d5",
   "metadata": {},
   "source": [
    "## Polynomial Regression With scikit-learn\n",
    "Menerapkan polynomial regression dengan scikit-learn sangat mirip dengan linear regression. Hanya ada satu langkah tambahan: kita perlu mengubah array input untuk menyertakan non-linear terms seperti 𝑥².\n",
    "\n",
    "### Step 1: Import packages and classes\n",
    "\n",
    "Selain numpy dan sklearn.linear_model.LinearRegression, kita juga harus mengimpor class PolynomialFeatures dari sklearn.preprocessing:\n",
    "\n",
    "### Step 2a: Provide data\n",
    "\n",
    "Langkah ini menentukan masukan dan keluaran dan sama seperti dalam kasus linear regression:"
   ]
  },
  {
   "cell_type": "code",
   "execution_count": 21,
   "id": "5265f9e6",
   "metadata": {
    "scrolled": true
   },
   "outputs": [
    {
     "name": "stdout",
     "output_type": "stream",
     "text": [
      "[[ 5]\n",
      " [15]\n",
      " [25]\n",
      " [35]\n",
      " [45]\n",
      " [55]]\n",
      "[15 11  2  8 25 32]\n"
     ]
    }
   ],
   "source": [
    "x = np.array([5, 15, 25, 35, 45, 55]).reshape((-1, 1))\n",
    "y = np.array([15, 11, 2, 8, 25, 32])\n",
    "print(x)\n",
    "print(y)"
   ]
  },
  {
   "cell_type": "code",
   "execution_count": 22,
   "id": "413c34f1",
   "metadata": {},
   "outputs": [
    {
     "data": {
      "text/plain": [
       "<matplotlib.collections.PathCollection at 0x17d09db45b0>"
      ]
     },
     "execution_count": 22,
     "metadata": {},
     "output_type": "execute_result"
    },
    {
     "data": {
      "image/png": "[encoded data removed]",
      "text/plain": [
       "<Figure size 640x480 with 1 Axes>"
      ]
     },
     "metadata": {},
     "output_type": "display_data"
    }
   ],
   "source": [
    "plt.scatter(x, y, alpha=0.5)"
   ]
  },
  {
   "cell_type": "markdown",
   "id": "59f37dce",
   "metadata": {},
   "source": [
    "Sekarang kita memiliki masukan dan keluaran dalam format yang sesuai. Perlu diingat bahwa kita memerlukan input berupa two-dimensional array. Itulah mengapa .reshape() digunakan.\n",
    "\n",
    "### Step 2b: Transform input data\n",
    "\n",
    "Ini adalah langkah baru yang perlu kita terapkan untuk polynomial regression!\n",
    "\n",
    "Seperti yang telah kita lihat sebelumnya, kita perlu menyertakan 𝑥² (dan mungkin istilah lain) sebagai fitur tambahan saat menerapkan polynomial regression. Oleh karena itu, kita  harus mengubah input array x agar berisi kolom tambahan dengan nilai 𝑥² (dan pada akhirnya lebih banyak fitur).\n",
    "\n",
    "Dimungkinkan untuk mengubah input array dengan beberapa cara (seperti menggunakan insert() dari numpy), tetapi kelas PolynomialFeatures sangat nyaman untuk tujuan ini. Mari buat instance dari classini:"
   ]
  },
  {
   "cell_type": "code",
   "execution_count": 23,
   "id": "00e76ddf",
   "metadata": {},
   "outputs": [],
   "source": [
    "transformer = PolynomialFeatures(degree=2, include_bias=False)"
   ]
  },
  {
   "cell_type": "markdown",
   "id": "12c24893",
   "metadata": {},
   "source": [
    "Variable transformer mengacu pada instance PolynomialFeatures yang dapat kita gunakan untuk transform input x.\n",
    "\n",
    "Kita dapat memberikan beberapa parameter opsional ke PolynomialFeatures:\n",
    "\n",
    "- degree is an integer (2 by default) that represents the degree of the polynomial regression function.\n",
    "- interaction_only is a Boolean (False by default) that decides whether to include only interaction features (True) or all features (False).\n",
    "- include_bias is a Boolean (True by default) that decides whether to include the bias (intercept) column of ones (True) or not (False).\n",
    "\n",
    "Contoh ini menggunakan nilai default dari semua parameter, tetapi terkadang kita ingin bereksperimen dengan degree dari function.\n",
    "\n",
    "Sebelum mengaplikasikan transformer, kita harus menyesuaikannya dengan .fit():"
   ]
  },
  {
   "cell_type": "code",
   "execution_count": 24,
   "id": "4ce3cb35",
   "metadata": {},
   "outputs": [
    {
     "data": {
      "text/html": [
       "<style>#sk-container-id-4 {color: black;background-color: white;}#sk-container-id-4 pre{padding: 0;}#sk-container-id-4 div.sk-toggleable {background-color: white;}#sk-container-id-4 label.sk-toggleable__label {cursor: pointer;display: block;width: 100%;margin-bottom: 0;padding: 0.3em;box-sizing: border-box;text-align: center;}#sk-container-id-4 label.sk-toggleable__label-arrow:before {content: \"▸\";float: left;margin-right: 0.25em;color: #696969;}#sk-container-id-4 label.sk-toggleable__label-arrow:hover:before {color: black;}#sk-container-id-4 div.sk-estimator:hover label.sk-toggleable__label-arrow:before {color: black;}#sk-container-id-4 div.sk-toggleable__content {max-height: 0;max-width: 0;overflow: hidden;text-align: left;background-color: #f0f8ff;}#sk-container-id-4 div.sk-toggleable__content pre {margin: 0.2em;color: black;border-radius: 0.25em;background-color: #f0f8ff;}#sk-container-id-4 input.sk-toggleable__control:checked~div.sk-toggleable__content {max-height: 200px;max-width: 100%;overflow: auto;}#sk-container-id-4 input.sk-toggleable__control:checked~label.sk-toggleable__label-arrow:before {content: \"▾\";}#sk-container-id-4 div.sk-estimator input.sk-toggleable__control:checked~label.sk-toggleable__label {background-color: #d4ebff;}#sk-container-id-4 div.sk-label input.sk-toggleable__control:checked~label.sk-toggleable__label {background-color: #d4ebff;}#sk-container-id-4 input.sk-hidden--visually {border: 0;clip: rect(1px 1px 1px 1px);clip: rect(1px, 1px, 1px, 1px);height: 1px;margin: -1px;overflow: hidden;padding: 0;position: absolute;width: 1px;}#sk-container-id-4 div.sk-estimator {font-family: monospace;background-color: #f0f8ff;border: 1px dotted black;border-radius: 0.25em;box-sizing: border-box;margin-bottom: 0.5em;}#sk-container-id-4 div.sk-estimator:hover {background-color: #d4ebff;}#sk-container-id-4 div.sk-parallel-item::after {content: \"\";width: 100%;border-bottom: 1px solid gray;flex-grow: 1;}#sk-container-id-4 div.sk-label:hover label.sk-toggleable__label {background-color: #d4ebff;}#sk-container-id-4 div.sk-serial::before {content: \"\";position: absolute;border-left: 1px solid gray;box-sizing: border-box;top: 0;bottom: 0;left: 50%;z-index: 0;}#sk-container-id-4 div.sk-serial {display: flex;flex-direction: column;align-items: center;background-color: white;padding-right: 0.2em;padding-left: 0.2em;position: relative;}#sk-container-id-4 div.sk-item {position: relative;z-index: 1;}#sk-container-id-4 div.sk-parallel {display: flex;align-items: stretch;justify-content: center;background-color: white;position: relative;}#sk-container-id-4 div.sk-item::before, #sk-container-id-4 div.sk-parallel-item::before {content: \"\";position: absolute;border-left: 1px solid gray;box-sizing: border-box;top: 0;bottom: 0;left: 50%;z-index: -1;}#sk-container-id-4 div.sk-parallel-item {display: flex;flex-direction: column;z-index: 1;position: relative;background-color: white;}#sk-container-id-4 div.sk-parallel-item:first-child::after {align-self: flex-end;width: 50%;}#sk-container-id-4 div.sk-parallel-item:last-child::after {align-self: flex-start;width: 50%;}#sk-container-id-4 div.sk-parallel-item:only-child::after {width: 0;}#sk-container-id-4 div.sk-dashed-wrapped {border: 1px dashed gray;margin: 0 0.4em 0.5em 0.4em;box-sizing: border-box;padding-bottom: 0.4em;background-color: white;}#sk-container-id-4 div.sk-label label {font-family: monospace;font-weight: bold;display: inline-block;line-height: 1.2em;}#sk-container-id-4 div.sk-label-container {text-align: center;}#sk-container-id-4 div.sk-container {/* jupyter's `normalize.less` sets `[hidden] { display: none; }` but bootstrap.min.css set `[hidden] { display: none !important; }` so we also need the `!important` here to be able to override the default hidden behavior on the sphinx rendered scikit-learn.org. See: https://github.com/scikit-learn/scikit-learn/issues/21755 */display: inline-block !important;position: relative;}#sk-container-id-4 div.sk-text-repr-fallback {display: none;}</style><div id=\"sk-container-id-4\" class=\"sk-top-container\"><div class=\"sk-text-repr-fallback\"><pre>PolynomialFeatures(include_bias=False)</pre><b>In a Jupyter environment, please rerun this cell to show the HTML representation or trust the notebook. <br />On GitHub, the HTML representation is unable to render, please try loading this page with nbviewer.org.</b></div><div class=\"sk-container\" hidden><div class=\"sk-item\"><div class=\"sk-estimator sk-toggleable\"><input class=\"sk-toggleable__control sk-hidden--visually\" id=\"sk-estimator-id-4\" type=\"checkbox\" checked><label for=\"sk-estimator-id-4\" class=\"sk-toggleable__label sk-toggleable__label-arrow\">PolynomialFeatures</label><div class=\"sk-toggleable__content\"><pre>PolynomialFeatures(include_bias=False)</pre></div></div></div></div></div>"
      ],
      "text/plain": [
       "PolynomialFeatures(include_bias=False)"
      ]
     },
     "execution_count": 24,
     "metadata": {},
     "output_type": "execute_result"
    }
   ],
   "source": [
    "transformer.fit(x)"
   ]
  },
  {
   "cell_type": "code",
   "execution_count": 25,
   "id": "fdf7911c",
   "metadata": {},
   "outputs": [
    {
     "data": {
      "text/html": [
       "<style>#sk-container-id-5 {color: black;background-color: white;}#sk-container-id-5 pre{padding: 0;}#sk-container-id-5 div.sk-toggleable {background-color: white;}#sk-container-id-5 label.sk-toggleable__label {cursor: pointer;display: block;width: 100%;margin-bottom: 0;padding: 0.3em;box-sizing: border-box;text-align: center;}#sk-container-id-5 label.sk-toggleable__label-arrow:before {content: \"▸\";float: left;margin-right: 0.25em;color: #696969;}#sk-container-id-5 label.sk-toggleable__label-arrow:hover:before {color: black;}#sk-container-id-5 div.sk-estimator:hover label.sk-toggleable__label-arrow:before {color: black;}#sk-container-id-5 div.sk-toggleable__content {max-height: 0;max-width: 0;overflow: hidden;text-align: left;background-color: #f0f8ff;}#sk-container-id-5 div.sk-toggleable__content pre {margin: 0.2em;color: black;border-radius: 0.25em;background-color: #f0f8ff;}#sk-container-id-5 input.sk-toggleable__control:checked~div.sk-toggleable__content {max-height: 200px;max-width: 100%;overflow: auto;}#sk-container-id-5 input.sk-toggleable__control:checked~label.sk-toggleable__label-arrow:before {content: \"▾\";}#sk-container-id-5 div.sk-estimator input.sk-toggleable__control:checked~label.sk-toggleable__label {background-color: #d4ebff;}#sk-container-id-5 div.sk-label input.sk-toggleable__control:checked~label.sk-toggleable__label {background-color: #d4ebff;}#sk-container-id-5 input.sk-hidden--visually {border: 0;clip: rect(1px 1px 1px 1px);clip: rect(1px, 1px, 1px, 1px);height: 1px;margin: -1px;overflow: hidden;padding: 0;position: absolute;width: 1px;}#sk-container-id-5 div.sk-estimator {font-family: monospace;background-color: #f0f8ff;border: 1px dotted black;border-radius: 0.25em;box-sizing: border-box;margin-bottom: 0.5em;}#sk-container-id-5 div.sk-estimator:hover {background-color: #d4ebff;}#sk-container-id-5 div.sk-parallel-item::after {content: \"\";width: 100%;border-bottom: 1px solid gray;flex-grow: 1;}#sk-container-id-5 div.sk-label:hover label.sk-toggleable__label {background-color: #d4ebff;}#sk-container-id-5 div.sk-serial::before {content: \"\";position: absolute;border-left: 1px solid gray;box-sizing: border-box;top: 0;bottom: 0;left: 50%;z-index: 0;}#sk-container-id-5 div.sk-serial {display: flex;flex-direction: column;align-items: center;background-color: white;padding-right: 0.2em;padding-left: 0.2em;position: relative;}#sk-container-id-5 div.sk-item {position: relative;z-index: 1;}#sk-container-id-5 div.sk-parallel {display: flex;align-items: stretch;justify-content: center;background-color: white;position: relative;}#sk-container-id-5 div.sk-item::before, #sk-container-id-5 div.sk-parallel-item::before {content: \"\";position: absolute;border-left: 1px solid gray;box-sizing: border-box;top: 0;bottom: 0;left: 50%;z-index: -1;}#sk-container-id-5 div.sk-parallel-item {display: flex;flex-direction: column;z-index: 1;position: relative;background-color: white;}#sk-container-id-5 div.sk-parallel-item:first-child::after {align-self: flex-end;width: 50%;}#sk-container-id-5 div.sk-parallel-item:last-child::after {align-self: flex-start;width: 50%;}#sk-container-id-5 div.sk-parallel-item:only-child::after {width: 0;}#sk-container-id-5 div.sk-dashed-wrapped {border: 1px dashed gray;margin: 0 0.4em 0.5em 0.4em;box-sizing: border-box;padding-bottom: 0.4em;background-color: white;}#sk-container-id-5 div.sk-label label {font-family: monospace;font-weight: bold;display: inline-block;line-height: 1.2em;}#sk-container-id-5 div.sk-label-container {text-align: center;}#sk-container-id-5 div.sk-container {/* jupyter's `normalize.less` sets `[hidden] { display: none; }` but bootstrap.min.css set `[hidden] { display: none !important; }` so we also need the `!important` here to be able to override the default hidden behavior on the sphinx rendered scikit-learn.org. See: https://github.com/scikit-learn/scikit-learn/issues/21755 */display: inline-block !important;position: relative;}#sk-container-id-5 div.sk-text-repr-fallback {display: none;}</style><div id=\"sk-container-id-5\" class=\"sk-top-container\"><div class=\"sk-text-repr-fallback\"><pre>PolynomialFeatures(include_bias=False)</pre><b>In a Jupyter environment, please rerun this cell to show the HTML representation or trust the notebook. <br />On GitHub, the HTML representation is unable to render, please try loading this page with nbviewer.org.</b></div><div class=\"sk-container\" hidden><div class=\"sk-item\"><div class=\"sk-estimator sk-toggleable\"><input class=\"sk-toggleable__control sk-hidden--visually\" id=\"sk-estimator-id-5\" type=\"checkbox\" checked><label for=\"sk-estimator-id-5\" class=\"sk-toggleable__label sk-toggleable__label-arrow\">PolynomialFeatures</label><div class=\"sk-toggleable__content\"><pre>PolynomialFeatures(include_bias=False)</pre></div></div></div></div></div>"
      ],
      "text/plain": [
       "PolynomialFeatures(include_bias=False)"
      ]
     },
     "execution_count": 25,
     "metadata": {},
     "output_type": "execute_result"
    }
   ],
   "source": [
    "PolynomialFeatures(degree=2, include_bias=False, interaction_only=False,\n",
    "                   order='C')"
   ]
  },
  {
   "cell_type": "markdown",
   "id": "f34378fa",
   "metadata": {},
   "source": [
    "Setelah transformer di-fit, ia siap untuk membuat masukan baru, input yang dimodifikasi. Kita  menerapkan .transform() untuk melakukan itu:"
   ]
  },
  {
   "cell_type": "code",
   "execution_count": 26,
   "id": "dbe5d519",
   "metadata": {},
   "outputs": [],
   "source": [
    "x_ = transformer.transform(x)"
   ]
  },
  {
   "cell_type": "markdown",
   "id": "5f11a869",
   "metadata": {},
   "source": [
    "Itulah cara transformasi input array dengan .transform(). Transform mengambil array input sebagai argumen dan mengembalikan array yang dimodifikasi.\n",
    "\n",
    "Kita juga bisa menggunakan .fit_transform() untuk mengganti tiga pernyataan sebelumnya hanya dengan satu:"
   ]
  },
  {
   "cell_type": "code",
   "execution_count": 27,
   "id": "8311a099",
   "metadata": {},
   "outputs": [],
   "source": [
    "x_ = PolynomialFeatures(degree=2, include_bias=False).fit_transform(x)"
   ]
  },
  {
   "cell_type": "markdown",
   "id": "54d01327",
   "metadata": {},
   "source": [
    "Itulah cara untuk fitting dan transforming input array dalam satu pernyataan dengan .fit_transform().  .fit_transform() juga mengambil input array dan secara efektif melakukan hal yang sama seperti .fit() dan .transform() yang dipanggil dalam urutan.  .fit_transform() juga mengembalikan array yang dimodifikasi. Beginilah tampilan array input baru:"
   ]
  },
  {
   "cell_type": "code",
   "execution_count": 28,
   "id": "8f486bce",
   "metadata": {},
   "outputs": [
    {
     "name": "stdout",
     "output_type": "stream",
     "text": [
      "[[   5.   25.]\n",
      " [  15.  225.]\n",
      " [  25.  625.]\n",
      " [  35. 1225.]\n",
      " [  45. 2025.]\n",
      " [  55. 3025.]]\n"
     ]
    }
   ],
   "source": [
    "print(x_)"
   ]
  },
  {
   "cell_type": "markdown",
   "id": "90aee66a",
   "metadata": {},
   "source": [
    "Array input yang dimodifikasi berisi dua kolom: satu masukan asli dan yang lainnya dengan pangkat duanya.\n",
    "\n",
    "### Step 3: Create a model and fit it\n",
    "\n",
    "Langkah ini juga sama dengan kasus linear regression. Kita membuat dan fit model:"
   ]
  },
  {
   "cell_type": "code",
   "execution_count": 29,
   "id": "02f437e7",
   "metadata": {},
   "outputs": [],
   "source": [
    "model = LinearRegression().fit(x_, y)"
   ]
  },
  {
   "cell_type": "markdown",
   "id": "2d6db2df",
   "metadata": {},
   "source": [
    "Kita harus ingat bahwa argumen pertama dari .fit() adalah array masukan x_ yang dimodifikasi dan bukan x asli.\n",
    "\n",
    "### Step 4: Get results\n",
    "\n",
    "Kita bisa mendapatkan properti model dengan cara yang sama seperti dalam kasus linear regression:"
   ]
  },
  {
   "cell_type": "code",
   "execution_count": 30,
   "id": "543b1bff",
   "metadata": {},
   "outputs": [
    {
     "name": "stdout",
     "output_type": "stream",
     "text": [
      "coefficient of determination: 0.8908516262498564\n",
      "intercept: 21.372321428571425\n",
      "coefficients: [-1.32357143  0.02839286]\n"
     ]
    }
   ],
   "source": [
    "r_sq = model.score(x_, y)\n",
    "print('coefficient of determination:', r_sq)\n",
    "print('intercept:', model.intercept_)\n",
    "print('coefficients:', model.coef_)"
   ]
  },
  {
   "cell_type": "markdown",
   "id": "15c9107a",
   "metadata": {},
   "source": [
    "Sekali lagi,.score() mengembalikan 𝑅². Argumen pertamanya juga merupakan input x_ yang dimodifikasi, bukan x. Nilai bobot terkait dengan .intercept_ dan.coef_: .intercept_ mewakili 𝑏₀, sedangkan .coef_ mereferensikan array yang masing-masing berisi 𝑏₁ dan 𝑏₂.\n",
    "\n",
    "Kita bisa mendapatkan hasil yang sangat mirip dengan argumen transformation dan regression yang berbeda:"
   ]
  },
  {
   "cell_type": "code",
   "execution_count": 31,
   "id": "f6aad633",
   "metadata": {},
   "outputs": [
    {
     "data": {
      "text/plain": [
       "{'degree': 2, 'include_bias': False, 'interaction_only': False, 'order': 'C'}"
      ]
     },
     "execution_count": 31,
     "metadata": {},
     "output_type": "execute_result"
    }
   ],
   "source": [
    "transformer.get_params()"
   ]
  },
  {
   "cell_type": "markdown",
   "id": "26ef27a9",
   "metadata": {},
   "source": [
    "Jika kita memanggil PolynomialFeatures dengan parameter default include_bias=True, kita akan mendapatkan array input baru x_ dengan kolom paling kiri tambahan yang hanya berisi satu. Kolom ini sesuai dengan intercept. Beginilah tampilan array input yang dimodifikasi dalam kasus ini:"
   ]
  },
  {
   "cell_type": "code",
   "execution_count": 32,
   "id": "7e2f91ed",
   "metadata": {},
   "outputs": [
    {
     "name": "stdout",
     "output_type": "stream",
     "text": [
      "[[1.000e+00 5.000e+00 2.500e+01]\n",
      " [1.000e+00 1.500e+01 2.250e+02]\n",
      " [1.000e+00 2.500e+01 6.250e+02]\n",
      " [1.000e+00 3.500e+01 1.225e+03]\n",
      " [1.000e+00 4.500e+01 2.025e+03]\n",
      " [1.000e+00 5.500e+01 3.025e+03]]\n"
     ]
    }
   ],
   "source": [
    "x_ = PolynomialFeatures(degree=2, include_bias=True).fit_transform(x)\n",
    "print(x_)"
   ]
  },
  {
   "cell_type": "markdown",
   "id": "f455527d",
   "metadata": {},
   "source": [
    "Kolom pertama x_ berisi satu, kolom kedua bernilai x, sedangkan kolom ketiga berisi kuadrat x.\n",
    "\n",
    "intercept sudah disertakan dengan kolom paling kiri dari satu, dan kita tidak perlu menyertakannya lagi saat membuat instance LinearRegression. Jadi, kita bisa memberikan fit_intercept=False. Beginilah tampilan pernyataan berikutnya:"
   ]
  },
  {
   "cell_type": "code",
   "execution_count": 33,
   "id": "2a0fb803",
   "metadata": {},
   "outputs": [],
   "source": [
    "model = LinearRegression(fit_intercept=False).fit(x_, y)"
   ]
  },
  {
   "cell_type": "markdown",
   "id": "d2d77925",
   "metadata": {},
   "source": [
    "Variabel model sekali lagi sesuai dengan array input baru x_. Oleh karena itu x_ harus di-pass sebagai argumen pertama, bukan x.\n",
    "\n",
    "Pendekatan ini memberikan hasil berikut, yang mirip dengan kasus sebelumnya:"
   ]
  },
  {
   "cell_type": "code",
   "execution_count": 34,
   "id": "5c7c9084",
   "metadata": {},
   "outputs": [
    {
     "name": "stdout",
     "output_type": "stream",
     "text": [
      "coefficient of determination: 0.8908516262498565\n",
      "intercept: 0.0\n",
      "coefficients: [21.37232143 -1.32357143  0.02839286]\n"
     ]
    }
   ],
   "source": [
    "r_sq = model.score(x_, y)\n",
    "print('coefficient of determination:', r_sq)\n",
    "print('intercept:', model.intercept_)\n",
    "print('coefficients:', model.coef_)"
   ]
  },
  {
   "cell_type": "markdown",
   "id": "2a165611",
   "metadata": {},
   "source": [
    "Kita melihat bahwa sekarang .intercept_ adalah nol, tetapi .coef_ sebenarnya berisi 𝑏₀ sebagai elemen pertamanya. Yang lainnya sama.\n",
    "\n",
    "### Step 5: Predict response\n",
    "\n",
    "Jika kita ingin mendapatkan predicted response, cukup gunakan .predict(), tetapi ingat bahwa argumennya harus berupa input x_ yang dimodifikasi, bukan x yang lama:"
   ]
  },
  {
   "cell_type": "code",
   "execution_count": 35,
   "id": "5b454694",
   "metadata": {},
   "outputs": [
    {
     "name": "stdout",
     "output_type": "stream",
     "text": [
      "predicted response:\n",
      "[15.46428571  7.90714286  6.02857143  9.82857143 19.30714286 34.46428571]\n"
     ]
    }
   ],
   "source": [
    "y_pred = model.predict(x_)\n",
    "print('predicted response:', y_pred, sep='\\n')"
   ]
  },
  {
   "cell_type": "markdown",
   "id": "3dbb4516",
   "metadata": {},
   "source": [
    "Seperti yang kita lihat, prediksi bekerja dengan cara yang hampir sama seperti dalam kasus linear regression. Ini hanya membutuhkan masukan yang dimodifikasi, bukan yang asli.\n",
    "\n",
    "Kita dapat menerapkan prosedur yang sama jika kita memiliki beberapa variabel masukan. Kita akan membuat array masukan dengan lebih dari satu kolom, tetapi yang lainnya sama. Berikut ini contohnya:"
   ]
  },
  {
   "cell_type": "code",
   "execution_count": 36,
   "id": "bcd2071a",
   "metadata": {},
   "outputs": [],
   "source": [
    "# Step 1: Import packages\n",
    "# import numpy as np\n",
    "# from sklearn.linear_model import LinearRegression\n",
    "# from sklearn.preprocessing import PolynomialFeatures\n",
    "\n",
    "# Step 2a: Provide data\n",
    "x = [[0, 1], [5, 1], [15, 2], [25, 5], [35, 11], [45, 15], [55, 34], [60, 35]]\n",
    "y = [4, 5, 20, 14, 32, 22, 38, 43]\n",
    "x, y = np.array(x), np.array(y)\n",
    "\n",
    "# Step 2b: Transform input data\n",
    "x_ = PolynomialFeatures(degree=2, include_bias=False).fit_transform(x)\n",
    "\n",
    "# Step 3: Create a model and fit it\n",
    "model = LinearRegression().fit(x_, y)\n",
    "\n",
    "# Step 4: Get results\n",
    "r_sq = model.score(x_, y)\n",
    "intercept, coefficients = model.intercept_, model.coef_\n",
    "\n",
    "# Step 5: Predict\n",
    "y_pred = model.predict(x_)"
   ]
  },
  {
   "cell_type": "markdown",
   "id": "57ef5bfd",
   "metadata": {},
   "source": [
    "Contoh regresi ini memberikan hasil dan prediksi berikut:"
   ]
  },
  {
   "cell_type": "code",
   "execution_count": 37,
   "id": "77703bff",
   "metadata": {},
   "outputs": [
    {
     "name": "stdout",
     "output_type": "stream",
     "text": [
      "coefficient of determination: 0.9453701449127822\n",
      "intercept: 0.8430556452395734\n",
      "coefficients:\n",
      "[ 2.44828275  0.16160353 -0.15259677  0.47928683 -0.4641851 ]\n",
      "predicted response:\n",
      "[ 0.54047408 11.36340283 16.07809622 15.79139    29.73858619 23.50834636\n",
      " 39.05631386 41.92339046]\n"
     ]
    }
   ],
   "source": [
    "print('coefficient of determination:', r_sq)\n",
    "print('intercept:', intercept)\n",
    "print('coefficients:', coefficients, sep='\\n')\n",
    "print('predicted response:', y_pred, sep='\\n')"
   ]
  },
  {
   "cell_type": "markdown",
   "id": "795e9088",
   "metadata": {},
   "source": [
    "Dalam hal ini, ada enam regression coefficients (termasuk intercept), seperti yang ditunjukkan dalam estimated regression function 𝑓(𝑥₁, 𝑥₂) = 𝑏₀ + 𝑏₁𝑥₁ + 𝑏₂𝑥₂ + 𝑏₃𝑥₁² + 𝑏₄𝑥₁𝑥₂ + 𝑏₅𝑥₂².\n",
    "\n",
    "Kita juga dapat melihat bahwa regresi polinomial menghasilkan coefficient of determination yang lebih tinggi daripada multiple linear regression untuk masalah yang sama. Pada awalnya, kita mungkin mengira bahwa mendapatkan 𝑅² sebesar itu adalah hasil yang sangat baik. Mungkin.\n",
    "\n",
    "Namun, dalam situasi dunia nyata, memiliki model yang kompleks dan 𝑅² sangat dekat dengan 1 mungkin juga merupakan tanda overfitting. Untuk mengecek performansi suatu model sebaiknya dilakukan pengujian dengan data baru yaitu dengan observasi yang tidak digunakan untuk fit (train) model.\n",
    "\n",
    "## Advanced Linear Regression With statsmodels\n",
    "Kita dapat mengimplementasikan linear regression dengan Python relatif mudah dengan menggunakan statsmodels juga. Biasanya, statsmodels diinginkan ketika dibutuhkan hasil yang lebih rinci.\n",
    "\n",
    "Prosedurnya mirip dengan scikit-learn.\n",
    "\n",
    "### Step 1: Import packages\n",
    "\n",
    "Pertama, kita perlu melakukan beberapa impor. Selain numpy, kita perlu mengimpor statsmodels.api:\n",
    "\n",
    "### Step 2: Provide data and transform inputs\n",
    "\n",
    "Kita dapat memberikan input dan output dengan cara yang sama seperti yang kita lakukan saat menggunakan scikit-learn:"
   ]
  },
  {
   "cell_type": "code",
   "execution_count": 38,
   "id": "38cf5f46",
   "metadata": {
    "scrolled": true
   },
   "outputs": [
    {
     "name": "stdout",
     "output_type": "stream",
     "text": [
      "[[ 0  1]\n",
      " [ 5  1]\n",
      " [15  2]\n",
      " [25  5]\n",
      " [35 11]\n",
      " [45 15]\n",
      " [55 34]\n",
      " [60 35]]\n"
     ]
    }
   ],
   "source": [
    "x = [[0, 1], [5, 1], [15, 2], [25, 5], [35, 11], [45, 15], [55, 34], [60, 35]]\n",
    "y = [4, 5, 20, 14, 32, 22, 38, 43]\n",
    "x, y = np.array(x), np.array(y)\n",
    "print(x)"
   ]
  },
  {
   "cell_type": "markdown",
   "id": "97e89988",
   "metadata": {},
   "source": [
    "Array input dan output dibuat, tetapi pekerjaan belum selesai.\n",
    "\n",
    "Kita perlu menambahkan kolom satu ke input jika kita ingin statsmodels menghitung intercept 𝑏₀. Hal ni tidak memperhitungkan 𝑏₀ secara default."
   ]
  },
  {
   "cell_type": "code",
   "execution_count": 39,
   "id": "b0136bc9",
   "metadata": {},
   "outputs": [],
   "source": [
    "x = sm.add_constant(x)"
   ]
  },
  {
   "cell_type": "markdown",
   "id": "ad0b328d",
   "metadata": {},
   "source": [
    "Begitulah cara kita menambahkan kolom satu ke x dengan add_constant(). add_constant mengambil array input x sebagai argumen dan mengembalikan array baru dengan kolom yang disisipkan di awal. Beginilah tampilan x dan y sekarang:"
   ]
  },
  {
   "cell_type": "code",
   "execution_count": 40,
   "id": "d3d47aee",
   "metadata": {
    "scrolled": true
   },
   "outputs": [
    {
     "name": "stdout",
     "output_type": "stream",
     "text": [
      "[[ 1.  0.  1.]\n",
      " [ 1.  5.  1.]\n",
      " [ 1. 15.  2.]\n",
      " [ 1. 25.  5.]\n",
      " [ 1. 35. 11.]\n",
      " [ 1. 45. 15.]\n",
      " [ 1. 55. 34.]\n",
      " [ 1. 60. 35.]]\n",
      "[ 4  5 20 14 32 22 38 43]\n"
     ]
    }
   ],
   "source": [
    "print(x)\n",
    "print(y)"
   ]
  },
  {
   "cell_type": "markdown",
   "id": "66477f8d",
   "metadata": {},
   "source": [
    "Kita dapat melihat bahwa x yang dimodifikasi memiliki tiga kolom: kolom pertama dari satu (sesuai dengan 𝑏₀ dan mengganti intercept) serta dua kolom fitur asli.\n",
    "\n",
    "### Step 3: Create a model and fit it\n",
    "\n",
    "Regression model didasarkan pada ordinary least squares adalah turunan dari statsmodels.regression.linear_model.OLS."
   ]
  },
  {
   "cell_type": "code",
   "execution_count": 41,
   "id": "b09e8a2c",
   "metadata": {},
   "outputs": [],
   "source": [
    "model = sm.OLS(y, x)"
   ]
  },
  {
   "cell_type": "markdown",
   "id": "0f72bd01",
   "metadata": {},
   "source": [
    "Kita harus berhati-hati di sini! Harap perhatikan bahwa argumen pertama adalah output, diikuti dengan input. Ada beberapa parameter opsional.\n",
    "\n",
    "Setelah model kita dibuat, kita dapat menerapkan .fit() pada model tersebut:"
   ]
  },
  {
   "cell_type": "code",
   "execution_count": 42,
   "id": "c0deadef",
   "metadata": {},
   "outputs": [],
   "source": [
    "results = model.fit()"
   ]
  },
  {
   "cell_type": "markdown",
   "id": "c36c8252",
   "metadata": {},
   "source": [
    "Dengan memanggil .fit(), kita mendapatkan variable results, yang merupakan instance dari kelas statsmodels.regression.linear_model.RegressionResultsWrapper. Objek ini menyimpan banyak informasi tentang regression model.\n",
    "\n",
    "### Step 4: Get results\n",
    "\n",
    "Variabel results mengacu pada objek yang memuat informasi rinci tentang hasil linear regression.\n",
    "\n",
    "Kita bisa memanggil .summary() untuk mendapatkan tabel dengan hasil regresi linier:"
   ]
  },
  {
   "cell_type": "code",
   "execution_count": 43,
   "id": "e96c23e4",
   "metadata": {},
   "outputs": [
    {
     "name": "stdout",
     "output_type": "stream",
     "text": [
      "                            OLS Regression Results                            \n",
      "==============================================================================\n",
      "Dep. Variable:                      y   R-squared:                       0.862\n",
      "Model:                            OLS   Adj. R-squared:                  0.806\n",
      "Method:                 Least Squares   F-statistic:                     15.56\n",
      "Date:                Fri, 14 Apr 2023   Prob (F-statistic):            0.00713\n",
      "Time:                        21:04:49   Log-Likelihood:                -24.316\n",
      "No. Observations:                   8   AIC:                             54.63\n",
      "Df Residuals:                       5   BIC:                             54.87\n",
      "Df Model:                           2                                         \n",
      "Covariance Type:            nonrobust                                         \n",
      "==============================================================================\n",
      "                 coef    std err          t      P>|t|      [0.025      0.975]\n",
      "------------------------------------------------------------------------------\n",
      "const          5.5226      4.431      1.246      0.268      -5.867      16.912\n",
      "x1             0.4471      0.285      1.567      0.178      -0.286       1.180\n",
      "x2             0.2550      0.453      0.563      0.598      -0.910       1.420\n",
      "==============================================================================\n",
      "Omnibus:                        0.561   Durbin-Watson:                   3.268\n",
      "Prob(Omnibus):                  0.755   Jarque-Bera (JB):                0.534\n",
      "Skew:                           0.380   Prob(JB):                        0.766\n",
      "Kurtosis:                       1.987   Cond. No.                         80.1\n",
      "==============================================================================\n",
      "\n",
      "Notes:\n",
      "[1] Standard Errors assume that the covariance matrix of the errors is correctly specified.\n"
     ]
    },
    {
     "name": "stderr",
     "output_type": "stream",
     "text": [
      "E:\\euy\\KAMPUS_MERDEKA\\learning\\env\\lib\\site-packages\\scipy\\stats\\_stats_py.py:1736: UserWarning: kurtosistest only valid for n>=20 ... continuing anyway, n=8\n",
      "  warnings.warn(\"kurtosistest only valid for n>=20 ... continuing \"\n"
     ]
    }
   ],
   "source": [
    "print(results.summary())"
   ]
  },
  {
   "cell_type": "markdown",
   "id": "d2f6b085",
   "metadata": {},
   "source": [
    "Tabel ini sangat lengkap. Kita dapat menemukan banyak nilai statistik yang terkait dengan linear regression termasuk 𝑅², 𝑏₀, 𝑏₁, dan 𝑏₂.\n",
    "\n",
    "Dalam kasus khusus ini, kita mungkin mendapatkan peringatan terkait kurtosistest. Hal ini disebabkan sedikitnya jumlah observasi yang diberikan.\n",
    "\n",
    "Kita dapat mengekstrak salah satu nilai dari tabel di atas. Berikut contohnya:"
   ]
  },
  {
   "cell_type": "code",
   "execution_count": 50,
   "id": "aa0e9510",
   "metadata": {
    "scrolled": true
   },
   "outputs": [
    {
     "name": "stdout",
     "output_type": "stream",
     "text": [
      "coefficient of determination: 0.8615939258756777\n",
      "adjusted coefficient of determination: 0.8062314962259488\n",
      "regression coefficients: [5.52257928 0.44706965 0.25502548]\n"
     ]
    }
   ],
   "source": [
    "print('coefficient of determination:', results.rsquared)\n",
    "print('adjusted coefficient of determination:', results.rsquared_adj)\n",
    "print('regression coefficients:', results.params)"
   ]
  },
  {
   "cell_type": "markdown",
   "id": "c7a0be66",
   "metadata": {},
   "source": [
    "Begitulah cara kita mendapatkan beberapa hasil linear regression:\n",
    "\n",
    ".rsquared menampung 𝑅². .rsquared_adj mewakili disesuaikan 𝑅² (𝑅² dikoreksi sesuai dengan jumlah fitur masukan). .params merujuk array dengan 𝑏₀, 𝑏₁, dan 𝑏₂ masing-masing. Kita juga dapat melihat bahwa hasil ini identik dengan yang diperoleh dengan scikit-learn untuk masalah yang sama.\n",
    "\n",
    "### Step 5: Predict response\n",
    "\n",
    "Kita bisa mendapatkan predicted response pada nilai input yang digunakan untuk membuat model menggunakan .fittedvalues atau .predict() dengan array input sebagai argumen:"
   ]
  },
  {
   "cell_type": "code",
   "execution_count": 44,
   "id": "840524a0",
   "metadata": {
    "scrolled": true
   },
   "outputs": [
    {
     "name": "stdout",
     "output_type": "stream",
     "text": [
      "predicted response:\n",
      "[ 5.77760476  8.012953   12.73867497 17.9744479  23.97529728 29.4660957\n",
      " 38.78227633 41.27265006]\n",
      "predicted response:\n",
      "[ 5.77760476  8.012953   12.73867497 17.9744479  23.97529728 29.4660957\n",
      " 38.78227633 41.27265006]\n"
     ]
    }
   ],
   "source": [
    "print('predicted response:', results.fittedvalues, sep='\\n')\n",
    "print('predicted response:', results.predict(x), sep='\\n')"
   ]
  },
  {
   "cell_type": "markdown",
   "id": "91221a1f",
   "metadata": {},
   "source": [
    "Ini adalah predicted response untuk input yang diketahui. Jika kita menginginkan prediksi dengan regressor baru, kita juga bisa menerapkan .predict() dengan data baru sebagai argumen:"
   ]
  },
  {
   "cell_type": "code",
   "execution_count": 45,
   "id": "8993328a",
   "metadata": {
    "scrolled": true
   },
   "outputs": [
    {
     "name": "stdout",
     "output_type": "stream",
     "text": [
      "[[1. 0. 1.]\n",
      " [1. 2. 3.]\n",
      " [1. 4. 5.]\n",
      " [1. 6. 7.]\n",
      " [1. 8. 9.]]\n",
      "[ 5.77760476  7.18179502  8.58598528  9.99017554 11.3943658 ]\n"
     ]
    }
   ],
   "source": [
    "x_new = sm.add_constant(np.arange(10).reshape((-1, 2)))\n",
    "print(x_new)\n",
    "y_new = results.predict(x_new)\n",
    "print(y_new)"
   ]
  },
  {
   "cell_type": "markdown",
   "id": "e324da43",
   "metadata": {},
   "source": [
    "Kita  dapat melihat bahwa hasil prediksi sama dengan yang diperoleh dengan scikit-learn untuk masalah yang sama.\n",
    "\n",
    "## Implementing Linear Regression on Real Dataset\n",
    "### Using Statsmodels\n"
   ]
  },
  {
   "cell_type": "code",
   "execution_count": 51,
   "id": "fcbbdb4e",
   "metadata": {
    "scrolled": true
   },
   "outputs": [
    {
     "name": "stderr",
     "output_type": "stream",
     "text": [
      "C:\\Users\\ASUS\\AppData\\Local\\Temp\\ipykernel_4732\\325613214.py:3: SettingWithCopyWarning: \n",
      "A value is trying to be set on a copy of a slice from a DataFrame\n",
      "\n",
      "See the caveats in the documentation: https://pandas.pydata.org/pandas-docs/stable/user_guide/indexing.html#returning-a-view-versus-a-copy\n",
      "  target.rename({\"Price\":\"MEDV\"},axis =1, inplace=True)\n"
     ]
    },
    {
     "data": {
      "text/html": [
       "<div>\n",
       "<style scoped>\n",
       "    .dataframe tbody tr th:only-of-type {\n",
       "        vertical-align: middle;\n",
       "    }\n",
       "\n",
       "    .dataframe tbody tr th {\n",
       "        vertical-align: top;\n",
       "    }\n",
       "\n",
       "    .dataframe thead th {\n",
       "        text-align: right;\n",
       "    }\n",
       "</style>\n",
       "<table border=\"1\" class=\"dataframe\">\n",
       "  <thead>\n",
       "    <tr style=\"text-align: right;\">\n",
       "      <th></th>\n",
       "      <th>CRIM</th>\n",
       "      <th>ZN</th>\n",
       "      <th>INDUS</th>\n",
       "      <th>CHAS</th>\n",
       "      <th>NOX</th>\n",
       "      <th>RM</th>\n",
       "      <th>AGE</th>\n",
       "      <th>DIS</th>\n",
       "      <th>RAD</th>\n",
       "      <th>TAX</th>\n",
       "      <th>PTRATIO</th>\n",
       "      <th>B</th>\n",
       "      <th>LSTAT</th>\n",
       "    </tr>\n",
       "  </thead>\n",
       "  <tbody>\n",
       "    <tr>\n",
       "      <th>0</th>\n",
       "      <td>0.00632</td>\n",
       "      <td>18.0</td>\n",
       "      <td>2.31</td>\n",
       "      <td>0.0</td>\n",
       "      <td>0.538</td>\n",
       "      <td>6.575</td>\n",
       "      <td>65.2</td>\n",
       "      <td>4.0900</td>\n",
       "      <td>1.0</td>\n",
       "      <td>296.0</td>\n",
       "      <td>15.3</td>\n",
       "      <td>396.90</td>\n",
       "      <td>4.98</td>\n",
       "    </tr>\n",
       "    <tr>\n",
       "      <th>1</th>\n",
       "      <td>0.02731</td>\n",
       "      <td>0.0</td>\n",
       "      <td>7.07</td>\n",
       "      <td>0.0</td>\n",
       "      <td>0.469</td>\n",
       "      <td>6.421</td>\n",
       "      <td>78.9</td>\n",
       "      <td>4.9671</td>\n",
       "      <td>2.0</td>\n",
       "      <td>242.0</td>\n",
       "      <td>17.8</td>\n",
       "      <td>396.90</td>\n",
       "      <td>9.14</td>\n",
       "    </tr>\n",
       "    <tr>\n",
       "      <th>2</th>\n",
       "      <td>0.02729</td>\n",
       "      <td>0.0</td>\n",
       "      <td>7.07</td>\n",
       "      <td>0.0</td>\n",
       "      <td>0.469</td>\n",
       "      <td>7.185</td>\n",
       "      <td>61.1</td>\n",
       "      <td>4.9671</td>\n",
       "      <td>2.0</td>\n",
       "      <td>242.0</td>\n",
       "      <td>17.8</td>\n",
       "      <td>392.83</td>\n",
       "      <td>4.03</td>\n",
       "    </tr>\n",
       "    <tr>\n",
       "      <th>3</th>\n",
       "      <td>0.03237</td>\n",
       "      <td>0.0</td>\n",
       "      <td>2.18</td>\n",
       "      <td>0.0</td>\n",
       "      <td>0.458</td>\n",
       "      <td>6.998</td>\n",
       "      <td>45.8</td>\n",
       "      <td>6.0622</td>\n",
       "      <td>3.0</td>\n",
       "      <td>222.0</td>\n",
       "      <td>18.7</td>\n",
       "      <td>394.63</td>\n",
       "      <td>2.94</td>\n",
       "    </tr>\n",
       "    <tr>\n",
       "      <th>4</th>\n",
       "      <td>0.06905</td>\n",
       "      <td>0.0</td>\n",
       "      <td>2.18</td>\n",
       "      <td>0.0</td>\n",
       "      <td>0.458</td>\n",
       "      <td>7.147</td>\n",
       "      <td>54.2</td>\n",
       "      <td>6.0622</td>\n",
       "      <td>3.0</td>\n",
       "      <td>222.0</td>\n",
       "      <td>18.7</td>\n",
       "      <td>396.90</td>\n",
       "      <td>5.33</td>\n",
       "    </tr>\n",
       "  </tbody>\n",
       "</table>\n",
       "</div>"
      ],
      "text/plain": [
       "      CRIM    ZN  INDUS  CHAS    NOX     RM   AGE     DIS  RAD    TAX  \\\n",
       "0  0.00632  18.0   2.31   0.0  0.538  6.575  65.2  4.0900  1.0  296.0   \n",
       "1  0.02731   0.0   7.07   0.0  0.469  6.421  78.9  4.9671  2.0  242.0   \n",
       "2  0.02729   0.0   7.07   0.0  0.469  7.185  61.1  4.9671  2.0  242.0   \n",
       "3  0.03237   0.0   2.18   0.0  0.458  6.998  45.8  6.0622  3.0  222.0   \n",
       "4  0.06905   0.0   2.18   0.0  0.458  7.147  54.2  6.0622  3.0  222.0   \n",
       "\n",
       "   PTRATIO       B  LSTAT  \n",
       "0     15.3  396.90   4.98  \n",
       "1     17.8  396.90   9.14  \n",
       "2     17.8  392.83   4.03  \n",
       "3     18.7  394.63   2.94  \n",
       "4     18.7  396.90   5.33  "
      ]
     },
     "execution_count": 51,
     "metadata": {},
     "output_type": "execute_result"
    }
   ],
   "source": [
    "df = pd.read_csv(\"dataset/boston.csv\", index_col = 0)\n",
    "target = df[[\"Price\"]]\n",
    "target.rename({\"Price\":\"MEDV\"},axis =1, inplace=True)\n",
    "df.drop(\"Price\",axis =1, inplace=True)\n",
    "df.head()## loads Boston dataset from datasets library "
   ]
  },
  {
   "cell_type": "code",
   "execution_count": 52,
   "id": "a68ab08b",
   "metadata": {},
   "outputs": [
    {
     "data": {
      "text/html": [
       "<div>\n",
       "<style scoped>\n",
       "    .dataframe tbody tr th:only-of-type {\n",
       "        vertical-align: middle;\n",
       "    }\n",
       "\n",
       "    .dataframe tbody tr th {\n",
       "        vertical-align: top;\n",
       "    }\n",
       "\n",
       "    .dataframe thead th {\n",
       "        text-align: right;\n",
       "    }\n",
       "</style>\n",
       "<table border=\"1\" class=\"dataframe\">\n",
       "  <thead>\n",
       "    <tr style=\"text-align: right;\">\n",
       "      <th></th>\n",
       "      <th>CRIM</th>\n",
       "      <th>ZN</th>\n",
       "      <th>INDUS</th>\n",
       "      <th>CHAS</th>\n",
       "      <th>NOX</th>\n",
       "      <th>RM</th>\n",
       "      <th>AGE</th>\n",
       "      <th>DIS</th>\n",
       "      <th>RAD</th>\n",
       "      <th>TAX</th>\n",
       "      <th>PTRATIO</th>\n",
       "      <th>B</th>\n",
       "      <th>LSTAT</th>\n",
       "    </tr>\n",
       "  </thead>\n",
       "  <tbody>\n",
       "    <tr>\n",
       "      <th>0</th>\n",
       "      <td>0.00632</td>\n",
       "      <td>18.0</td>\n",
       "      <td>2.31</td>\n",
       "      <td>0.0</td>\n",
       "      <td>0.538</td>\n",
       "      <td>6.575</td>\n",
       "      <td>65.2</td>\n",
       "      <td>4.0900</td>\n",
       "      <td>1.0</td>\n",
       "      <td>296.0</td>\n",
       "      <td>15.3</td>\n",
       "      <td>396.90</td>\n",
       "      <td>4.98</td>\n",
       "    </tr>\n",
       "    <tr>\n",
       "      <th>1</th>\n",
       "      <td>0.02731</td>\n",
       "      <td>0.0</td>\n",
       "      <td>7.07</td>\n",
       "      <td>0.0</td>\n",
       "      <td>0.469</td>\n",
       "      <td>6.421</td>\n",
       "      <td>78.9</td>\n",
       "      <td>4.9671</td>\n",
       "      <td>2.0</td>\n",
       "      <td>242.0</td>\n",
       "      <td>17.8</td>\n",
       "      <td>396.90</td>\n",
       "      <td>9.14</td>\n",
       "    </tr>\n",
       "    <tr>\n",
       "      <th>2</th>\n",
       "      <td>0.02729</td>\n",
       "      <td>0.0</td>\n",
       "      <td>7.07</td>\n",
       "      <td>0.0</td>\n",
       "      <td>0.469</td>\n",
       "      <td>7.185</td>\n",
       "      <td>61.1</td>\n",
       "      <td>4.9671</td>\n",
       "      <td>2.0</td>\n",
       "      <td>242.0</td>\n",
       "      <td>17.8</td>\n",
       "      <td>392.83</td>\n",
       "      <td>4.03</td>\n",
       "    </tr>\n",
       "    <tr>\n",
       "      <th>3</th>\n",
       "      <td>0.03237</td>\n",
       "      <td>0.0</td>\n",
       "      <td>2.18</td>\n",
       "      <td>0.0</td>\n",
       "      <td>0.458</td>\n",
       "      <td>6.998</td>\n",
       "      <td>45.8</td>\n",
       "      <td>6.0622</td>\n",
       "      <td>3.0</td>\n",
       "      <td>222.0</td>\n",
       "      <td>18.7</td>\n",
       "      <td>394.63</td>\n",
       "      <td>2.94</td>\n",
       "    </tr>\n",
       "    <tr>\n",
       "      <th>4</th>\n",
       "      <td>0.06905</td>\n",
       "      <td>0.0</td>\n",
       "      <td>2.18</td>\n",
       "      <td>0.0</td>\n",
       "      <td>0.458</td>\n",
       "      <td>7.147</td>\n",
       "      <td>54.2</td>\n",
       "      <td>6.0622</td>\n",
       "      <td>3.0</td>\n",
       "      <td>222.0</td>\n",
       "      <td>18.7</td>\n",
       "      <td>396.90</td>\n",
       "      <td>5.33</td>\n",
       "    </tr>\n",
       "  </tbody>\n",
       "</table>\n",
       "</div>"
      ],
      "text/plain": [
       "      CRIM    ZN  INDUS  CHAS    NOX     RM   AGE     DIS  RAD    TAX  \\\n",
       "0  0.00632  18.0   2.31   0.0  0.538  6.575  65.2  4.0900  1.0  296.0   \n",
       "1  0.02731   0.0   7.07   0.0  0.469  6.421  78.9  4.9671  2.0  242.0   \n",
       "2  0.02729   0.0   7.07   0.0  0.469  7.185  61.1  4.9671  2.0  242.0   \n",
       "3  0.03237   0.0   2.18   0.0  0.458  6.998  45.8  6.0622  3.0  222.0   \n",
       "4  0.06905   0.0   2.18   0.0  0.458  7.147  54.2  6.0622  3.0  222.0   \n",
       "\n",
       "   PTRATIO       B  LSTAT  \n",
       "0     15.3  396.90   4.98  \n",
       "1     17.8  396.90   9.14  \n",
       "2     17.8  392.83   4.03  \n",
       "3     18.7  394.63   2.94  \n",
       "4     18.7  396.90   5.33  "
      ]
     },
     "execution_count": 52,
     "metadata": {},
     "output_type": "execute_result"
    }
   ],
   "source": [
    "df.head()"
   ]
  },
  {
   "cell_type": "code",
   "execution_count": 47,
   "id": "5b20bae9",
   "metadata": {},
   "outputs": [
    {
     "data": {
      "text/html": [
       "<div>\n",
       "<style scoped>\n",
       "    .dataframe tbody tr th:only-of-type {\n",
       "        vertical-align: middle;\n",
       "    }\n",
       "\n",
       "    .dataframe tbody tr th {\n",
       "        vertical-align: top;\n",
       "    }\n",
       "\n",
       "    .dataframe thead th {\n",
       "        text-align: right;\n",
       "    }\n",
       "</style>\n",
       "<table border=\"1\" class=\"dataframe\">\n",
       "  <thead>\n",
       "    <tr style=\"text-align: right;\">\n",
       "      <th></th>\n",
       "      <th>MEDV</th>\n",
       "    </tr>\n",
       "  </thead>\n",
       "  <tbody>\n",
       "    <tr>\n",
       "      <th>0</th>\n",
       "      <td>24.0</td>\n",
       "    </tr>\n",
       "    <tr>\n",
       "      <th>1</th>\n",
       "      <td>21.6</td>\n",
       "    </tr>\n",
       "    <tr>\n",
       "      <th>2</th>\n",
       "      <td>34.7</td>\n",
       "    </tr>\n",
       "    <tr>\n",
       "      <th>3</th>\n",
       "      <td>33.4</td>\n",
       "    </tr>\n",
       "    <tr>\n",
       "      <th>4</th>\n",
       "      <td>36.2</td>\n",
       "    </tr>\n",
       "  </tbody>\n",
       "</table>\n",
       "</div>"
      ],
      "text/plain": [
       "   MEDV\n",
       "0  24.0\n",
       "1  21.6\n",
       "2  34.7\n",
       "3  33.4\n",
       "4  36.2"
      ]
     },
     "execution_count": 47,
     "metadata": {},
     "output_type": "execute_result"
    }
   ],
   "source": [
    "target.head()"
   ]
  },
  {
   "cell_type": "code",
   "execution_count": 48,
   "id": "a747f5b3",
   "metadata": {},
   "outputs": [
    {
     "data": {
      "text/html": [
       "<table class=\"simpletable\">\n",
       "<caption>OLS Regression Results</caption>\n",
       "<tr>\n",
       "  <th>Dep. Variable:</th>          <td>MEDV</td>       <th>  R-squared (uncentered):</th>      <td>   0.901</td> \n",
       "</tr>\n",
       "<tr>\n",
       "  <th>Model:</th>                   <td>OLS</td>       <th>  Adj. R-squared (uncentered):</th> <td>   0.901</td> \n",
       "</tr>\n",
       "<tr>\n",
       "  <th>Method:</th>             <td>Least Squares</td>  <th>  F-statistic:       </th>          <td>   4615.</td> \n",
       "</tr>\n",
       "<tr>\n",
       "  <th>Date:</th>             <td>Fri, 14 Apr 2023</td> <th>  Prob (F-statistic):</th>          <td>3.74e-256</td>\n",
       "</tr>\n",
       "<tr>\n",
       "  <th>Time:</th>                 <td>21:04:50</td>     <th>  Log-Likelihood:    </th>          <td> -1747.1</td> \n",
       "</tr>\n",
       "<tr>\n",
       "  <th>No. Observations:</th>      <td>   506</td>      <th>  AIC:               </th>          <td>   3496.</td> \n",
       "</tr>\n",
       "<tr>\n",
       "  <th>Df Residuals:</th>          <td>   505</td>      <th>  BIC:               </th>          <td>   3500.</td> \n",
       "</tr>\n",
       "<tr>\n",
       "  <th>Df Model:</th>              <td>     1</td>      <th>                     </th>              <td> </td>    \n",
       "</tr>\n",
       "<tr>\n",
       "  <th>Covariance Type:</th>      <td>nonrobust</td>    <th>                     </th>              <td> </td>    \n",
       "</tr>\n",
       "</table>\n",
       "<table class=\"simpletable\">\n",
       "<tr>\n",
       "   <td></td>     <th>coef</th>     <th>std err</th>      <th>t</th>      <th>P>|t|</th>  <th>[0.025</th>    <th>0.975]</th>  \n",
       "</tr>\n",
       "<tr>\n",
       "  <th>RM</th> <td>    3.6534</td> <td>    0.054</td> <td>   67.930</td> <td> 0.000</td> <td>    3.548</td> <td>    3.759</td>\n",
       "</tr>\n",
       "</table>\n",
       "<table class=\"simpletable\">\n",
       "<tr>\n",
       "  <th>Omnibus:</th>       <td>83.295</td> <th>  Durbin-Watson:     </th> <td>   0.493</td>\n",
       "</tr>\n",
       "<tr>\n",
       "  <th>Prob(Omnibus):</th> <td> 0.000</td> <th>  Jarque-Bera (JB):  </th> <td> 152.507</td>\n",
       "</tr>\n",
       "<tr>\n",
       "  <th>Skew:</th>          <td> 0.955</td> <th>  Prob(JB):          </th> <td>7.65e-34</td>\n",
       "</tr>\n",
       "<tr>\n",
       "  <th>Kurtosis:</th>      <td> 4.894</td> <th>  Cond. No.          </th> <td>    1.00</td>\n",
       "</tr>\n",
       "</table><br/><br/>Notes:<br/>[1] R² is computed without centering (uncentered) since the model does not contain a constant.<br/>[2] Standard Errors assume that the covariance matrix of the errors is correctly specified."
      ],
      "text/plain": [
       "<class 'statsmodels.iolib.summary.Summary'>\n",
       "\"\"\"\n",
       "                                 OLS Regression Results                                \n",
       "=======================================================================================\n",
       "Dep. Variable:                   MEDV   R-squared (uncentered):                   0.901\n",
       "Model:                            OLS   Adj. R-squared (uncentered):              0.901\n",
       "Method:                 Least Squares   F-statistic:                              4615.\n",
       "Date:                Fri, 14 Apr 2023   Prob (F-statistic):                   3.74e-256\n",
       "Time:                        21:04:50   Log-Likelihood:                         -1747.1\n",
       "No. Observations:                 506   AIC:                                      3496.\n",
       "Df Residuals:                     505   BIC:                                      3500.\n",
       "Df Model:                           1                                                  \n",
       "Covariance Type:            nonrobust                                                  \n",
       "==============================================================================\n",
       "                 coef    std err          t      P>|t|      [0.025      0.975]\n",
       "------------------------------------------------------------------------------\n",
       "RM             3.6534      0.054     67.930      0.000       3.548       3.759\n",
       "==============================================================================\n",
       "Omnibus:                       83.295   Durbin-Watson:                   0.493\n",
       "Prob(Omnibus):                  0.000   Jarque-Bera (JB):              152.507\n",
       "Skew:                           0.955   Prob(JB):                     7.65e-34\n",
       "Kurtosis:                       4.894   Cond. No.                         1.00\n",
       "==============================================================================\n",
       "\n",
       "Notes:\n",
       "[1] R² is computed without centering (uncentered) since the model does not contain a constant.\n",
       "[2] Standard Errors assume that the covariance matrix of the errors is correctly specified.\n",
       "\"\"\""
      ]
     },
     "execution_count": 48,
     "metadata": {},
     "output_type": "execute_result"
    }
   ],
   "source": [
    "X = df[\"RM\"]\n",
    "y = target[\"MEDV\"]\n",
    "\n",
    "model = sm.OLS(y, X).fit()\n",
    "predictions = model.predict(X)\n",
    "\n",
    "model.summary()"
   ]
  },
  {
   "cell_type": "code",
   "execution_count": 49,
   "id": "8df58bc4",
   "metadata": {},
   "outputs": [
    {
     "data": {
      "image/png": "[encoded data removed]",
      "text/plain": [
       "<Figure size 640x480 with 1 Axes>"
      ]
     },
     "metadata": {},
     "output_type": "display_data"
    }
   ],
   "source": [
    "plt.scatter(X, y, alpha=0.5)\n",
    "plt.plot(X, predictions)\n",
    "plt.title('Scatter plot x and y')\n",
    "plt.xlabel('x')\n",
    "plt.ylabel('y')\n",
    "plt.show()"
   ]
  },
  {
   "cell_type": "markdown",
   "id": "aa100404",
   "metadata": {},
   "source": [
    "## Using SKlearn"
   ]
  },
  {
   "cell_type": "code",
   "execution_count": 55,
   "id": "555110f5",
   "metadata": {},
   "outputs": [],
   "source": [
    "X = df\n",
    "y = target[['MEDV']]"
   ]
  },
  {
   "cell_type": "code",
   "execution_count": 56,
   "id": "6ed03d43",
   "metadata": {},
   "outputs": [],
   "source": [
    "lm = LinearRegression()\n",
    "model = lm.fit(X, y)"
   ]
  },
  {
   "cell_type": "code",
   "execution_count": 58,
   "id": "1c9c1caf",
   "metadata": {},
   "outputs": [],
   "source": [
    "predictions = lm.predict(X)\n",
    "## print(predictions)"
   ]
  },
  {
   "cell_type": "code",
   "execution_count": 59,
   "id": "c58e3ea5",
   "metadata": {},
   "outputs": [
    {
     "data": {
      "text/plain": [
       "0.7406426641094095"
      ]
     },
     "execution_count": 59,
     "metadata": {},
     "output_type": "execute_result"
    }
   ],
   "source": [
    "lm.score(X, y)"
   ]
  },
  {
   "cell_type": "markdown",
   "id": "0a7462a3",
   "metadata": {},
   "source": [
    "## SKLearn 2"
   ]
  },
  {
   "cell_type": "code",
   "execution_count": 60,
   "id": "69d61fc7",
   "metadata": {},
   "outputs": [
    {
     "data": {
      "text/html": [
       "<div>\n",
       "<style scoped>\n",
       "    .dataframe tbody tr th:only-of-type {\n",
       "        vertical-align: middle;\n",
       "    }\n",
       "\n",
       "    .dataframe tbody tr th {\n",
       "        vertical-align: top;\n",
       "    }\n",
       "\n",
       "    .dataframe thead th {\n",
       "        text-align: right;\n",
       "    }\n",
       "</style>\n",
       "<table border=\"1\" class=\"dataframe\">\n",
       "  <thead>\n",
       "    <tr style=\"text-align: right;\">\n",
       "      <th></th>\n",
       "      <th>horsepower</th>\n",
       "      <th>price</th>\n",
       "    </tr>\n",
       "  </thead>\n",
       "  <tbody>\n",
       "    <tr>\n",
       "      <th>0</th>\n",
       "      <td>111</td>\n",
       "      <td>13495.0</td>\n",
       "    </tr>\n",
       "    <tr>\n",
       "      <th>1</th>\n",
       "      <td>111</td>\n",
       "      <td>16500.0</td>\n",
       "    </tr>\n",
       "    <tr>\n",
       "      <th>2</th>\n",
       "      <td>154</td>\n",
       "      <td>16500.0</td>\n",
       "    </tr>\n",
       "    <tr>\n",
       "      <th>3</th>\n",
       "      <td>102</td>\n",
       "      <td>13950.0</td>\n",
       "    </tr>\n",
       "    <tr>\n",
       "      <th>4</th>\n",
       "      <td>115</td>\n",
       "      <td>17450.0</td>\n",
       "    </tr>\n",
       "  </tbody>\n",
       "</table>\n",
       "</div>"
      ],
      "text/plain": [
       "   horsepower    price\n",
       "0         111  13495.0\n",
       "1         111  16500.0\n",
       "2         154  16500.0\n",
       "3         102  13950.0\n",
       "4         115  17450.0"
      ]
     },
     "execution_count": 60,
     "metadata": {},
     "output_type": "execute_result"
    }
   ],
   "source": [
    "df = pd.read_csv('https://raw.githubusercontent.com/ardhiraka/PFDS_sources/master/CarPrice_Assignment.csv', usecols=['horsepower', 'price'])\n",
    "df.head()"
   ]
  },
  {
   "cell_type": "code",
   "execution_count": 61,
   "id": "1bb4021a",
   "metadata": {},
   "outputs": [
    {
     "data": {
      "text/plain": [
       "(205, 2)"
      ]
     },
     "execution_count": 61,
     "metadata": {},
     "output_type": "execute_result"
    }
   ],
   "source": [
    "df.shape"
   ]
  },
  {
   "cell_type": "code",
   "execution_count": 62,
   "id": "7bb68b67",
   "metadata": {},
   "outputs": [
    {
     "data": {
      "image/png": "[encoded data removed]",
      "text/plain": [
       "<Figure size 1200x400 with 2 Axes>"
      ]
     },
     "metadata": {},
     "output_type": "display_data"
    }
   ],
   "source": [
    "f = plt.figure(figsize=(12,4))\n",
    "\n",
    "f.add_subplot(1,2,1)\n",
    "df['horsepower'].plot(kind='kde')\n",
    "\n",
    "f.add_subplot(1,2,2)\n",
    "plt.boxplot(df['horsepower'])\n",
    "plt.show()"
   ]
  },
  {
   "cell_type": "code",
   "execution_count": 63,
   "id": "8311a5da",
   "metadata": {},
   "outputs": [
    {
     "data": {
      "image/png": "[encoded data removed]",
      "text/plain": [
       "<Figure size 640x480 with 1 Axes>"
      ]
     },
     "metadata": {},
     "output_type": "display_data"
    }
   ],
   "source": [
    "plt.scatter(df['horsepower'], df['price'])\n",
    "\n",
    "plt.xlabel('Horsepower')\n",
    "plt.ylabel('Price')\n",
    "plt.title('Scatter Plot Horsepower vs Price')\n",
    "plt.show()"
   ]
  },
  {
   "cell_type": "code",
   "execution_count": 64,
   "id": "32d45929",
   "metadata": {},
   "outputs": [
    {
     "data": {
      "text/html": [
       "<div>\n",
       "<style scoped>\n",
       "    .dataframe tbody tr th:only-of-type {\n",
       "        vertical-align: middle;\n",
       "    }\n",
       "\n",
       "    .dataframe tbody tr th {\n",
       "        vertical-align: top;\n",
       "    }\n",
       "\n",
       "    .dataframe thead th {\n",
       "        text-align: right;\n",
       "    }\n",
       "</style>\n",
       "<table border=\"1\" class=\"dataframe\">\n",
       "  <thead>\n",
       "    <tr style=\"text-align: right;\">\n",
       "      <th></th>\n",
       "      <th>horsepower</th>\n",
       "      <th>price</th>\n",
       "    </tr>\n",
       "  </thead>\n",
       "  <tbody>\n",
       "    <tr>\n",
       "      <th>horsepower</th>\n",
       "      <td>1.000000</td>\n",
       "      <td>0.808139</td>\n",
       "    </tr>\n",
       "    <tr>\n",
       "      <th>price</th>\n",
       "      <td>0.808139</td>\n",
       "      <td>1.000000</td>\n",
       "    </tr>\n",
       "  </tbody>\n",
       "</table>\n",
       "</div>"
      ],
      "text/plain": [
       "            horsepower     price\n",
       "horsepower    1.000000  0.808139\n",
       "price         0.808139  1.000000"
      ]
     },
     "execution_count": 64,
     "metadata": {},
     "output_type": "execute_result"
    }
   ],
   "source": [
    "df.corr()"
   ]
  },
  {
   "cell_type": "code",
   "execution_count": 65,
   "id": "2d1d9097",
   "metadata": {},
   "outputs": [],
   "source": [
    "x = df['horsepower'].values.reshape(-1,1)\n",
    "y = df['price'].values.reshape(-1,1)"
   ]
  },
  {
   "cell_type": "code",
   "execution_count": 68,
   "id": "f6d85ee3",
   "metadata": {},
   "outputs": [],
   "source": [
    "x_train, x_test, y_train, y_test = train_test_split(x, y, test_size=0.2)"
   ]
  },
  {
   "cell_type": "code",
   "execution_count": 73,
   "id": "e3afa48f",
   "metadata": {},
   "outputs": [
    {
     "name": "stdout",
     "output_type": "stream",
     "text": [
      "(164, 1)\n",
      "(41, 1)\n",
      "(164, 1)\n",
      "(41, 1)\n"
     ]
    }
   ],
   "source": [
    "print(x_train.shape)\n",
    "print(x_test.shape)\n",
    "print(y_train.shape)\n",
    "print(y_test .shape)"
   ]
  },
  {
   "cell_type": "code",
   "execution_count": 69,
   "id": "45774802",
   "metadata": {},
   "outputs": [
    {
     "data": {
      "text/plain": [
       "(164, 1)"
      ]
     },
     "execution_count": 69,
     "metadata": {},
     "output_type": "execute_result"
    }
   ],
   "source": [
    "x_train.shape"
   ]
  },
  {
   "cell_type": "code",
   "execution_count": 70,
   "id": "19e24620",
   "metadata": {},
   "outputs": [
    {
     "data": {
      "text/plain": [
       "(41, 1)"
      ]
     },
     "execution_count": 70,
     "metadata": {},
     "output_type": "execute_result"
    }
   ],
   "source": [
    "x_test.shape"
   ]
  },
  {
   "cell_type": "code",
   "execution_count": 71,
   "id": "4be49594",
   "metadata": {},
   "outputs": [
    {
     "data": {
      "text/html": [
       "<style>#sk-container-id-6 {color: black;background-color: white;}#sk-container-id-6 pre{padding: 0;}#sk-container-id-6 div.sk-toggleable {background-color: white;}#sk-container-id-6 label.sk-toggleable__label {cursor: pointer;display: block;width: 100%;margin-bottom: 0;padding: 0.3em;box-sizing: border-box;text-align: center;}#sk-container-id-6 label.sk-toggleable__label-arrow:before {content: \"▸\";float: left;margin-right: 0.25em;color: #696969;}#sk-container-id-6 label.sk-toggleable__label-arrow:hover:before {color: black;}#sk-container-id-6 div.sk-estimator:hover label.sk-toggleable__label-arrow:before {color: black;}#sk-container-id-6 div.sk-toggleable__content {max-height: 0;max-width: 0;overflow: hidden;text-align: left;background-color: #f0f8ff;}#sk-container-id-6 div.sk-toggleable__content pre {margin: 0.2em;color: black;border-radius: 0.25em;background-color: #f0f8ff;}#sk-container-id-6 input.sk-toggleable__control:checked~div.sk-toggleable__content {max-height: 200px;max-width: 100%;overflow: auto;}#sk-container-id-6 input.sk-toggleable__control:checked~label.sk-toggleable__label-arrow:before {content: \"▾\";}#sk-container-id-6 div.sk-estimator input.sk-toggleable__control:checked~label.sk-toggleable__label {background-color: #d4ebff;}#sk-container-id-6 div.sk-label input.sk-toggleable__control:checked~label.sk-toggleable__label {background-color: #d4ebff;}#sk-container-id-6 input.sk-hidden--visually {border: 0;clip: rect(1px 1px 1px 1px);clip: rect(1px, 1px, 1px, 1px);height: 1px;margin: -1px;overflow: hidden;padding: 0;position: absolute;width: 1px;}#sk-container-id-6 div.sk-estimator {font-family: monospace;background-color: #f0f8ff;border: 1px dotted black;border-radius: 0.25em;box-sizing: border-box;margin-bottom: 0.5em;}#sk-container-id-6 div.sk-estimator:hover {background-color: #d4ebff;}#sk-container-id-6 div.sk-parallel-item::after {content: \"\";width: 100%;border-bottom: 1px solid gray;flex-grow: 1;}#sk-container-id-6 div.sk-label:hover label.sk-toggleable__label {background-color: #d4ebff;}#sk-container-id-6 div.sk-serial::before {content: \"\";position: absolute;border-left: 1px solid gray;box-sizing: border-box;top: 0;bottom: 0;left: 50%;z-index: 0;}#sk-container-id-6 div.sk-serial {display: flex;flex-direction: column;align-items: center;background-color: white;padding-right: 0.2em;padding-left: 0.2em;position: relative;}#sk-container-id-6 div.sk-item {position: relative;z-index: 1;}#sk-container-id-6 div.sk-parallel {display: flex;align-items: stretch;justify-content: center;background-color: white;position: relative;}#sk-container-id-6 div.sk-item::before, #sk-container-id-6 div.sk-parallel-item::before {content: \"\";position: absolute;border-left: 1px solid gray;box-sizing: border-box;top: 0;bottom: 0;left: 50%;z-index: -1;}#sk-container-id-6 div.sk-parallel-item {display: flex;flex-direction: column;z-index: 1;position: relative;background-color: white;}#sk-container-id-6 div.sk-parallel-item:first-child::after {align-self: flex-end;width: 50%;}#sk-container-id-6 div.sk-parallel-item:last-child::after {align-self: flex-start;width: 50%;}#sk-container-id-6 div.sk-parallel-item:only-child::after {width: 0;}#sk-container-id-6 div.sk-dashed-wrapped {border: 1px dashed gray;margin: 0 0.4em 0.5em 0.4em;box-sizing: border-box;padding-bottom: 0.4em;background-color: white;}#sk-container-id-6 div.sk-label label {font-family: monospace;font-weight: bold;display: inline-block;line-height: 1.2em;}#sk-container-id-6 div.sk-label-container {text-align: center;}#sk-container-id-6 div.sk-container {/* jupyter's `normalize.less` sets `[hidden] { display: none; }` but bootstrap.min.css set `[hidden] { display: none !important; }` so we also need the `!important` here to be able to override the default hidden behavior on the sphinx rendered scikit-learn.org. See: https://github.com/scikit-learn/scikit-learn/issues/21755 */display: inline-block !important;position: relative;}#sk-container-id-6 div.sk-text-repr-fallback {display: none;}</style><div id=\"sk-container-id-6\" class=\"sk-top-container\"><div class=\"sk-text-repr-fallback\"><pre>LinearRegression()</pre><b>In a Jupyter environment, please rerun this cell to show the HTML representation or trust the notebook. <br />On GitHub, the HTML representation is unable to render, please try loading this page with nbviewer.org.</b></div><div class=\"sk-container\" hidden><div class=\"sk-item\"><div class=\"sk-estimator sk-toggleable\"><input class=\"sk-toggleable__control sk-hidden--visually\" id=\"sk-estimator-id-6\" type=\"checkbox\" checked><label for=\"sk-estimator-id-6\" class=\"sk-toggleable__label sk-toggleable__label-arrow\">LinearRegression</label><div class=\"sk-toggleable__content\"><pre>LinearRegression()</pre></div></div></div></div></div>"
      ],
      "text/plain": [
       "LinearRegression()"
      ]
     },
     "execution_count": 71,
     "metadata": {},
     "output_type": "execute_result"
    }
   ],
   "source": [
    "lin_reg = LinearRegression()\n",
    "lin_reg.fit(x_train, y_train)"
   ]
  },
  {
   "cell_type": "code",
   "execution_count": 74,
   "id": "d150e0a8",
   "metadata": {},
   "outputs": [],
   "source": [
    "# LinearRegression(copy_X=True, fit_intercept=True, n_jobs=None, normalize=False)"
   ]
  },
  {
   "cell_type": "code",
   "execution_count": 75,
   "id": "2a58c7b5",
   "metadata": {},
   "outputs": [
    {
     "name": "stdout",
     "output_type": "stream",
     "text": [
      "[[165.56613511]]\n",
      "[-3905.94908848]\n"
     ]
    }
   ],
   "source": [
    "print(lin_reg.coef_)\n",
    "print(lin_reg.intercept_)"
   ]
  },
  {
   "cell_type": "code",
   "execution_count": 76,
   "id": "36c34fa3",
   "metadata": {},
   "outputs": [
    {
     "data": {
      "text/plain": [
       "0.5257371654041009"
      ]
     },
     "execution_count": 76,
     "metadata": {},
     "output_type": "execute_result"
    }
   ],
   "source": [
    "lin_reg.score(x_test, y_test)"
   ]
  },
  {
   "cell_type": "code",
   "execution_count": 77,
   "id": "4b630bf3",
   "metadata": {},
   "outputs": [
    {
     "data": {
      "text/plain": [
       "Text(0.5, 1.0, 'Plot Horsepower vs Price')"
      ]
     },
     "execution_count": 77,
     "metadata": {},
     "output_type": "execute_result"
    },
    {
     "data": {
      "image/png": "[encoded data removed]",
      "text/plain": [
       "<Figure size 640x480 with 1 Axes>"
      ]
     },
     "metadata": {},
     "output_type": "display_data"
    }
   ],
   "source": [
    "y_prediction = lin_reg.predict(x_test)\n",
    "\n",
    "plt.scatter(x_test, y_test)\n",
    "plt.plot(x_test, y_prediction, c='r')\n",
    "plt.xlabel('Horsepower')\n",
    "plt.ylabel('Price')\n",
    "plt.title('Plot Horsepower vs Price')"
   ]
  },
  {
   "cell_type": "code",
   "execution_count": 78,
   "id": "00017785",
   "metadata": {},
   "outputs": [
    {
     "data": {
      "text/plain": [
       "array([[12650.6644225]])"
      ]
     },
     "execution_count": 78,
     "metadata": {},
     "output_type": "execute_result"
    }
   ],
   "source": [
    "lin_reg.predict([[100]])"
   ]
  },
  {
   "cell_type": "code",
   "execution_count": 79,
   "id": "3227de96",
   "metadata": {},
   "outputs": [
    {
     "data": {
      "text/plain": [
       "array([[20928.971178]])"
      ]
     },
     "execution_count": 79,
     "metadata": {},
     "output_type": "execute_result"
    }
   ],
   "source": [
    "lin_reg.predict([[150]])"
   ]
  },
  {
   "cell_type": "code",
   "execution_count": 81,
   "id": "d2e6ca86",
   "metadata": {},
   "outputs": [
    {
     "data": {
      "text/plain": [
       "array([[29207.27793349]])"
      ]
     },
     "execution_count": 81,
     "metadata": {},
     "output_type": "execute_result"
    }
   ],
   "source": [
    "lin_reg.predict([[200]])"
   ]
  }
 ],
 "metadata": {
  "kernelspec": {
   "display_name": "kmhacktiv8",
   "language": "python",
   "name": "kmhacktiv8"
  },
  "language_info": {
   "codemirror_mode": {
    "name": "ipython",
    "version": 3
   },
   "file_extension": ".py",
   "mimetype": "text/x-python",
   "name": "python",
   "nbconvert_exporter": "python",
   "pygments_lexer": "ipython3",
   "version": "3.10.10"
  }
 },
 "nbformat": 4,
 "nbformat_minor": 5
}
