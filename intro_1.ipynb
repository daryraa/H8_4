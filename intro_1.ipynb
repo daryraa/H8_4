{
 "cells": [
  {
   "cell_type": "code",
   "execution_count": 1,
   "metadata": {},
   "outputs": [
    {
     "name": "stdout",
     "output_type": "stream",
     "text": [
      "hello world \n"
     ]
    }
   ],
   "source": [
    "print(\"hello world \",)"
   ]
  },
  {
   "cell_type": "code",
   "execution_count": 2,
   "metadata": {},
   "outputs": [
    {
     "data": {
      "text/plain": [
       "int"
      ]
     },
     "execution_count": 2,
     "metadata": {},
     "output_type": "execute_result"
    }
   ],
   "source": [
    "type(1)"
   ]
  },
  {
   "cell_type": "code",
   "execution_count": 3,
   "metadata": {},
   "outputs": [
    {
     "name": "stdout",
     "output_type": "stream",
     "text": [
      "15.8\n",
      "<class 'float'>\n"
     ]
    }
   ],
   "source": [
    "print(15.8)\n",
    "print(type(15.8))"
   ]
  },
  {
   "cell_type": "code",
   "execution_count": 4,
   "metadata": {},
   "outputs": [
    {
     "data": {
      "text/plain": [
       "True"
      ]
     },
     "execution_count": 4,
     "metadata": {},
     "output_type": "execute_result"
    }
   ],
   "source": [
    "0.2 ==.2"
   ]
  },
  {
   "cell_type": "code",
   "execution_count": 5,
   "metadata": {},
   "outputs": [
    {
     "data": {
      "text/plain": [
       "500.0"
      ]
     },
     "execution_count": 5,
     "metadata": {},
     "output_type": "execute_result"
    }
   ],
   "source": [
    "5e2 #e itu bilangan natural"
   ]
  },
  {
   "attachments": {},
   "cell_type": "markdown",
   "metadata": {},
   "source": [
    "String"
   ]
  },
  {
   "attachments": {},
   "cell_type": "markdown",
   "metadata": {},
   "source": [
    "Dalam string kita perlu menggunakan \"\" atau ''"
   ]
  },
  {
   "cell_type": "code",
   "execution_count": 6,
   "metadata": {},
   "outputs": [
    {
     "name": "stdout",
     "output_type": "stream",
     "text": [
      "hellow rodl\n"
     ]
    }
   ],
   "source": [
    "print(\"hellow rodl\")"
   ]
  },
  {
   "cell_type": "code",
   "execution_count": 11,
   "metadata": {},
   "outputs": [],
   "source": [
    "x5 = \"anjay\"\n",
    "x5\n",
    "a = 15\n",
    "b =15"
   ]
  },
  {
   "cell_type": "code",
   "execution_count": 8,
   "metadata": {},
   "outputs": [],
   "source": [
    "namaMurid = \"john doe\"\n",
    "nama_murid = \"john Doe\""
   ]
  },
  {
   "cell_type": "code",
   "execution_count": 12,
   "metadata": {},
   "outputs": [
    {
     "name": "stdout",
     "output_type": "stream",
     "text": [
      "30\n",
      "30\n"
     ]
    }
   ],
   "source": [
    "print(15+15)\n",
    "print(a+b)"
   ]
  },
  {
   "cell_type": "code",
   "execution_count": 17,
   "metadata": {},
   "outputs": [
    {
     "name": "stdout",
     "output_type": "stream",
     "text": [
      "10\n",
      "10\n",
      "True\n"
     ]
    }
   ],
   "source": [
    "print(int(50/5))\n",
    "print(50//5)\n",
    "print(\"hello\"<\"tv\")"
   ]
  },
  {
   "cell_type": "code",
   "execution_count": 18,
   "metadata": {},
   "outputs": [
    {
     "data": {
      "text/plain": [
       "True"
      ]
     },
     "execution_count": 18,
     "metadata": {},
     "output_type": "execute_result"
    }
   ],
   "source": [
    "True != False"
   ]
  },
  {
   "cell_type": "code",
   "execution_count": 19,
   "metadata": {},
   "outputs": [
    {
     "name": "stdout",
     "output_type": "stream",
     "text": [
      "['apel', 'pisang']\n"
     ]
    }
   ],
   "source": [
    "a = [\"apel\",\"pisang\"]\n",
    "b = [\"mobil\",\"motor\"]\n",
    "\n",
    "print(a)\n"
   ]
  },
  {
   "cell_type": "code",
   "execution_count": 8,
   "metadata": {},
   "outputs": [
    {
     "name": "stdout",
     "output_type": "stream",
     "text": [
      "1500\n",
      "1505\n",
      "1510\n",
      "1512\n",
      "1515\n",
      "1519\n",
      "1520\n",
      "1525\n",
      "1526\n",
      "1530\n",
      "1533\n",
      "1535\n",
      "1540\n",
      "1545\n",
      "1547\n",
      "1550\n",
      "1554\n",
      "1555\n",
      "1560\n",
      "1561\n",
      "1565\n",
      "1568\n",
      "1570\n",
      "1575\n",
      "1580\n",
      "1582\n",
      "1585\n",
      "1589\n",
      "1590\n",
      "1595\n",
      "1596\n",
      "1600\n",
      "1603\n",
      "1605\n",
      "1610\n",
      "1615\n",
      "1617\n",
      "1620\n",
      "1624\n",
      "1625\n",
      "1630\n",
      "1631\n",
      "1635\n",
      "1638\n",
      "1640\n",
      "1645\n",
      "1650\n",
      "1652\n",
      "1655\n",
      "1659\n",
      "1660\n",
      "1665\n",
      "1666\n",
      "1670\n",
      "1673\n",
      "1675\n",
      "1680\n",
      "1685\n",
      "1687\n",
      "1690\n",
      "1694\n",
      "1695\n",
      "1700\n",
      "1701\n",
      "1705\n",
      "1708\n",
      "1710\n",
      "1715\n",
      "1720\n",
      "1722\n",
      "1725\n",
      "1729\n",
      "1730\n",
      "1735\n",
      "1736\n",
      "1740\n",
      "1743\n",
      "1745\n",
      "1750\n",
      "1755\n",
      "1757\n",
      "1760\n",
      "1764\n",
      "1765\n",
      "1770\n",
      "1771\n",
      "1775\n",
      "1778\n",
      "1780\n",
      "1785\n",
      "1790\n",
      "1792\n",
      "1795\n",
      "1799\n",
      "1800\n",
      "1805\n",
      "1806\n",
      "1810\n",
      "1813\n",
      "1815\n",
      "1820\n",
      "1825\n",
      "1827\n",
      "1830\n",
      "1834\n",
      "1835\n",
      "1840\n",
      "1841\n",
      "1845\n",
      "1848\n",
      "1850\n",
      "1855\n",
      "1860\n",
      "1862\n",
      "1865\n",
      "1869\n",
      "1870\n",
      "1875\n",
      "1876\n",
      "1880\n",
      "1883\n",
      "1885\n",
      "1890\n",
      "1895\n",
      "1897\n",
      "1900\n",
      "1904\n",
      "1905\n",
      "1910\n",
      "1911\n",
      "1915\n",
      "1918\n",
      "1920\n",
      "1925\n",
      "1930\n",
      "1932\n",
      "1935\n",
      "1939\n",
      "1940\n",
      "1945\n",
      "1946\n",
      "1950\n",
      "1953\n",
      "1955\n",
      "1960\n",
      "1965\n",
      "1967\n",
      "1970\n",
      "1974\n",
      "1975\n",
      "1980\n",
      "1981\n",
      "1985\n",
      "1988\n",
      "1990\n",
      "1995\n",
      "2000\n",
      "2002\n",
      "2005\n",
      "2009\n",
      "2010\n",
      "2015\n",
      "2016\n",
      "2020\n",
      "2023\n",
      "2025\n",
      "2030\n",
      "2035\n",
      "2037\n",
      "2040\n",
      "2044\n",
      "2045\n",
      "2050\n",
      "2051\n",
      "2055\n",
      "2058\n",
      "2060\n",
      "2065\n",
      "2070\n",
      "2072\n",
      "2075\n",
      "2079\n",
      "2080\n",
      "2085\n",
      "2086\n",
      "2090\n",
      "2093\n",
      "2095\n",
      "2100\n",
      "2105\n",
      "2107\n",
      "2110\n",
      "2114\n",
      "2115\n",
      "2120\n",
      "2121\n",
      "2125\n",
      "2128\n",
      "2130\n",
      "2135\n",
      "2140\n",
      "2142\n",
      "2145\n",
      "2149\n",
      "2150\n",
      "2155\n",
      "2156\n",
      "2160\n",
      "2163\n",
      "2165\n",
      "2170\n",
      "2175\n",
      "2177\n",
      "2180\n",
      "2184\n",
      "2185\n",
      "2190\n",
      "2191\n",
      "2195\n",
      "2198\n",
      "2200\n",
      "2205\n",
      "2210\n",
      "2212\n",
      "2215\n",
      "2219\n",
      "2220\n",
      "2225\n",
      "2226\n",
      "2230\n",
      "2233\n",
      "2235\n",
      "2240\n",
      "2245\n",
      "2247\n",
      "2250\n",
      "2254\n",
      "2255\n",
      "2260\n",
      "2261\n",
      "2265\n",
      "2268\n",
      "2270\n",
      "2275\n",
      "2280\n",
      "2282\n",
      "2285\n",
      "2289\n",
      "2290\n",
      "2295\n",
      "2296\n",
      "2300\n",
      "2303\n",
      "2305\n",
      "2310\n",
      "2315\n",
      "2317\n",
      "2320\n",
      "2324\n",
      "2325\n",
      "2330\n",
      "2331\n",
      "2335\n",
      "2338\n",
      "2340\n",
      "2345\n",
      "2350\n",
      "2352\n",
      "2355\n",
      "2359\n",
      "2360\n",
      "2365\n",
      "2366\n",
      "2370\n",
      "2373\n",
      "2375\n",
      "2380\n",
      "2385\n",
      "2387\n",
      "2390\n",
      "2394\n",
      "2395\n",
      "2400\n",
      "2401\n",
      "2405\n",
      "2408\n",
      "2410\n",
      "2415\n",
      "2420\n",
      "2422\n",
      "2425\n",
      "2429\n",
      "2430\n",
      "2435\n",
      "2436\n",
      "2440\n",
      "2443\n",
      "2445\n",
      "2450\n",
      "2455\n",
      "2457\n",
      "2460\n",
      "2464\n",
      "2465\n",
      "2470\n",
      "2471\n",
      "2475\n",
      "2478\n",
      "2480\n",
      "2485\n",
      "2490\n",
      "2492\n",
      "2495\n",
      "2499\n",
      "2500\n",
      "2505\n",
      "2506\n",
      "2510\n",
      "2513\n",
      "2515\n",
      "2520\n",
      "2525\n",
      "2527\n",
      "2530\n",
      "2534\n",
      "2535\n",
      "2540\n",
      "2541\n",
      "2545\n",
      "2548\n",
      "2550\n",
      "2555\n",
      "2560\n",
      "2562\n",
      "2565\n",
      "2569\n",
      "2570\n",
      "2575\n",
      "2576\n",
      "2580\n",
      "2583\n",
      "2585\n",
      "2590\n",
      "2595\n",
      "2597\n",
      "2600\n",
      "2604\n",
      "2605\n",
      "2610\n",
      "2611\n",
      "2615\n",
      "2618\n",
      "2620\n",
      "2625\n",
      "2630\n",
      "2632\n",
      "2635\n",
      "2639\n",
      "2640\n",
      "2645\n",
      "2646\n",
      "2650\n",
      "2653\n",
      "2655\n",
      "2660\n",
      "2665\n",
      "2667\n",
      "2670\n",
      "2674\n",
      "2675\n",
      "2680\n",
      "2681\n",
      "2685\n",
      "2688\n",
      "2690\n",
      "2695\n"
     ]
    }
   ],
   "source": [
    "for x in range (1500,2700):\n",
    "    if x%7==0 or x%5==0:\n",
    "        print(x)"
   ]
  },
  {
   "cell_type": "code",
   "execution_count": 4,
   "metadata": {},
   "outputs": [
    {
     "data": {
      "text/plain": [
       "215.0"
      ]
     },
     "execution_count": 4,
     "metadata": {},
     "output_type": "execute_result"
    }
   ],
   "source": [
    "1505/7"
   ]
  },
  {
   "cell_type": "code",
   "execution_count": 1,
   "metadata": {},
   "outputs": [
    {
     "ename": "ModuleNotFoundError",
     "evalue": "No module named 'modules'",
     "output_type": "error",
     "traceback": [
      "\u001b[1;31m---------------------------------------------------------------------------\u001b[0m",
      "\u001b[1;31mModuleNotFoundError\u001b[0m                       Traceback (most recent call last)",
      "\u001b[1;32me:\\euy\\KAMPUS MERDEKA\\PEMBELAJARAN\\intro_1.ipynb Cell 17\u001b[0m in \u001b[0;36m<cell line: 1>\u001b[1;34m()\u001b[0m\n\u001b[1;32m----> <a href='vscode-notebook-cell:/e%3A/euy/KAMPUS%20MERDEKA/PEMBELAJARAN/intro_1.ipynb#X22sZmlsZQ%3D%3D?line=0'>1</a>\u001b[0m \u001b[39mfrom\u001b[39;00m \u001b[39mmodules\u001b[39;00m \u001b[39mimport\u001b[39;00m mod\n",
      "\u001b[1;31mModuleNotFoundError\u001b[0m: No module named 'modules'"
     ]
    }
   ],
   "source": [
    "from modules import mod"
   ]
  },
  {
   "cell_type": "code",
   "execution_count": null,
   "metadata": {},
   "outputs": [],
   "source": [
    "mod.s"
   ]
  },
  {
   "cell_type": "code",
   "execution_count": 3,
   "metadata": {},
   "outputs": [],
   "source": [
    "def fact(n):\n",
    "    if n == 1:\n",
    "        print(1)\n",
    "    else:\n",
    "        fact(n-1)"
   ]
  }
 ],
 "metadata": {
  "kernelspec": {
   "display_name": "base",
   "language": "python",
   "name": "python3"
  },
  "language_info": {
   "codemirror_mode": {
    "name": "ipython",
    "version": 3
   },
   "file_extension": ".py",
   "mimetype": "text/x-python",
   "name": "python",
   "nbconvert_exporter": "python",
   "pygments_lexer": "ipython3",
   "version": "3.9.12"
  },
  "orig_nbformat": 4
 },
 "nbformat": 4,
 "nbformat_minor": 2
}
