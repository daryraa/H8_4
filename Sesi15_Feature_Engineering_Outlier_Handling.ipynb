{
 "cells": [
  {
   "cell_type": "markdown",
   "id": "af7f4517",
   "metadata": {},
   "source": [
    "# A. Outliers Explanation\n",
    "\n",
    "## Purpose\n",
    "\n",
    "We will:\n",
    "\n",
    "- Identify outliers in Normally distributed variables.\n",
    "- Identify outliers in skewed variables."
   ]
  },
  {
   "cell_type": "code",
   "execution_count": 41,
   "id": "d0bf1d8c",
   "metadata": {},
   "outputs": [],
   "source": [
    "import pandas as pd\n",
    "import numpy as np\n",
    "import matplotlib.pyplot as plt\n",
    "import seaborn as sns\n",
    "import scipy.stats as stats"
   ]
  },
  {
   "cell_type": "code",
   "execution_count": 42,
   "id": "5ed11005",
   "metadata": {},
   "outputs": [
    {
     "data": {
      "text/html": [
       "<div>\n",
       "<style scoped>\n",
       "    .dataframe tbody tr th:only-of-type {\n",
       "        vertical-align: middle;\n",
       "    }\n",
       "\n",
       "    .dataframe tbody tr th {\n",
       "        vertical-align: top;\n",
       "    }\n",
       "\n",
       "    .dataframe thead th {\n",
       "        text-align: right;\n",
       "    }\n",
       "</style>\n",
       "<table border=\"1\" class=\"dataframe\">\n",
       "  <thead>\n",
       "    <tr style=\"text-align: right;\">\n",
       "      <th></th>\n",
       "      <th>RM</th>\n",
       "      <th>LSTAT</th>\n",
       "      <th>CRIM</th>\n",
       "    </tr>\n",
       "  </thead>\n",
       "  <tbody>\n",
       "    <tr>\n",
       "      <th>0</th>\n",
       "      <td>6.575</td>\n",
       "      <td>4.98</td>\n",
       "      <td>0.00632</td>\n",
       "    </tr>\n",
       "    <tr>\n",
       "      <th>1</th>\n",
       "      <td>6.421</td>\n",
       "      <td>9.14</td>\n",
       "      <td>0.02731</td>\n",
       "    </tr>\n",
       "    <tr>\n",
       "      <th>2</th>\n",
       "      <td>7.185</td>\n",
       "      <td>4.03</td>\n",
       "      <td>0.02729</td>\n",
       "    </tr>\n",
       "    <tr>\n",
       "      <th>3</th>\n",
       "      <td>6.998</td>\n",
       "      <td>2.94</td>\n",
       "      <td>0.03237</td>\n",
       "    </tr>\n",
       "    <tr>\n",
       "      <th>4</th>\n",
       "      <td>7.147</td>\n",
       "      <td>5.33</td>\n",
       "      <td>0.06905</td>\n",
       "    </tr>\n",
       "  </tbody>\n",
       "</table>\n",
       "</div>"
      ],
      "text/plain": [
       "      RM  LSTAT     CRIM\n",
       "0  6.575   4.98  0.00632\n",
       "1  6.421   9.14  0.02731\n",
       "2  7.185   4.03  0.02729\n",
       "3  6.998   2.94  0.03237\n",
       "4  7.147   5.33  0.06905"
      ]
     },
     "execution_count": 42,
     "metadata": {},
     "output_type": "execute_result"
    }
   ],
   "source": [
    "# Load the Boston House dataset from sklearn\n",
    "boston_dataset = pd.read_csv('https://raw.githubusercontent.com/ardhiraka/FSDS_Guidelines/master/p1/v3/w1/P1W1D2PM%20-%20Feature%20Engineering%20-%20Part%202%20-%20Boston.csv')\n",
    "\n",
    "# Create a dataframe with the independent variables\n",
    "# Legends : \n",
    "  # - CRIM     per capita crime rate by town\n",
    "  # - RM       average number of rooms per dwelling\n",
    "  # - LSTAT    % lower status of the population\n",
    "\n",
    "boston = boston_dataset[['RM', 'LSTAT', 'CRIM']]\n",
    "boston.head()"
   ]
  },
  {
   "cell_type": "code",
   "execution_count": 43,
   "id": "04b73dc6",
   "metadata": {},
   "outputs": [
    {
     "name": "stdout",
     "output_type": "stream",
     "text": [
      "Shape data :  (1309, 2) \n",
      "\n",
      "<class 'pandas.core.frame.DataFrame'>\n",
      "RangeIndex: 1309 entries, 0 to 1308\n",
      "Data columns (total 2 columns):\n",
      " #   Column  Non-Null Count  Dtype  \n",
      "---  ------  --------------  -----  \n",
      " 0   age     1046 non-null   float64\n",
      " 1   fare    1308 non-null   float64\n",
      "dtypes: float64(2)\n",
      "memory usage: 20.6 KB\n",
      "None \n",
      "\n"
     ]
    },
    {
     "data": {
      "text/html": [
       "<div>\n",
       "<style scoped>\n",
       "    .dataframe tbody tr th:only-of-type {\n",
       "        vertical-align: middle;\n",
       "    }\n",
       "\n",
       "    .dataframe tbody tr th {\n",
       "        vertical-align: top;\n",
       "    }\n",
       "\n",
       "    .dataframe thead th {\n",
       "        text-align: right;\n",
       "    }\n",
       "</style>\n",
       "<table border=\"1\" class=\"dataframe\">\n",
       "  <thead>\n",
       "    <tr style=\"text-align: right;\">\n",
       "      <th></th>\n",
       "      <th>age</th>\n",
       "      <th>fare</th>\n",
       "    </tr>\n",
       "  </thead>\n",
       "  <tbody>\n",
       "    <tr>\n",
       "      <th>0</th>\n",
       "      <td>29.0000</td>\n",
       "      <td>211.3375</td>\n",
       "    </tr>\n",
       "    <tr>\n",
       "      <th>1</th>\n",
       "      <td>0.9167</td>\n",
       "      <td>151.5500</td>\n",
       "    </tr>\n",
       "    <tr>\n",
       "      <th>2</th>\n",
       "      <td>2.0000</td>\n",
       "      <td>151.5500</td>\n",
       "    </tr>\n",
       "    <tr>\n",
       "      <th>3</th>\n",
       "      <td>30.0000</td>\n",
       "      <td>151.5500</td>\n",
       "    </tr>\n",
       "    <tr>\n",
       "      <th>4</th>\n",
       "      <td>25.0000</td>\n",
       "      <td>151.5500</td>\n",
       "    </tr>\n",
       "  </tbody>\n",
       "</table>\n",
       "</div>"
      ],
      "text/plain": [
       "       age      fare\n",
       "0  29.0000  211.3375\n",
       "1   0.9167  151.5500\n",
       "2   2.0000  151.5500\n",
       "3  30.0000  151.5500\n",
       "4  25.0000  151.5500"
      ]
     },
     "execution_count": 43,
     "metadata": {},
     "output_type": "execute_result"
    }
   ],
   "source": [
    "# Load the Titanic dataset\n",
    "\n",
    "url = 'https://www.openml.org/data/get_csv/16826755/phpMYEkMl'\n",
    "titanic = pd.read_csv(url, usecols=['age', 'fare'])\n",
    "\n",
    "# The variables age and fare have missing values. For this missing value, let's remove them.\n",
    "titanic.dropna(subset=['age', 'fare'], inplace=True)\n",
    "titanic['age'] = pd.to_numeric(titanic['age'], errors = 'coerce')\n",
    "titanic['fare'] = pd.to_numeric(titanic['fare'], errors = 'coerce')\n",
    "titanic['age'] = titanic['age'].astype(float)\n",
    "titanic['fare'] = titanic['fare'].astype(float)\n",
    "\n",
    "print('Shape data : ', titanic.shape, '\\n')\n",
    "print(titanic.info(), '\\n')\n",
    "titanic.head()"
   ]
  },
  {
   "cell_type": "markdown",
   "id": "957ceefa",
   "metadata": {},
   "source": [
    "## Identifikasi distribusi variabel\n",
    "\n",
    "Dalam variabel terdistribusi normal, outlier adalah nilai yang berada di luar rata-rata plus atau minus 3 kali standar deviasi. Namun, jika variabelnya miring, kami menemukan outlier menggunakan rentang antar-kuantil. Untuk memutuskan metode mana yang digunakan untuk mendeteksi outlier, pertama-tama kita perlu mengetahui distribusi variabel.\n",
    "\n",
    "Kita dapat menggunakan histogram untuk menentukan apakah variabel terdistribusi secara normal. Kita juga dapat menggunakan boxplot untuk memvisualisasikan outlier secara langsung. Boxplot adalah cara standar untuk menampilkan distribusi variabel menggunakan kuartil pertama, median, kuartil ketiga, dan kumis.\n",
    "\n",
    "Melihat boxplot, Anda dapat dengan mudah mengidentifikasi:\n",
    "\n",
    "- Median, ditunjukkan dengan garis di dalam kotak.\n",
    "- Rentang antar-kuantil (IQR), kotak itu sendiri.\n",
    "- Kuantil, 25 (Q1) adalah ujung bawah dan 75 (Q3) ujung atas kotak.\n",
    "- Wiskers, yang meluas ke:\n",
    "   -- kumis atas: Q3 + 1,5 x IQR\n",
    "   -- kumis bawah: Q1 -1,5 x IQR\n",
    "\n",
    "Nilai apa pun yang berada di luar kumis dianggap sebagai outlier. Mari kita lihat contoh-contoh di bawah ini."
   ]
  },
  {
   "cell_type": "code",
   "execution_count": 44,
   "id": "464cb893",
   "metadata": {},
   "outputs": [],
   "source": [
    "# Function to create histogram and boxplot.\n",
    "# This functions takes a dataframe (df) and the variable of interest as arguments.\n",
    "\n",
    "def diagnostic_plots(df, variable):\n",
    "    # Define figure size\n",
    "    plt.figure(figsize=(16, 4))\n",
    "\n",
    "    # Histogram\n",
    "    plt.subplot(1, 2, 1)\n",
    "    sns.histplot(df[variable], bins=30)\n",
    "    plt.title('Histogram')\n",
    "\n",
    "    # Boxplot\n",
    "    plt.subplot(1, 2, 2)\n",
    "    sns.boxplot(y=df[variable])\n",
    "    plt.title('Boxplot')\n",
    "\n",
    "    plt.show()"
   ]
  },
  {
   "cell_type": "markdown",
   "id": "fdf97ab1",
   "metadata": {},
   "source": [
    "## Normally distributed variables"
   ]
  },
  {
   "cell_type": "code",
   "execution_count": 45,
   "id": "f879d66e",
   "metadata": {},
   "outputs": [
    {
     "data": {
      "image/png": "[encoded data removed]",
      "text/plain": [
       "<Figure size 1600x400 with 2 Axes>"
      ]
     },
     "metadata": {},
     "output_type": "display_data"
    },
    {
     "name": "stdout",
     "output_type": "stream",
     "text": [
      "\n",
      "Skewness Value :  0.40361213328874385\n"
     ]
    }
   ],
   "source": [
    "# Let's start with the variable RM from the Boston House dataset.\n",
    "# RM is the average number of rooms per dwelling\n",
    "\n",
    "diagnostic_plots(boston, 'RM')\n",
    "print('\\nSkewness Value : ', boston['RM'].skew())"
   ]
  },
  {
   "cell_type": "markdown",
   "id": "994863be",
   "metadata": {},
   "source": [
    "Dari histogram, kita melihat bahwa variabel rm mendekati distribusi Gaussian dengan cukup baik. Dalam plot kotak, kita melihat bahwa variabel dapat memiliki outlier, karena ada banyak titik di luar kumis, di kedua ujung distribusi.\n",
    "\n",
    "### Skewed Variables"
   ]
  },
  {
   "cell_type": "code",
   "execution_count": 46,
   "id": "60c9a73c",
   "metadata": {},
   "outputs": [
    {
     "data": {
      "image/png": "[encoded data removed]",
      "text/plain": [
       "<Figure size 1600x400 with 2 Axes>"
      ]
     },
     "metadata": {},
     "output_type": "display_data"
    },
    {
     "name": "stdout",
     "output_type": "stream",
     "text": [
      "\n",
      "Skewness Value :  0.9064600935915367\n"
     ]
    }
   ],
   "source": [
    "# Variable LSTAT from the boston house dataset\n",
    "# LSTAT is the % lower status of the population\n",
    "\n",
    "diagnostic_plots(boston, 'LSTAT')\n",
    "print('\\nSkewness Value : ', boston['LSTAT'].skew())"
   ]
  },
  {
   "cell_type": "markdown",
   "id": "beb148b7",
   "metadata": {},
   "source": [
    "LSTAT tidak berdistribusi normal, ia miring dengan ekor ke kanan. Menurut boxplot, ada beberapa outlier di ujung kanan distribusi variabel."
   ]
  },
  {
   "cell_type": "code",
   "execution_count": 47,
   "id": "dc6a4a7e",
   "metadata": {},
   "outputs": [
    {
     "data": {
      "image/png": "[encoded data removed]",
      "text/plain": [
       "<Figure size 1600x400 with 2 Axes>"
      ]
     },
     "metadata": {},
     "output_type": "display_data"
    },
    {
     "name": "stdout",
     "output_type": "stream",
     "text": [
      "\n",
      "Skewness Value :  5.223148798243851\n"
     ]
    }
   ],
   "source": [
    "# Variable CRIM from the boston house dataset\n",
    "# CRIM is the per capita crime rate by town\n",
    "\n",
    "diagnostic_plots(boston, 'CRIM')\n",
    "print('\\nSkewness Value : ', boston['CRIM'].skew())"
   ]
  },
  {
   "cell_type": "markdown",
   "id": "2dea14ec",
   "metadata": {},
   "source": [
    "CRIM sangat miring, dengan ekor ke kanan. Tampaknya ada beberapa outlier juga di ujung kanan distribusi, menurut boxplot."
   ]
  },
  {
   "cell_type": "code",
   "execution_count": 48,
   "id": "19f104cc",
   "metadata": {},
   "outputs": [
    {
     "data": {
      "image/png": "[encoded data removed]",
      "text/plain": [
       "<Figure size 1600x400 with 2 Axes>"
      ]
     },
     "metadata": {},
     "output_type": "display_data"
    },
    {
     "name": "stdout",
     "output_type": "stream",
     "text": [
      "\n",
      "Skewness Value :  4.367709134122922\n"
     ]
    }
   ],
   "source": [
    "# Variable Fare from the titanic dataset\n",
    "# Fare is the price paid for the ticket by the passengers\n",
    "\n",
    "diagnostic_plots(titanic, 'fare')\n",
    "print('\\nSkewness Value : ', titanic['fare'].skew())"
   ]
  },
  {
   "cell_type": "markdown",
   "id": "accf6a12",
   "metadata": {},
   "source": [
    "Tarif juga sangat miring, dan menunjukkan beberapa nilai yang tidak biasa di ujung kanan distribusinya.\n",
    "\n",
    "Di sel berikutnya, kami akan mengidentifikasi outlier menggunakan:\n",
    "- rata-rata dan standar deviasi untuk variabel `RM` dan `Usia` masing-masing dari set data boston dan titanic.\n",
    "- rentang inter-kuantil untuk mengidentifikasi outlier untuk variabel `LSTAT`, `CRIM`, dan `Fare` dari set data boston dan titanic.\n",
    "\n",
    "### Deteksi outlier untuk variabel terdistribusi normal"
   ]
  },
  {
   "cell_type": "code",
   "execution_count": 49,
   "id": "1dfceafb",
   "metadata": {},
   "outputs": [],
   "source": [
    "# Function to find upper and lower boundaries for normally distributed variables\n",
    "# Calculate the boundaries outside which sit the outliers for a Gaussian distribution\n",
    "\n",
    "def find_normal_boundaries(df, variable):\n",
    "    upper_boundary = df[variable].mean() + 3 * df[variable].std()\n",
    "    lower_boundary = df[variable].mean() - 3 * df[variable].std()\n",
    "\n",
    "    return upper_boundary, lower_boundary"
   ]
  },
  {
   "cell_type": "code",
   "execution_count": 50,
   "id": "ca5268ef",
   "metadata": {},
   "outputs": [
    {
     "data": {
      "text/plain": [
       "(8.39248581759775, 4.176782957105807)"
      ]
     },
     "execution_count": 50,
     "metadata": {},
     "output_type": "execute_result"
    }
   ],
   "source": [
    "# calculate boundaries for RM\n",
    "upper_boundary, lower_boundary = find_normal_boundaries(boston, 'RM')\n",
    "upper_boundary, lower_boundary"
   ]
  },
  {
   "cell_type": "markdown",
   "id": "e90ac16c",
   "metadata": {},
   "source": [
    "Dari penjelasan di atas kami menyimpulkan bahwa nilai **lebih besar dari 8,4** atau **lebih kecil dari 4,2** sangat jarang terjadi untuk variabel `RM`. Oleh karena itu, kita dapat menganggap mereka outlier."
   ]
  },
  {
   "cell_type": "code",
   "execution_count": 51,
   "id": "8594c35a",
   "metadata": {},
   "outputs": [
    {
     "name": "stdout",
     "output_type": "stream",
     "text": [
      "Total number of houses: 506\n",
      "Houses with more than 8.4 rooms (right end outliers) : 4\n",
      "Houses with less than 4.2 rooms (left end outliers.  : 4\n",
      "\n",
      "% right end outliers : 0.7905138339920948\n",
      "% left end outliers  : 0.7905138339920948\n"
     ]
    }
   ],
   "source": [
    "# Inspect the number and percentage of outliers for `RM`\n",
    "\n",
    "print('Total number of houses: {}'.format(len(boston)))\n",
    "print('Houses with more than 8.4 rooms (right end outliers) : {}'.format(len(boston[boston['RM'] > upper_boundary])))\n",
    "print('Houses with less than 4.2 rooms (left end outliers.  : {}'.format(len(boston[boston['RM'] < lower_boundary])))\n",
    "print('')\n",
    "print('% right end outliers : {}'.format(len(boston[boston['RM'] > upper_boundary]) / len(boston) * 100))\n",
    "print('% left end outliers  : {}'.format(len(boston[boston['RM'] < lower_boundary]) / len(boston) * 100))"
   ]
  },
  {
   "cell_type": "markdown",
   "id": "53138d67",
   "metadata": {},
   "source": [
    "Menggunakan Analisis Nilai Ekstrim kami mengidentifikasi outlier di kedua ujung distribusi `RM`. Persentase outlier kecil (1,58% mengingat 2 ekor bersamaan), yang masuk akal, karena kami menemukan outlier dengan tepat. Artinya, nilai langka, kejadian langka.\n",
    "\n",
    "Mari beralih ke `Age` di kumpulan data titanic."
   ]
  },
  {
   "cell_type": "code",
   "execution_count": 52,
   "id": "e51109ad",
   "metadata": {},
   "outputs": [
    {
     "data": {
      "text/plain": [
       "(73.12163361219909, -13.359364587342487)"
      ]
     },
     "execution_count": 52,
     "metadata": {},
     "output_type": "execute_result"
    }
   ],
   "source": [
    "# Calculate boundaries for `Age` in the titanic\n",
    "\n",
    "upper_boundary, lower_boundary = find_normal_boundaries(titanic, 'age')\n",
    "upper_boundary, lower_boundary"
   ]
  },
  {
   "cell_type": "markdown",
   "id": "783944da",
   "metadata": {},
   "source": [
    "Batas atas adalah **73 tahun**, yang berarti penumpang berusia di atas 73 tahun sangat sedikit, jika ada, di titanic. Batas bawah negatif. Karena usia negatif tidak ada, masuk akal untuk mencari outlier menggunakan batas atas."
   ]
  },
  {
   "cell_type": "code",
   "execution_count": 53,
   "id": "67ea59da",
   "metadata": {},
   "outputs": [
    {
     "name": "stdout",
     "output_type": "stream",
     "text": [
      "Total passengers         : 1309\n",
      "Passengers older than 73 : 3\n",
      "\n",
      "% of passengers older than 73 : 0.2291825821237586\n"
     ]
    }
   ],
   "source": [
    "# Lets look at the number and percentage of outliers\n",
    "\n",
    "print('Total passengers         : {}'.format(len(titanic)))\n",
    "print('Passengers older than 73 : {}'.format(len(titanic[titanic['age'] > upper_boundary])))\n",
    "print('')\n",
    "print('% of passengers older than 73 : {}'.format(len(titanic[titanic['age'] > upper_boundary]) / len(titanic) * 100))"
   ]
  },
  {
   "cell_type": "markdown",
   "id": "44d2118a",
   "metadata": {},
   "source": [
    "Ada 3 penumpang yang lebih tua dari 73 tahun di kapal titanic, yang bisa dianggap outlier, karena mayoritas penduduknya jauh lebih muda.\n",
    "\n",
    "### Outlier detection for skewed variables"
   ]
  },
  {
   "cell_type": "code",
   "execution_count": 54,
   "id": "352d398c",
   "metadata": {},
   "outputs": [],
   "source": [
    "# Function to find upper and lower boundaries for skewed distributed variables\n",
    "# Let's calculate the boundaries outside which sit the outliers for skewed distributions\n",
    "# Distance passed as an argument, gives us the option to estimate 1.5 times or 3 times the IQR to calculate the boundaries.\n",
    "\n",
    "def find_skewed_boundaries(df, variable, distance):\n",
    "    IQR = df[variable].quantile(0.75) - df[variable].quantile(0.25)\n",
    "\n",
    "    lower_boundary = df[variable].quantile(0.25) - (IQR * distance)\n",
    "    upper_boundary = df[variable].quantile(0.75) + (IQR * distance)\n",
    "\n",
    "    return upper_boundary, lower_boundary"
   ]
  },
  {
   "cell_type": "code",
   "execution_count": 55,
   "id": "3292a6f4",
   "metadata": {},
   "outputs": [
    {
     "data": {
      "text/plain": [
       "(31.962500000000006, -8.057500000000005)"
      ]
     },
     "execution_count": 55,
     "metadata": {},
     "output_type": "execute_result"
    }
   ],
   "source": [
    "# Looking for outliers, using the interquantile proximity rule IQR * 1.5, for `LSTAT` in the boston house dataset\n",
    "\n",
    "upper_boundary, lower_boundary = find_skewed_boundaries(boston, 'LSTAT', 1.5)\n",
    "upper_boundary, lower_boundary"
   ]
  },
  {
   "cell_type": "code",
   "execution_count": 56,
   "id": "825259f5",
   "metadata": {},
   "outputs": [
    {
     "name": "stdout",
     "output_type": "stream",
     "text": [
      "Total houses : 506\n",
      "Houses with LSTAT bigger than 32   : 7\n",
      "\n",
      "% houses with LSTAT bigger than 32 : 1.383399209486166\n"
     ]
    }
   ],
   "source": [
    "# Lets look at the number and percentage of outliers for `LSTAT`\n",
    "\n",
    "print('Total houses : {}'.format(len(boston)))\n",
    "print('Houses with LSTAT bigger than 32   : {}'.format(len(boston[boston['LSTAT'] > upper_boundary])))\n",
    "print('')\n",
    "print('% houses with LSTAT bigger than 32 : {}'.format(len(boston[boston['LSTAT'] > upper_boundary])/len(boston) * 100))"
   ]
  },
  {
   "cell_type": "markdown",
   "id": "ae7b8601",
   "metadata": {},
   "source": [
    "Batas atas menunjukkan nilai ~32. Batas bawahnya negatif, namun variabel `LSTAT` tidak mengambil nilai negatif. Jadi untuk menghitung outlier untuk LSTAT kami hanya menggunakan batas atas. Ini bertepatan dengan apa yang kami amati di plot kotak sebelumnya di buku catatan. Outlier hanya duduk di ujung kanan distribusi LSTAT. **Kami mengamati 7 rumah, 1,38% dari kumpulan data, dengan nilai yang sangat tinggi untuk `LSTAT`.**"
   ]
  },
  {
   "cell_type": "code",
   "execution_count": 57,
   "id": "7cb3d0ce",
   "metadata": {},
   "outputs": [
    {
     "data": {
      "text/plain": [
       "(9.06963875, -5.31051125)"
      ]
     },
     "execution_count": 57,
     "metadata": {},
     "output_type": "execute_result"
    }
   ],
   "source": [
    "# Looking for outliers, using the interquantile proximity rule IQR * 1.5, for `CRIM` in the boston house dataset\n",
    "\n",
    "upper_boundary, lower_boundary = find_skewed_boundaries(boston, 'CRIM', 1.5)\n",
    "upper_boundary, lower_boundary"
   ]
  },
  {
   "cell_type": "code",
   "execution_count": 58,
   "id": "fa17d45d",
   "metadata": {},
   "outputs": [
    {
     "name": "stdout",
     "output_type": "stream",
     "text": [
      "Total houses : 506\n",
      "Houses with CRIM bigger than 9   : 66\n",
      "\n",
      "% houses with CRIM bigger than 9 : 13.043478260869565\n"
     ]
    }
   ],
   "source": [
    "# Lets look at the number and percentage of outliers for `CRIM`\n",
    "\n",
    "print('Total houses : {}'.format(len(boston)))\n",
    "print('Houses with CRIM bigger than 9   : {}'.format(len(boston[boston['CRIM'] > upper_boundary])))\n",
    "print('')\n",
    "print('% houses with CRIM bigger than 9 : {}'.format(len(boston[boston['CRIM'] > upper_boundary]) / len(boston) * 100))"
   ]
  },
  {
   "cell_type": "code",
   "execution_count": 59,
   "id": "7b86c448",
   "metadata": {},
   "outputs": [
    {
     "data": {
      "text/plain": [
       "(14.462195000000001, -10.7030675)"
      ]
     },
     "execution_count": 59,
     "metadata": {},
     "output_type": "execute_result"
    }
   ],
   "source": [
    "# Looking for outliers, using the interquantile proximity rule IQR * 3, now lets looking for extremely high values for `CRIM` in the boston house dataset\n",
    "\n",
    "upper_boundary, lower_boundary = find_skewed_boundaries(boston, 'CRIM', 3)\n",
    "upper_boundary, lower_boundary"
   ]
  },
  {
   "cell_type": "code",
   "execution_count": 60,
   "id": "2f049a63",
   "metadata": {},
   "outputs": [
    {
     "name": "stdout",
     "output_type": "stream",
     "text": [
      "Total houses : 506\n",
      "Houses with CRIM bigger than 14   : 30\n",
      "\n",
      "% houses with CRIM bigger than 14 : 5.928853754940711\n"
     ]
    }
   ],
   "source": [
    "# Lets look at the number and percentage of outliers for `CRIM`\n",
    "\n",
    "print('Total houses : {}'.format(len(boston)))\n",
    "print('Houses with CRIM bigger than 14   : {}'.format(len(boston[boston['CRIM'] > upper_boundary])))\n",
    "print('')\n",
    "print('% houses with CRIM bigger than 14 : {}'.format(len(boston[boston['CRIM'] > upper_boundary]) / len(boston) * 100))"
   ]
  },
  {
   "cell_type": "markdown",
   "id": "d9d44ae2",
   "metadata": {},
   "source": [
    "When using :\n",
    "- the 1.5 times inter-quantile range to find outliers, we find that **~13%** of the houses show unusually high crime rate areas. \n",
    "- the 3 times inter-quantile range to find outliers, we find that **~6%** of the houses show unusually high crime rate areas. \n",
    "\n",
    "For `CRIM` as well, the lower boundary is negative, so it only makes sense to use the upper boundary to calculate outliers, as the variable takes only positive values. This coincides with what we observed in `CRIM`'s boxplot earlier in this notebook."
   ]
  },
  {
   "cell_type": "code",
   "execution_count": 61,
   "id": "a847338c",
   "metadata": {},
   "outputs": [
    {
     "data": {
      "text/plain": [
       "(101.4126, -62.24179999999999)"
      ]
     },
     "execution_count": 61,
     "metadata": {},
     "output_type": "execute_result"
    }
   ],
   "source": [
    "# Finally, identify outliers in `Fare` in the titanic dataset. Lets look again for extreme values using IQR * 3\n",
    "\n",
    "upper_boundary, lower_boundary = find_skewed_boundaries(titanic, 'fare', 3)\n",
    "upper_boundary, lower_boundary"
   ]
  },
  {
   "cell_type": "code",
   "execution_count": 62,
   "id": "bd43ccac",
   "metadata": {},
   "outputs": [
    {
     "name": "stdout",
     "output_type": "stream",
     "text": [
      "Total passengers : 1309\n",
      "Passengers who paid more than 117   : 84\n",
      "\n",
      "% passengers who paid more than 117 : 6.417112299465241\n"
     ]
    }
   ],
   "source": [
    "# Lets look at the number and percentage of passengers who paid extremely high Fares\n",
    "\n",
    "print('Total passengers : {}'.format(len(titanic)))\n",
    "print('Passengers who paid more than 117   : {}'.format(len(titanic[titanic['fare'] > upper_boundary])))\n",
    "print('')\n",
    "print('% passengers who paid more than 117 : {}'.format(len(titanic[titanic['fare'] > upper_boundary])/len(titanic) * 100))"
   ]
  },
  {
   "cell_type": "markdown",
   "id": "1cb5924f",
   "metadata": {},
   "source": [
    "Untuk Tarif, serta untuk semua variabel lain di notebook ini yang menunjukkan ekor ke kanan, batas bawahnya negatif. Jadi kita akan menggunakan batas atas untuk menentukan outlier. Kami mengamati bahwa 6,4% dari nilai kumpulan data berada di atas batas.\n",
    "\n",
    "# B. Trimming \n",
    "\n",
    "## Pemangkasan atau pemotongan\n",
    "\n",
    "Pemangkasan, juga dikenal sebagai pemotongan, melibatkan penghapusan outlier dari kumpulan data. Kami hanya perlu memutuskan metrik untuk menentukan outlier. Seperti yang kita lihat di bagian 3, ini bisa berupa pendekatan Gaussian untuk variabel terdistribusi normal atau aturan kedekatan jarak antar-kuantil untuk variabel miring.\n",
    "\n",
    "### Keuntungan\n",
    "\n",
    "- cepat\n",
    "\n",
    "### Keterbatasan\n",
    "\n",
    "- outlier untuk satu variabel dapat berisi informasi yang berguna di variabel lain\n",
    "- jika ada outlier di banyak variabel, kita bisa menghapus sebagian besar dataset\n",
    "\n",
    "## Penting\n",
    "\n",
    "Outlier harus dideteksi DAN **HANYA dihapus** dari set pelatihan, dan BUKAN dari set pengujian. Jadi pertama-tama kita harus membagi kumpulan data kita menjadi pelatihan dan pengujian, dan menghapus outlier di kumpulan pelatihan, tetapi tetap menyimpannya di kumpulan pengujian, dan mengukur seberapa baik kinerja model kita.\n",
    "\n",
    "## Tujuan\n",
    "\n",
    "Kita akan melihat cara melakukan **pemangkasan** menggunakan Kumpulan Data Boston House."
   ]
  },
  {
   "cell_type": "code",
   "execution_count": 63,
   "id": "36d6d6f5",
   "metadata": {},
   "outputs": [
    {
     "data": {
      "text/html": [
       "<div>\n",
       "<style scoped>\n",
       "    .dataframe tbody tr th:only-of-type {\n",
       "        vertical-align: middle;\n",
       "    }\n",
       "\n",
       "    .dataframe tbody tr th {\n",
       "        vertical-align: top;\n",
       "    }\n",
       "\n",
       "    .dataframe thead th {\n",
       "        text-align: right;\n",
       "    }\n",
       "</style>\n",
       "<table border=\"1\" class=\"dataframe\">\n",
       "  <thead>\n",
       "    <tr style=\"text-align: right;\">\n",
       "      <th></th>\n",
       "      <th>DIS</th>\n",
       "      <th>LSTAT</th>\n",
       "      <th>CRIM</th>\n",
       "    </tr>\n",
       "  </thead>\n",
       "  <tbody>\n",
       "    <tr>\n",
       "      <th>0</th>\n",
       "      <td>4.0900</td>\n",
       "      <td>4.98</td>\n",
       "      <td>0.00632</td>\n",
       "    </tr>\n",
       "    <tr>\n",
       "      <th>1</th>\n",
       "      <td>4.9671</td>\n",
       "      <td>9.14</td>\n",
       "      <td>0.02731</td>\n",
       "    </tr>\n",
       "    <tr>\n",
       "      <th>2</th>\n",
       "      <td>4.9671</td>\n",
       "      <td>4.03</td>\n",
       "      <td>0.02729</td>\n",
       "    </tr>\n",
       "    <tr>\n",
       "      <th>3</th>\n",
       "      <td>6.0622</td>\n",
       "      <td>2.94</td>\n",
       "      <td>0.03237</td>\n",
       "    </tr>\n",
       "    <tr>\n",
       "      <th>4</th>\n",
       "      <td>6.0622</td>\n",
       "      <td>5.33</td>\n",
       "      <td>0.06905</td>\n",
       "    </tr>\n",
       "  </tbody>\n",
       "</table>\n",
       "</div>"
      ],
      "text/plain": [
       "      DIS  LSTAT     CRIM\n",
       "0  4.0900   4.98  0.00632\n",
       "1  4.9671   9.14  0.02731\n",
       "2  4.9671   4.03  0.02729\n",
       "3  6.0622   2.94  0.03237\n",
       "4  6.0622   5.33  0.06905"
      ]
     },
     "execution_count": 63,
     "metadata": {},
     "output_type": "execute_result"
    }
   ],
   "source": [
    "# Create a dataframe with the independent variables\n",
    "# Legends : \n",
    "  # - DIS      weighted distances to five Boston employment centres\n",
    "  # - LSTAT    % lower status of the population\n",
    "  # - CRIM     per capita crime rate by town\n",
    "\n",
    "boston = boston_dataset[['DIS', 'LSTAT', 'CRIM']]\n",
    "boston.head()"
   ]
  },
  {
   "cell_type": "code",
   "execution_count": 64,
   "id": "26d196c2",
   "metadata": {},
   "outputs": [],
   "source": [
    "# Function to create histogram and boxplot.\n",
    "# Function takes a dataframe (df) and the variable of interest as arguments\n",
    "\n",
    "def diagnostic_plots(df, variable):\n",
    "    # Define figure size\n",
    "    plt.figure(figsize=(16, 4))\n",
    "\n",
    "    # Histogram\n",
    "    plt.subplot(1, 2, 1)\n",
    "    sns.histplot(df[variable], bins=30)\n",
    "    plt.title('Histogram')\n",
    "\n",
    "    # Boxplot\n",
    "    plt.subplot(1, 2, 2)\n",
    "    sns.boxplot(y=df[variable])\n",
    "    plt.title('Boxplot')\n",
    "\n",
    "    plt.show()"
   ]
  },
  {
   "cell_type": "code",
   "execution_count": 65,
   "id": "18e4ce9b",
   "metadata": {},
   "outputs": [
    {
     "data": {
      "image/png": "[encoded data removed]",
      "text/plain": [
       "<Figure size 1600x400 with 2 Axes>"
      ]
     },
     "metadata": {},
     "output_type": "display_data"
    },
    {
     "data": {
      "image/png": "[encoded data removed]",
      "text/plain": [
       "<Figure size 1600x400 with 2 Axes>"
      ]
     },
     "metadata": {},
     "output_type": "display_data"
    },
    {
     "data": {
      "image/png": "[encoded data removed]",
      "text/plain": [
       "<Figure size 1600x400 with 2 Axes>"
      ]
     },
     "metadata": {},
     "output_type": "display_data"
    }
   ],
   "source": [
    "# Let's find outliers in `DIS`, `LSTAT`, `CRIM`\n",
    "\n",
    "diagnostic_plots(boston, 'DIS')\n",
    "diagnostic_plots(boston, 'LSTAT')\n",
    "diagnostic_plots(boston, 'CRIM')\n"
   ]
  },
  {
   "cell_type": "markdown",
   "id": "32af6e08",
   "metadata": {},
   "source": [
    "Ada outlier di semua variabel di atas."
   ]
  },
  {
   "cell_type": "code",
   "execution_count": 66,
   "id": "ee8e8080",
   "metadata": {},
   "outputs": [],
   "source": [
    "# Function to find upper and lower boundaries for skewed distributed variables\n",
    "# Let's calculate the boundaries outside which sit the outliers for skewed distributions\n",
    "# Distance passed as an argument, gives us the option to estimate 1.5 times or 3 times the IQR to calculate the boundaries.\n",
    "\n",
    "def find_skewed_boundaries(df, variable, distance):\n",
    "    IQR = df[variable].quantile(0.75) - df[variable].quantile(0.25)\n",
    "\n",
    "    lower_boundary = df[variable].quantile(0.25) - (IQR * distance)\n",
    "    upper_boundary = df[variable].quantile(0.75) + (IQR * distance)\n",
    "\n",
    "    return upper_boundary, lower_boundary"
   ]
  },
  {
   "cell_type": "code",
   "execution_count": 67,
   "id": "446fd438",
   "metadata": {},
   "outputs": [
    {
     "name": "stdout",
     "output_type": "stream",
     "text": [
      "DIS_upper_limit :  9.820800000000002\n",
      "DIS_lower_limit :  -2.5322000000000005 \n",
      "\n",
      "LSTAT_upper_limit :  31.962500000000006\n",
      "LSTAT_lower_limit :  -8.057500000000005 \n",
      "\n",
      "CRIM_upper_limit :  9.06963875\n",
      "CRIM_lower_limit :  -5.31051125\n"
     ]
    }
   ],
   "source": [
    "# Limits for `DIS`\n",
    "DIS_upper_limit, DIS_lower_limit = find_skewed_boundaries(boston, 'DIS', 1.5)\n",
    "DIS_upper_limit, DIS_lower_limit\n",
    "\n",
    "# Limits for `LSTAT`\n",
    "LSTAT_upper_limit, LSTAT_lower_limit = find_skewed_boundaries(boston, 'LSTAT', 1.5)\n",
    "LSTAT_upper_limit, LSTAT_lower_limit\n",
    "\n",
    "# Limits for `CRIM`\n",
    "CRIM_upper_limit, CRIM_lower_limit = find_skewed_boundaries(boston, 'CRIM', 1.5)\n",
    "CRIM_upper_limit, CRIM_lower_limit\n",
    "\n",
    "print('DIS_upper_limit : ', DIS_upper_limit)\n",
    "print('DIS_lower_limit : ', DIS_lower_limit, '\\n')\n",
    "print('LSTAT_upper_limit : ', LSTAT_upper_limit)\n",
    "print('LSTAT_lower_limit : ', LSTAT_lower_limit, '\\n')\n",
    "print('CRIM_upper_limit : ', CRIM_upper_limit)\n",
    "print('CRIM_lower_limit : ', CRIM_lower_limit)"
   ]
  },
  {
   "cell_type": "code",
   "execution_count": 68,
   "id": "aa5de0eb",
   "metadata": {},
   "outputs": [
    {
     "name": "stdout",
     "output_type": "stream",
     "text": [
      "[False False False False False False False False False False]\n"
     ]
    }
   ],
   "source": [
    "# Flag the outliers in category `DIS`\n",
    "outliers_DIS = np.where(boston['DIS'] > DIS_upper_limit, True,\n",
    "                       np.where(boston['DIS'] < DIS_lower_limit, True, False))\n",
    "\n",
    "# Flag the outliers in category `LSTAT`\n",
    "outliers_LSTAT = np.where(boston['LSTAT'] > LSTAT_upper_limit, True,\n",
    "                       np.where(boston['LSTAT'] < LSTAT_lower_limit, True, False))\n",
    "\n",
    "# Flag the outliers in category `CRIM`\n",
    "outliers_CRIM = np.where(boston['CRIM'] > CRIM_upper_limit, True,\n",
    "                       np.where(boston['CRIM'] < CRIM_lower_limit, True, False))\n",
    "\n",
    "print(outliers_DIS[:10])"
   ]
  },
  {
   "cell_type": "code",
   "execution_count": 69,
   "id": "a24ab509",
   "metadata": {},
   "outputs": [
    {
     "name": "stdout",
     "output_type": "stream",
     "text": [
      "Size dataset - Before trimming :  (506, 3)\n",
      "Size dataset - After trimming  :  (434, 3)\n"
     ]
    }
   ],
   "source": [
    "# Let's trimm the dataset\n",
    "\n",
    "boston_trimmed = boston.loc[~(outliers_DIS + outliers_LSTAT + outliers_CRIM)]\n",
    "print('Size dataset - Before trimming : ', boston.shape)\n",
    "print('Size dataset - After trimming  : ', boston_trimmed.shape)"
   ]
  },
  {
   "cell_type": "markdown",
   "id": "ff638e43",
   "metadata": {},
   "source": [
    "Kita dapat melihat bahwa dengan menggunakan pemangkasan, **kami menghapus 72 baris**, dari kumpulan data 506 baris, sekitar **~14,2%** data telah dihapus. Inilah sebagian besar alasannya, kami cenderung tidak banyak menggunakan pemangkasan dalam pembelajaran mesin. Tetapi jika hanya beberapa variabel yang menunjukkan proporsi outlier yang kecil, pemangkasan bisa berhasil."
   ]
  },
  {
   "cell_type": "code",
   "execution_count": 70,
   "id": "f5f9fec2",
   "metadata": {},
   "outputs": [
    {
     "name": "stdout",
     "output_type": "stream",
     "text": [
      "DIS - Before Trimming\n"
     ]
    },
    {
     "data": {
      "image/png": "[encoded data removed]",
      "text/plain": [
       "<Figure size 1600x400 with 2 Axes>"
      ]
     },
     "metadata": {},
     "output_type": "display_data"
    },
    {
     "name": "stdout",
     "output_type": "stream",
     "text": [
      "\n",
      "DIS - After Trimming\n"
     ]
    },
    {
     "data": {
      "image/png": "[encoded data removed]",
      "text/plain": [
       "<Figure size 1600x400 with 2 Axes>"
      ]
     },
     "metadata": {},
     "output_type": "display_data"
    },
    {
     "name": "stdout",
     "output_type": "stream",
     "text": [
      "\n",
      "LSTAT - Before Trimming\n"
     ]
    },
    {
     "data": {
      "image/png": "[encoded data removed]",
      "text/plain": [
       "<Figure size 1600x400 with 2 Axes>"
      ]
     },
     "metadata": {},
     "output_type": "display_data"
    },
    {
     "name": "stdout",
     "output_type": "stream",
     "text": [
      "\n",
      "LSTAT - After Trimming\n"
     ]
    },
    {
     "data": {
      "image/png": "[encoded data removed]",
      "text/plain": [
       "<Figure size 1600x400 with 2 Axes>"
      ]
     },
     "metadata": {},
     "output_type": "display_data"
    },
    {
     "name": "stdout",
     "output_type": "stream",
     "text": [
      "\n",
      "CRIM - Before Trimming\n"
     ]
    },
    {
     "data": {
      "image/png": "[encoded data removed]",
      "text/plain": [
       "<Figure size 1600x400 with 2 Axes>"
      ]
     },
     "metadata": {},
     "output_type": "display_data"
    },
    {
     "name": "stdout",
     "output_type": "stream",
     "text": [
      "\n",
      "CRIM - After Trimming\n"
     ]
    },
    {
     "data": {
      "image/png": "[encoded data removed]",
      "text/plain": [
       "<Figure size 1600x400 with 2 Axes>"
      ]
     },
     "metadata": {},
     "output_type": "display_data"
    }
   ],
   "source": [
    "# Let's find outliers in `DIS`, `LSTAT`, `CRIM`\n",
    "\n",
    "print('DIS - Before Trimming')\n",
    "diagnostic_plots(boston, 'DIS')\n",
    "print('\\nDIS - After Trimming')\n",
    "diagnostic_plots(boston_trimmed, 'DIS')\n",
    "\n",
    "print('\\nLSTAT - Before Trimming')\n",
    "diagnostic_plots(boston, 'LSTAT')\n",
    "print('\\nLSTAT - After Trimming')\n",
    "diagnostic_plots(boston_trimmed, 'LSTAT')\n",
    "\n",
    "print('\\nCRIM - Before Trimming')\n",
    "diagnostic_plots(boston, 'CRIM')\n",
    "print('\\nCRIM - After Trimming')\n",
    "diagnostic_plots(boston_trimmed, 'CRIM')"
   ]
  },
  {
   "cell_type": "markdown",
   "id": "6570cc61",
   "metadata": {},
   "source": [
    "Untuk `LSTAT` dan `CRIM`, kami masih melihat banyak outlier. **Saat kami menghapus titik data dari kumpulan data kami, semua parameter distribusi dihitung ulang**, yaitu rata-rata, kuantil, dan rentang antar-kuantil, oleh karena itu, dalam variabel -trimmed- baru, nilai yang sebelumnya tidak dianggap outlier, sekarang. Ini adalah karakteristik yang tidak diinginkan dari cara mengatasi outlier ini.\n",
    "\n",
    "# C. Censoring\n",
    "\n",
    "## Menyensor atau Membatasi.\n",
    "\n",
    "**Mensensor**, atau **membatasi**, berarti membatasi distribusi maksimum dan/atau minimum pada nilai arbitrer. Dengan kata lain, nilai yang lebih besar atau lebih kecil dari yang ditentukan secara sewenang-wenang akan **disensor**.\n",
    "\n",
    "Pembatasan dapat dilakukan pada kedua ekor, atau hanya salah satu ekor, tergantung pada variabel dan penggunanya.\n",
    "\n",
    "### Keuntungan\n",
    "\n",
    "- tidak menghapus data\n",
    "\n",
    "### Keterbatasan\n",
    "\n",
    "- mendistorsi distribusi variabel\n",
    "- mendistorsi hubungan antar variabel\n",
    "\n",
    "## Penting\n",
    "\n",
    "Saat melakukan pembatasan, kami cenderung membatasi nilai baik di set pelatihan maupun pengujian. Penting untuk diingat bahwa nilai pembatasan HARUS diturunkan dari set kereta. Dan kemudian gunakan nilai yang sama untuk membatasi variabel dalam set pengujian\n",
    "\n",
    "## Tujuan\n",
    "\n",
    "Kita akan melihat cara melakukan **pembatasan** dengan aturan kedekatan teks tebal rentang antar-kuantil menggunakan Kumpulan Data Boston House"
   ]
  },
  {
   "cell_type": "code",
   "execution_count": 76,
   "id": "0a8c84f1",
   "metadata": {},
   "outputs": [],
   "source": [
    "# !pip install feature-engine\n",
    "\n",
    "from feature_engine.outliers import Winsorizer"
   ]
  },
  {
   "cell_type": "code",
   "execution_count": 77,
   "id": "8f30389b",
   "metadata": {},
   "outputs": [
    {
     "data": {
      "text/html": [
       "<div>\n",
       "<style scoped>\n",
       "    .dataframe tbody tr th:only-of-type {\n",
       "        vertical-align: middle;\n",
       "    }\n",
       "\n",
       "    .dataframe tbody tr th {\n",
       "        vertical-align: top;\n",
       "    }\n",
       "\n",
       "    .dataframe thead th {\n",
       "        text-align: right;\n",
       "    }\n",
       "</style>\n",
       "<table border=\"1\" class=\"dataframe\">\n",
       "  <thead>\n",
       "    <tr style=\"text-align: right;\">\n",
       "      <th></th>\n",
       "      <th>DIS</th>\n",
       "      <th>LSTAT</th>\n",
       "      <th>CRIM</th>\n",
       "    </tr>\n",
       "  </thead>\n",
       "  <tbody>\n",
       "    <tr>\n",
       "      <th>0</th>\n",
       "      <td>4.0900</td>\n",
       "      <td>4.98</td>\n",
       "      <td>0.00632</td>\n",
       "    </tr>\n",
       "    <tr>\n",
       "      <th>1</th>\n",
       "      <td>4.9671</td>\n",
       "      <td>9.14</td>\n",
       "      <td>0.02731</td>\n",
       "    </tr>\n",
       "    <tr>\n",
       "      <th>2</th>\n",
       "      <td>4.9671</td>\n",
       "      <td>4.03</td>\n",
       "      <td>0.02729</td>\n",
       "    </tr>\n",
       "    <tr>\n",
       "      <th>3</th>\n",
       "      <td>6.0622</td>\n",
       "      <td>2.94</td>\n",
       "      <td>0.03237</td>\n",
       "    </tr>\n",
       "    <tr>\n",
       "      <th>4</th>\n",
       "      <td>6.0622</td>\n",
       "      <td>5.33</td>\n",
       "      <td>0.06905</td>\n",
       "    </tr>\n",
       "  </tbody>\n",
       "</table>\n",
       "</div>"
      ],
      "text/plain": [
       "      DIS  LSTAT     CRIM\n",
       "0  4.0900   4.98  0.00632\n",
       "1  4.9671   9.14  0.02731\n",
       "2  4.9671   4.03  0.02729\n",
       "3  6.0622   2.94  0.03237\n",
       "4  6.0622   5.33  0.06905"
      ]
     },
     "execution_count": 77,
     "metadata": {},
     "output_type": "execute_result"
    }
   ],
   "source": [
    "# Create a dataframe with the independent variables\n",
    "# Legends : \n",
    "  # - DIS      weighted distances to five Boston employment centres\n",
    "  # - LSTAT    % lower status of the population\n",
    "  # - CRIM     per capita crime rate by town\n",
    "  \n",
    "boston = boston_dataset[['DIS', 'LSTAT', 'CRIM']]\n",
    "boston.head()"
   ]
  },
  {
   "cell_type": "code",
   "execution_count": 78,
   "id": "4010d98a",
   "metadata": {},
   "outputs": [],
   "source": [
    "# Create the capper\n",
    "\n",
    "windsoriser = Winsorizer(capping_method='iqr', # choose iqr for IQR rule boundaries or gaussian for mean and std\n",
    "                          tail='both', # cap left, right or both tails \n",
    "                          fold=1.5,\n",
    "                          variables=['DIS', 'LSTAT', 'CRIM'])\n",
    "\n",
    "windsoriser.fit(boston)\n",
    "\n",
    "boston_t = windsoriser.transform(boston)"
   ]
  },
  {
   "cell_type": "code",
   "execution_count": 79,
   "id": "d81aa2b3",
   "metadata": {},
   "outputs": [
    {
     "name": "stdout",
     "output_type": "stream",
     "text": [
      "Left Tail Caps  :  {'DIS': -2.5322000000000005, 'LSTAT': -8.057500000000005, 'CRIM': -5.31051125}\n",
      "Right Tail Caps :  {'DIS': 9.820800000000002, 'LSTAT': 31.962500000000006, 'CRIM': 9.06963875}\n"
     ]
    }
   ],
   "source": [
    "# Inspect the minimum caps for each variable\n",
    "print('Left Tail Caps  : ', windsoriser.left_tail_caps_)\n",
    "\n",
    "# Iinspect the maximum caps for each variable\n",
    "print('Right Tail Caps : ', windsoriser.right_tail_caps_)"
   ]
  },
  {
   "cell_type": "code",
   "execution_count": 80,
   "id": "1ac2f879",
   "metadata": {},
   "outputs": [
    {
     "name": "stdout",
     "output_type": "stream",
     "text": [
      "Boston Dataframe - Before Capping\n",
      "              DIS       LSTAT        CRIM\n",
      "count  506.000000  506.000000  506.000000\n",
      "mean     3.795043   12.653063    3.613524\n",
      "std      2.105710    7.141062    8.601545\n",
      "min      1.129600    1.730000    0.006320\n",
      "25%      2.100175    6.950000    0.082045\n",
      "50%      3.207450   11.360000    0.256510\n",
      "75%      5.188425   16.955000    3.677083\n",
      "max     12.126500   37.970000   88.976200\n",
      "\n",
      "Boston Dataframe - After Capping\n",
      "              DIS       LSTAT        CRIM\n",
      "count  506.000000  506.000000  506.000000\n",
      "mean     3.783947   12.612011    2.225032\n",
      "std      2.069765    7.016829    3.313353\n",
      "min      1.129600    1.730000    0.006320\n",
      "25%      2.100175    6.950000    0.082045\n",
      "50%      3.207450   11.360000    0.256510\n",
      "75%      5.188425   16.955000    3.677083\n",
      "max      9.820800   31.962500    9.069639\n"
     ]
    }
   ],
   "source": [
    "print('Boston Dataframe - Before Capping')\n",
    "print(boston.describe())\n",
    "print('')\n",
    "print('Boston Dataframe - After Capping')\n",
    "print(boston_t.describe())"
   ]
  },
  {
   "cell_type": "code",
   "execution_count": 81,
   "id": "0d1ab582",
   "metadata": {},
   "outputs": [
    {
     "name": "stdout",
     "output_type": "stream",
     "text": [
      "DIS - Before Capping\n"
     ]
    },
    {
     "data": {
      "image/png": "[encoded data removed]",
      "text/plain": [
       "<Figure size 1600x400 with 2 Axes>"
      ]
     },
     "metadata": {},
     "output_type": "display_data"
    },
    {
     "name": "stdout",
     "output_type": "stream",
     "text": [
      "\n",
      "DIS - After Capping\n"
     ]
    },
    {
     "data": {
      "image/png": "[encoded data removed]",
      "text/plain": [
       "<Figure size 1600x400 with 2 Axes>"
      ]
     },
     "metadata": {},
     "output_type": "display_data"
    },
    {
     "name": "stdout",
     "output_type": "stream",
     "text": [
      "\n",
      "LSTAT - Before Capping\n"
     ]
    },
    {
     "data": {
      "image/png": "[encoded data removed]",
      "text/plain": [
       "<Figure size 1600x400 with 2 Axes>"
      ]
     },
     "metadata": {},
     "output_type": "display_data"
    },
    {
     "name": "stdout",
     "output_type": "stream",
     "text": [
      "\n",
      "LSTAT - After Capping\n"
     ]
    },
    {
     "data": {
      "image/png": "[encoded data removed]",
      "text/plain": [
       "<Figure size 1600x400 with 2 Axes>"
      ]
     },
     "metadata": {},
     "output_type": "display_data"
    },
    {
     "name": "stdout",
     "output_type": "stream",
     "text": [
      "\n",
      "CRIM - Before Capping\n"
     ]
    },
    {
     "data": {
      "image/png": "[encoded data removed]",
      "text/plain": [
       "<Figure size 1600x400 with 2 Axes>"
      ]
     },
     "metadata": {},
     "output_type": "display_data"
    },
    {
     "name": "stdout",
     "output_type": "stream",
     "text": [
      "\n",
      "CRIM - After Capping\n"
     ]
    },
    {
     "data": {
      "image/png": "[encoded data removed]",
      "text/plain": [
       "<Figure size 1600x400 with 2 Axes>"
      ]
     },
     "metadata": {},
     "output_type": "display_data"
    }
   ],
   "source": [
    "# Let's find outliers in `DIS`, `LSTAT`, `CRIM`\n",
    "\n",
    "print('DIS - Before Capping')\n",
    "diagnostic_plots(boston, 'DIS')\n",
    "print('\\nDIS - After Capping')\n",
    "diagnostic_plots(boston_t, 'DIS')\n",
    "\n",
    "print('\\nLSTAT - Before Capping')\n",
    "diagnostic_plots(boston, 'LSTAT')\n",
    "print('\\nLSTAT - After Capping')\n",
    "diagnostic_plots(boston_t, 'LSTAT')\n",
    "\n",
    "print('\\nCRIM - Before Capping')\n",
    "diagnostic_plots(boston, 'CRIM')\n",
    "print('\\nCRIM - After Capping')\n",
    "diagnostic_plots(boston_t, 'CRIM')"
   ]
  },
  {
   "cell_type": "markdown",
   "id": "0f954114",
   "metadata": {},
   "source": [
    "# E. Kardinalitas\n",
    "\n",
    "Nilai variabel kategori dipilih dari sekelompok kategori, juga disebut label. Misalnya pada variabel _gender_ kategori atau labelnya adalah laki-laki dan perempuan, sedangkan pada variabel _kota_ labelnya bisa London, Manchester, Brighton dan sebagainya.\n",
    "\n",
    "Variabel kategori yang berbeda mengandung jumlah label atau kategori yang berbeda. Variabel jenis kelamin hanya berisi 2 label, tetapi variabel seperti kota atau kode pos, dapat berisi banyak sekali label berbeda.\n",
    "\n",
    "Jumlah label yang berbeda dalam variabel kategori dikenal sebagai kardinalitas. Sejumlah besar label dalam variabel dikenal sebagai __kardinalitas tinggi__.\n",
    "\n",
    "\n",
    "### Apakah beberapa label dalam variabel kategori menjadi masalah?\n",
    "\n",
    "Kardinalitas tinggi dapat menimbulkan masalah berikut:\n",
    "\n",
    "- Variabel dengan terlalu banyak label **cenderung mendominasi** daripada variabel dengan hanya sedikit label, terutama dalam algoritme **Berbasis pohon**.\n",
    "\n",
    "- Sejumlah besar label dalam variabel dapat menimbulkan gangguan dengan sedikit, jika ada, informasi, sehingga membuat model pembelajaran mesin **cenderung over-fit**.\n",
    "\n",
    "- Beberapa label mungkin **hanya ada di set data pelatihan, tetapi tidak di set pengujian**, oleh karena itu algoritme pembelajaran mesin mungkin terlalu sesuai dengan set pelatihan.\n",
    "\n",
    "- Sebaliknya, **beberapa label mungkin hanya muncul di set pengujian**, sehingga membuat algoritme pembelajaran mesin tidak dapat melakukan penghitungan pada pengamatan baru (tak terlihat).\n",
    "\n",
    "\n",
    "Secara khusus, **metode pohon dapat menjadi bias terhadap variabel dengan banyak label** (variabel dengan kardinalitas tinggi). Dengan demikian, kinerja mereka dapat dipengaruhi oleh kardinalitas tinggi.\n",
    "\n",
    "## Tujuan :\n",
    "\n",
    "Kami akan :\n",
    "\n",
    "- Pelajari cara menghitung kardinalitas\n",
    "- Lihat contoh variabel kardinalitas tinggi dan rendah\n",
    "- Memahami efek kardinalitas saat menyiapkan rangkaian latihan dan pengujian\n",
    "- Memvisualisasikan efek kardinalitas pada kinerja Model Pembelajaran Mesin\n",
    "\n",
    "We will use the Titanic dataset. *(URL : https://www.openml.org/data/get_csv/16826755/phpMYEkMl)*"
   ]
  },
  {
   "cell_type": "code",
   "execution_count": 82,
   "id": "a85042ff",
   "metadata": {},
   "outputs": [],
   "source": [
    "import pandas as pd\n",
    "import numpy as np\n",
    "\n",
    "import matplotlib.pyplot as plt\n",
    "\n",
    "from sklearn.linear_model import LogisticRegression\n",
    "from sklearn.ensemble import AdaBoostClassifier\n",
    "from sklearn.ensemble import RandomForestClassifier\n",
    "from sklearn.ensemble import GradientBoostingClassifier\n",
    "\n",
    "from sklearn.metrics import roc_auc_score\n",
    "from sklearn.model_selection import train_test_split"
   ]
  },
  {
   "cell_type": "code",
   "execution_count": 83,
   "id": "82f99df9",
   "metadata": {},
   "outputs": [
    {
     "data": {
      "text/html": [
       "<div>\n",
       "<style scoped>\n",
       "    .dataframe tbody tr th:only-of-type {\n",
       "        vertical-align: middle;\n",
       "    }\n",
       "\n",
       "    .dataframe tbody tr th {\n",
       "        vertical-align: top;\n",
       "    }\n",
       "\n",
       "    .dataframe thead th {\n",
       "        text-align: right;\n",
       "    }\n",
       "</style>\n",
       "<table border=\"1\" class=\"dataframe\">\n",
       "  <thead>\n",
       "    <tr style=\"text-align: right;\">\n",
       "      <th></th>\n",
       "      <th>pclass</th>\n",
       "      <th>survived</th>\n",
       "      <th>name</th>\n",
       "      <th>sex</th>\n",
       "      <th>age</th>\n",
       "      <th>sibsp</th>\n",
       "      <th>parch</th>\n",
       "      <th>ticket</th>\n",
       "      <th>fare</th>\n",
       "      <th>cabin</th>\n",
       "      <th>embarked</th>\n",
       "      <th>boat</th>\n",
       "      <th>body</th>\n",
       "      <th>home.dest</th>\n",
       "    </tr>\n",
       "  </thead>\n",
       "  <tbody>\n",
       "    <tr>\n",
       "      <th>0</th>\n",
       "      <td>1</td>\n",
       "      <td>1</td>\n",
       "      <td>Allen, Miss. Elisabeth Walton</td>\n",
       "      <td>female</td>\n",
       "      <td>29</td>\n",
       "      <td>0</td>\n",
       "      <td>0</td>\n",
       "      <td>24160</td>\n",
       "      <td>211.3375</td>\n",
       "      <td>B5</td>\n",
       "      <td>S</td>\n",
       "      <td>2</td>\n",
       "      <td>?</td>\n",
       "      <td>St Louis, MO</td>\n",
       "    </tr>\n",
       "    <tr>\n",
       "      <th>1</th>\n",
       "      <td>1</td>\n",
       "      <td>1</td>\n",
       "      <td>Allison, Master. Hudson Trevor</td>\n",
       "      <td>male</td>\n",
       "      <td>0.9167</td>\n",
       "      <td>1</td>\n",
       "      <td>2</td>\n",
       "      <td>113781</td>\n",
       "      <td>151.55</td>\n",
       "      <td>C22 C26</td>\n",
       "      <td>S</td>\n",
       "      <td>11</td>\n",
       "      <td>?</td>\n",
       "      <td>Montreal, PQ / Chesterville, ON</td>\n",
       "    </tr>\n",
       "    <tr>\n",
       "      <th>2</th>\n",
       "      <td>1</td>\n",
       "      <td>0</td>\n",
       "      <td>Allison, Miss. Helen Loraine</td>\n",
       "      <td>female</td>\n",
       "      <td>2</td>\n",
       "      <td>1</td>\n",
       "      <td>2</td>\n",
       "      <td>113781</td>\n",
       "      <td>151.55</td>\n",
       "      <td>C22 C26</td>\n",
       "      <td>S</td>\n",
       "      <td>?</td>\n",
       "      <td>?</td>\n",
       "      <td>Montreal, PQ / Chesterville, ON</td>\n",
       "    </tr>\n",
       "    <tr>\n",
       "      <th>3</th>\n",
       "      <td>1</td>\n",
       "      <td>0</td>\n",
       "      <td>Allison, Mr. Hudson Joshua Creighton</td>\n",
       "      <td>male</td>\n",
       "      <td>30</td>\n",
       "      <td>1</td>\n",
       "      <td>2</td>\n",
       "      <td>113781</td>\n",
       "      <td>151.55</td>\n",
       "      <td>C22 C26</td>\n",
       "      <td>S</td>\n",
       "      <td>?</td>\n",
       "      <td>135</td>\n",
       "      <td>Montreal, PQ / Chesterville, ON</td>\n",
       "    </tr>\n",
       "    <tr>\n",
       "      <th>4</th>\n",
       "      <td>1</td>\n",
       "      <td>0</td>\n",
       "      <td>Allison, Mrs. Hudson J C (Bessie Waldo Daniels)</td>\n",
       "      <td>female</td>\n",
       "      <td>25</td>\n",
       "      <td>1</td>\n",
       "      <td>2</td>\n",
       "      <td>113781</td>\n",
       "      <td>151.55</td>\n",
       "      <td>C22 C26</td>\n",
       "      <td>S</td>\n",
       "      <td>?</td>\n",
       "      <td>?</td>\n",
       "      <td>Montreal, PQ / Chesterville, ON</td>\n",
       "    </tr>\n",
       "  </tbody>\n",
       "</table>\n",
       "</div>"
      ],
      "text/plain": [
       "   pclass  survived                                             name     sex  \\\n",
       "0       1         1                    Allen, Miss. Elisabeth Walton  female   \n",
       "1       1         1                   Allison, Master. Hudson Trevor    male   \n",
       "2       1         0                     Allison, Miss. Helen Loraine  female   \n",
       "3       1         0             Allison, Mr. Hudson Joshua Creighton    male   \n",
       "4       1         0  Allison, Mrs. Hudson J C (Bessie Waldo Daniels)  female   \n",
       "\n",
       "      age  sibsp  parch  ticket      fare    cabin embarked boat body  \\\n",
       "0      29      0      0   24160  211.3375       B5        S    2    ?   \n",
       "1  0.9167      1      2  113781    151.55  C22 C26        S   11    ?   \n",
       "2       2      1      2  113781    151.55  C22 C26        S    ?    ?   \n",
       "3      30      1      2  113781    151.55  C22 C26        S    ?  135   \n",
       "4      25      1      2  113781    151.55  C22 C26        S    ?    ?   \n",
       "\n",
       "                         home.dest  \n",
       "0                     St Louis, MO  \n",
       "1  Montreal, PQ / Chesterville, ON  \n",
       "2  Montreal, PQ / Chesterville, ON  \n",
       "3  Montreal, PQ / Chesterville, ON  \n",
       "4  Montreal, PQ / Chesterville, ON  "
      ]
     },
     "execution_count": 83,
     "metadata": {},
     "output_type": "execute_result"
    }
   ],
   "source": [
    "# Load the Titanic dataset\n",
    "\n",
    "url = 'https://www.openml.org/data/get_csv/16826755/phpMYEkMl'\n",
    "data = pd.read_csv(url)\n",
    "data.head()"
   ]
  },
  {
   "cell_type": "code",
   "execution_count": 84,
   "id": "e59638c8",
   "metadata": {},
   "outputs": [
    {
     "name": "stdout",
     "output_type": "stream",
     "text": [
      "<class 'pandas.core.frame.DataFrame'>\n",
      "RangeIndex: 1309 entries, 0 to 1308\n",
      "Data columns (total 14 columns):\n",
      " #   Column     Non-Null Count  Dtype \n",
      "---  ------     --------------  ----- \n",
      " 0   pclass     1309 non-null   int64 \n",
      " 1   survived   1309 non-null   int64 \n",
      " 2   name       1309 non-null   object\n",
      " 3   sex        1309 non-null   object\n",
      " 4   age        1309 non-null   object\n",
      " 5   sibsp      1309 non-null   int64 \n",
      " 6   parch      1309 non-null   int64 \n",
      " 7   ticket     1309 non-null   object\n",
      " 8   fare       1309 non-null   object\n",
      " 9   cabin      1309 non-null   object\n",
      " 10  embarked   1309 non-null   object\n",
      " 11  boat       1309 non-null   object\n",
      " 12  body       1309 non-null   object\n",
      " 13  home.dest  1309 non-null   object\n",
      "dtypes: int64(4), object(10)\n",
      "memory usage: 143.3+ KB\n"
     ]
    }
   ],
   "source": [
    "data.info()"
   ]
  },
  {
   "cell_type": "markdown",
   "id": "fb764d57",
   "metadata": {},
   "source": [
    "Mari kita fokus pada beberapa variabel kategori dalam dataset ini : `Name`, `Sex`, `Ticket`, `Cabin`, dan `Embarked`."
   ]
  },
  {
   "cell_type": "code",
   "execution_count": 85,
   "id": "aa3495f1",
   "metadata": {
    "scrolled": true
   },
   "outputs": [
    {
     "name": "stdout",
     "output_type": "stream",
     "text": [
      "Number of categories in the variable Name     : 1307\n",
      "Number of categories in the variable Gender   : 2\n",
      "Number of categories in the variable Ticket   : 929\n",
      "Number of categories in the variable Cabin    : 187\n",
      "Number of categories in the variable Embarked : 4\n",
      "Total number of passengers in the Titanic.    : 1309\n"
     ]
    }
   ],
   "source": [
    "# Let's inspect the cardinality, this is the number of different labels, for the different categorical variables\n",
    "\n",
    "print('Number of categories in the variable Name     : {}'.format(len(data.name.unique())))\n",
    "print('Number of categories in the variable Gender   : {}'.format(len(data.sex.unique())))\n",
    "print('Number of categories in the variable Ticket   : {}'.format(len(data.ticket.unique())))\n",
    "print('Number of categories in the variable Cabin    : {}'.format(len(data.cabin.unique())))\n",
    "print('Number of categories in the variable Embarked : {}'.format(len(data.embarked.unique())))\n",
    "print('Total number of passengers in the Titanic.    : {}'.format(len(data)))"
   ]
  },
  {
   "cell_type": "markdown",
   "id": "1e287945",
   "metadata": {},
   "source": [
    "Sementara variabel `Sex` hanya berisi 2 kategori dan `Embarked` 4 (kardinalitas rendah), variabel `Tiket`, `Nama` dan `Kabin`, seperti yang diharapkan, berisi sejumlah besar label berbeda (kardinalitas tinggi).\n",
    "\n",
    "Untuk mendemonstrasikan efek kardinalitas tinggi dalam rangkaian latihan dan pengujian serta kinerja pembelajaran mesin, mari bekerja dengan variabel `Kabin`. Kami akan membuat variabel baru untuk mengurangi kardinalitas."
   ]
  },
  {
   "cell_type": "code",
   "execution_count": 86,
   "id": "2a09893e",
   "metadata": {},
   "outputs": [
    {
     "data": {
      "text/plain": [
       "array(['B5', 'C22 C26', 'E12', 'D7', 'A36', 'C101', '?', 'C62 C64', 'B35',\n",
       "       'A23', 'B58 B60', 'D15', 'C6', 'D35', 'C148', 'C97', 'B49', 'C99',\n",
       "       'C52', 'T', 'A31', 'C7', 'C103', 'D22', 'E33', 'A21', 'B10', 'B4',\n",
       "       'E40', 'B38', 'E24', 'B51 B53 B55', 'B96 B98', 'C46', 'E31', 'E8',\n",
       "       'B61', 'B77', 'A9', 'C89', 'A14', 'E58', 'E49', 'E52', 'E45',\n",
       "       'B22', 'B26', 'C85', 'E17', 'B71', 'B20', 'A34', 'C86', 'A16',\n",
       "       'A20', 'A18', 'C54', 'C45', 'D20', 'A29', 'C95', 'E25', 'C111',\n",
       "       'C23 C25 C27', 'E36', 'D34', 'D40', 'B39', 'B41', 'B102', 'C123',\n",
       "       'E63', 'C130', 'B86', 'C92', 'A5', 'C51', 'B42', 'C91', 'C125',\n",
       "       'D10 D12', 'B82 B84', 'E50', 'D33', 'C83', 'B94', 'D49', 'D45',\n",
       "       'B69', 'B11', 'E46', 'C39', 'B18', 'D11', 'C93', 'B28', 'C49',\n",
       "       'B52 B54 B56', 'E60', 'C132', 'B37', 'D21', 'D19', 'C124', 'D17',\n",
       "       'B101', 'D28', 'D6', 'D9', 'B80', 'C106', 'B79', 'C47', 'D30',\n",
       "       'C90', 'E38', 'C78', 'C30', 'C118', 'D36', 'D48', 'D47', 'C105',\n",
       "       'B36', 'B30', 'D43', 'B24', 'C2', 'C65', 'B73', 'C104', 'C110',\n",
       "       'C50', 'B3', 'A24', 'A32', 'A11', 'A10', 'B57 B59 B63 B66', 'C28',\n",
       "       'E44', 'A26', 'A6', 'A7', 'C31', 'A19', 'B45', 'E34', 'B78', 'B50',\n",
       "       'C87', 'C116', 'C55 C57', 'D50', 'E68', 'E67', 'C126', 'C68',\n",
       "       'C70', 'C53', 'B19', 'D46', 'D37', 'D26', 'C32', 'C80', 'C82',\n",
       "       'C128', 'E39 E41', 'D', 'F4', 'D56', 'F33', 'E101', 'E77', 'F2',\n",
       "       'D38', 'F', 'F G63', 'F E57', 'F E46', 'F G73', 'E121', 'F E69',\n",
       "       'E10', 'G6', 'F38'], dtype=object)"
      ]
     },
     "execution_count": 86,
     "metadata": {},
     "output_type": "execute_result"
    }
   ],
   "source": [
    "# Let's explore the values / categories of `Cabin`\n",
    "# We know from the previous cell that there are 187 different cabins, therefore the variable is highly cardinal\n",
    "data.cabin.unique()"
   ]
  },
  {
   "cell_type": "markdown",
   "id": "0da91ee7",
   "metadata": {},
   "source": [
    "Sekarang mari kita kurangi kardinalitas variabel. Bagaimana? Alih-alih menggunakan seluruh nilai `cabin`, kami hanya akan menangkap\n",
    "**surat pertama**.\n",
    "\n",
    "***Dasar Pemikiran***: huruf pertama menunjukkan geladak tempat kabin berada, dan karena itu merupakan indikasi status kelas sosial dan kedekatan dengan permukaan Titanic. Keduanya dikenal untuk meningkatkan kemungkinan bertahan hidup."
   ]
  },
  {
   "cell_type": "code",
   "execution_count": 87,
   "id": "9014babd",
   "metadata": {},
   "outputs": [
    {
     "name": "stdout",
     "output_type": "stream",
     "text": [
      "     cabin Cabin_reduced\n",
      "0       B5             B\n",
      "1  C22 C26             C\n",
      "2  C22 C26             C\n",
      "3  C22 C26             C\n",
      "4  C22 C26             C\n",
      "Number of categories in the variable Cabin : 187\n",
      "Number of categories in the variable Cabin reduced : 9\n"
     ]
    }
   ],
   "source": [
    "# Let's capture the first letter of Cabin\n",
    "\n",
    "data['Cabin_reduced'] = data['cabin'].astype(str).str[0]\n",
    "\n",
    "print(data[['cabin', 'Cabin_reduced']].head())\n",
    "print('Number of categories in the variable Cabin : {}'.format(len(data.cabin.unique())))\n",
    "print('Number of categories in the variable Cabin reduced : {}'.format(len(data.Cabin_reduced.unique())))"
   ]
  },
  {
   "cell_type": "markdown",
   "id": "8e8ad323",
   "metadata": {},
   "source": [
    "Kami mengurangi jumlah label berbeda dari 187 menjadi 9."
   ]
  },
  {
   "cell_type": "code",
   "execution_count": 88,
   "id": "d9b0cec5",
   "metadata": {},
   "outputs": [
    {
     "data": {
      "text/plain": [
       "((916, 3), (393, 3))"
      ]
     },
     "execution_count": 88,
     "metadata": {},
     "output_type": "execute_result"
    }
   ],
   "source": [
    "# Let's separate into training and testing set in order to build machine learning models\n",
    "\n",
    "use_cols = ['cabin', 'Cabin_reduced', 'sex']\n",
    "\n",
    "X_train, X_test, y_train, y_test = train_test_split(data[use_cols], \n",
    "                                                    data['survived'],  \n",
    "                                                    test_size=0.3,\n",
    "                                                    random_state=0)\n",
    "\n",
    "X_train.shape, X_test.shape"
   ]
  },
  {
   "cell_type": "markdown",
   "id": "ac98758a",
   "metadata": {},
   "source": [
    "### Kardinalitas yang tinggi menyebabkan distribusi kategori yang tidak merata dalam set pelatihan dan pengujian\n",
    "\n",
    "Ketika sebuah variabel sangat kardinal, seringkali beberapa kategori hanya mendarat di set pelatihan, atau hanya di set pengujian. Jika hanya ada di set pelatihan, mereka dapat menyebabkan over-fitting. Jika hanya ada di set pengujian, algoritme pembelajaran mesin tidak akan tahu cara menanganinya, karena belum melihatnya selama pelatihan."
   ]
  },
  {
   "cell_type": "code",
   "execution_count": 89,
   "id": "3a8c9ac3",
   "metadata": {},
   "outputs": [
    {
     "name": "stdout",
     "output_type": "stream",
     "text": [
      "Total unique_to_train_set :  116\n",
      "Total unique_to_test_set  :  36\n"
     ]
    }
   ],
   "source": [
    "# Let's find out labels that only present in the training set and labels that only present in the test set\n",
    "\n",
    "unique_to_train_set = [x for x in X_train.cabin.unique() if x not in X_test.cabin.unique()]\n",
    "unique_to_test_set = [x for x in X_test.cabin.unique() if x not in X_train.cabin.unique()]\n",
    "\n",
    "print('Total unique_to_train_set : ', len(unique_to_train_set))\n",
    "print('Total unique_to_test_set  : ', len(unique_to_test_set))"
   ]
  },
  {
   "cell_type": "markdown",
   "id": "c2ae0e7f",
   "metadata": {},
   "source": [
    "Ada **116 Kabin yang hanya ada di set pelatihan**, dan tidak ada di set pengujian. Selain itu, ada **36 Kabin yang hanya ada di set pengujian** tetapi tidak ada di set kereta.\n",
    "\n",
    "Variabel dengan kardinalitas tinggi cenderung memiliki nilai (yaitu, kategori) yang ada di set pelatihan, yang tidak ada di set tes, dan sebaliknya. Ini akan menimbulkan masalah pada saat pelatihan (karena pemasangan yang berlebihan) dan penilaian data baru (bagaimana seharusnya model menangani kategori yang tidak terlihat?). Masalah ini hampir dapat diatasi dengan mengurangi kardinalitas variabel."
   ]
  },
  {
   "cell_type": "code",
   "execution_count": 90,
   "id": "50ef68e7",
   "metadata": {},
   "outputs": [
    {
     "name": "stdout",
     "output_type": "stream",
     "text": [
      "Total unique_to_train_set :  1\n",
      "Total unique_to_test_set  :  0\n"
     ]
    }
   ],
   "source": [
    "# Let's find out labels that only present in the training set and only present in the test set for Cabin with reduced cardinality\n",
    "\n",
    "unique_to_train_set = [\n",
    "    x for x in X_train['Cabin_reduced'].unique()\n",
    "    if x not in X_test['Cabin_reduced'].unique()\n",
    "]\n",
    "\n",
    "unique_to_test_set = [\n",
    "    x for x in X_test['Cabin_reduced'].unique()\n",
    "    if x not in X_train['Cabin_reduced'].unique()\n",
    "]\n",
    "\n",
    "print('Total unique_to_train_set : ', len(unique_to_train_set))\n",
    "print('Total unique_to_test_set  : ', len(unique_to_test_set))"
   ]
  },
  {
   "cell_type": "markdown",
   "id": "65287ea0",
   "metadata": {},
   "source": [
    "Amati bagaimana dengan mengurangi kardinalitas, kini **hanya ada 1 label di set pelatihan** yang tidak ada di set pengujian. Dan **tidak ada label di set pengujian** yang juga tidak terdapat di set pelatihan.\n",
    "\n",
    "### Effect of cardinality on Machine Learning Model Performance\n",
    "\n",
    "In order to evaluate the effect of categorical variables in machine learning models, we will quickly replace the categories by numbers. See below."
   ]
  },
  {
   "cell_type": "code",
   "execution_count": 91,
   "id": "6d1505d9",
   "metadata": {},
   "outputs": [
    {
     "name": "stdout",
     "output_type": "stream",
     "text": [
      "cabin_dict :  {'?': 0, 'E36': 1, 'C68': 2, 'E24': 3, 'C22 C26': 4, 'D38': 5, 'B50': 6, 'A24': 7, 'C111': 8, 'F': 9, 'C6': 10, 'C87': 11, 'E8': 12, 'B45': 13, 'C93': 14, 'D28': 15, 'D36': 16, 'C125': 17, 'B35': 18, 'T': 19, 'B73': 20, 'B57 B59 B63 B66': 21, 'A26': 22, 'A18': 23, 'B96 B98': 24, 'G6': 25, 'C78': 26, 'C101': 27, 'D9': 28, 'D33': 29, 'C128': 30, 'E50': 31, 'B26': 32, 'B69': 33, 'E121': 34, 'C123': 35, 'B94': 36, 'A34': 37, 'D': 38, 'C39': 39, 'D43': 40, 'E31': 41, 'B5': 42, 'D17': 43, 'F33': 44, 'E44': 45, 'D7': 46, 'A21': 47, 'D34': 48, 'A29': 49, 'D35': 50, 'A11': 51, 'B51 B53 B55': 52, 'D46': 53, 'E60': 54, 'C30': 55, 'D26': 56, 'E68': 57, 'A9': 58, 'B71': 59, 'D37': 60, 'F2': 61, 'C55 C57': 62, 'C89': 63, 'C124': 64, 'C23 C25 C27': 65, 'C126': 66, 'E49': 67, 'F E46': 68, 'E46': 69, 'D19': 70, 'B58 B60': 71, 'C82': 72, 'B52 B54 B56': 73, 'C92': 74, 'E45': 75, 'F G73': 76, 'C65': 77, 'E25': 78, 'B3': 79, 'D40': 80, 'C91': 81, 'B102': 82, 'B61': 83, 'F G63': 84, 'A20': 85, 'B36': 86, 'C7': 87, 'B77': 88, 'D20': 89, 'C148': 90, 'C105': 91, 'E38': 92, 'B86': 93, 'C132': 94, 'C86': 95, 'A14': 96, 'C54': 97, 'A5': 98, 'B49': 99, 'B28': 100, 'B24': 101, 'C2': 102, 'F4': 103, 'A6': 104, 'C83': 105, 'B42': 106, 'A36': 107, 'C52': 108, 'D56': 109, 'C116': 110, 'B19': 111, 'E77': 112, 'F E57': 113, 'E101': 114, 'B18': 115, 'C95': 116, 'D15': 117, 'E33': 118, 'B30': 119, 'D21': 120, 'E10': 121, 'C130': 122, 'D6': 123, 'C51': 124, 'D30': 125, 'E67': 126, 'C110': 127, 'C103': 128, 'C90': 129, 'C118': 130, 'C97': 131, 'D47': 132, 'E34': 133, 'B4': 134, 'D50': 135, 'C62 C64': 136, 'E17': 137, 'B41': 138, 'C49': 139, 'C85': 140, 'B20': 141, 'C28': 142, 'E63': 143, 'C99': 144, 'D49': 145, 'A10': 146, 'A16': 147, 'B37': 148, 'C80': 149, 'B78': 150}\n",
      "Total Cabin Unique - X_train :  151\n",
      "Total Cabin Unique - Data    :  187\n"
     ]
    }
   ],
   "source": [
    "# Let's re-map Cabin into numbers so we can use it to train ML models\n",
    "\n",
    "# I will replace each cabin by a number\n",
    "# to quickly demonstrate the effect of\n",
    "# labels on machine learning algorithms\n",
    "\n",
    "cabin_dict = {k: i for i, k in enumerate(X_train.cabin.unique(), 0)}\n",
    "print('cabin_dict : ', cabin_dict)\n",
    "print('Total Cabin Unique - X_train : ', len(X_train.cabin.unique()))\n",
    "print('Total Cabin Unique - Data    : ', len(data.cabin.unique()))"
   ]
  },
  {
   "cell_type": "code",
   "execution_count": 92,
   "id": "e25873f2",
   "metadata": {},
   "outputs": [
    {
     "data": {
      "text/html": [
       "<div>\n",
       "<style scoped>\n",
       "    .dataframe tbody tr th:only-of-type {\n",
       "        vertical-align: middle;\n",
       "    }\n",
       "\n",
       "    .dataframe tbody tr th {\n",
       "        vertical-align: top;\n",
       "    }\n",
       "\n",
       "    .dataframe thead th {\n",
       "        text-align: right;\n",
       "    }\n",
       "</style>\n",
       "<table border=\"1\" class=\"dataframe\">\n",
       "  <thead>\n",
       "    <tr style=\"text-align: right;\">\n",
       "      <th></th>\n",
       "      <th>Cabin_mapped</th>\n",
       "      <th>cabin</th>\n",
       "    </tr>\n",
       "  </thead>\n",
       "  <tbody>\n",
       "    <tr>\n",
       "      <th>501</th>\n",
       "      <td>0</td>\n",
       "      <td>?</td>\n",
       "    </tr>\n",
       "    <tr>\n",
       "      <th>588</th>\n",
       "      <td>0</td>\n",
       "      <td>?</td>\n",
       "    </tr>\n",
       "    <tr>\n",
       "      <th>402</th>\n",
       "      <td>0</td>\n",
       "      <td>?</td>\n",
       "    </tr>\n",
       "    <tr>\n",
       "      <th>1193</th>\n",
       "      <td>0</td>\n",
       "      <td>?</td>\n",
       "    </tr>\n",
       "    <tr>\n",
       "      <th>686</th>\n",
       "      <td>0</td>\n",
       "      <td>?</td>\n",
       "    </tr>\n",
       "    <tr>\n",
       "      <th>971</th>\n",
       "      <td>0</td>\n",
       "      <td>?</td>\n",
       "    </tr>\n",
       "    <tr>\n",
       "      <th>117</th>\n",
       "      <td>1</td>\n",
       "      <td>E36</td>\n",
       "    </tr>\n",
       "    <tr>\n",
       "      <th>540</th>\n",
       "      <td>0</td>\n",
       "      <td>?</td>\n",
       "    </tr>\n",
       "    <tr>\n",
       "      <th>294</th>\n",
       "      <td>2</td>\n",
       "      <td>C68</td>\n",
       "    </tr>\n",
       "    <tr>\n",
       "      <th>261</th>\n",
       "      <td>3</td>\n",
       "      <td>E24</td>\n",
       "    </tr>\n",
       "  </tbody>\n",
       "</table>\n",
       "</div>"
      ],
      "text/plain": [
       "      Cabin_mapped cabin\n",
       "501              0     ?\n",
       "588              0     ?\n",
       "402              0     ?\n",
       "1193             0     ?\n",
       "686              0     ?\n",
       "971              0     ?\n",
       "117              1   E36\n",
       "540              0     ?\n",
       "294              2   C68\n",
       "261              3   E24"
      ]
     },
     "execution_count": 92,
     "metadata": {},
     "output_type": "execute_result"
    }
   ],
   "source": [
    "# Replace the labels in Cabin, using the dict `cabin_dict` created above\n",
    "X_train.loc[:, 'Cabin_mapped'] = X_train.loc[:, 'cabin'].map(cabin_dict)\n",
    "X_test.loc[:, 'Cabin_mapped'] = X_test.loc[:, 'cabin'].map(cabin_dict)\n",
    "\n",
    "X_train[['Cabin_mapped', 'cabin']].head(10)"
   ]
  },
  {
   "cell_type": "code",
   "execution_count": 93,
   "id": "13e8c99d",
   "metadata": {},
   "outputs": [
    {
     "data": {
      "text/html": [
       "<div>\n",
       "<style scoped>\n",
       "    .dataframe tbody tr th:only-of-type {\n",
       "        vertical-align: middle;\n",
       "    }\n",
       "\n",
       "    .dataframe tbody tr th {\n",
       "        vertical-align: top;\n",
       "    }\n",
       "\n",
       "    .dataframe thead th {\n",
       "        text-align: right;\n",
       "    }\n",
       "</style>\n",
       "<table border=\"1\" class=\"dataframe\">\n",
       "  <thead>\n",
       "    <tr style=\"text-align: right;\">\n",
       "      <th></th>\n",
       "      <th>cabin</th>\n",
       "      <th>Cabin_reduced</th>\n",
       "      <th>sex</th>\n",
       "      <th>Cabin_mapped</th>\n",
       "    </tr>\n",
       "  </thead>\n",
       "  <tbody>\n",
       "    <tr>\n",
       "      <th>501</th>\n",
       "      <td>?</td>\n",
       "      <td>?</td>\n",
       "      <td>female</td>\n",
       "      <td>0</td>\n",
       "    </tr>\n",
       "    <tr>\n",
       "      <th>588</th>\n",
       "      <td>?</td>\n",
       "      <td>?</td>\n",
       "      <td>female</td>\n",
       "      <td>0</td>\n",
       "    </tr>\n",
       "    <tr>\n",
       "      <th>402</th>\n",
       "      <td>?</td>\n",
       "      <td>?</td>\n",
       "      <td>female</td>\n",
       "      <td>0</td>\n",
       "    </tr>\n",
       "    <tr>\n",
       "      <th>1193</th>\n",
       "      <td>?</td>\n",
       "      <td>?</td>\n",
       "      <td>male</td>\n",
       "      <td>0</td>\n",
       "    </tr>\n",
       "    <tr>\n",
       "      <th>686</th>\n",
       "      <td>?</td>\n",
       "      <td>?</td>\n",
       "      <td>female</td>\n",
       "      <td>0</td>\n",
       "    </tr>\n",
       "    <tr>\n",
       "      <th>971</th>\n",
       "      <td>?</td>\n",
       "      <td>?</td>\n",
       "      <td>male</td>\n",
       "      <td>0</td>\n",
       "    </tr>\n",
       "    <tr>\n",
       "      <th>117</th>\n",
       "      <td>E36</td>\n",
       "      <td>E</td>\n",
       "      <td>female</td>\n",
       "      <td>1</td>\n",
       "    </tr>\n",
       "    <tr>\n",
       "      <th>540</th>\n",
       "      <td>?</td>\n",
       "      <td>?</td>\n",
       "      <td>female</td>\n",
       "      <td>0</td>\n",
       "    </tr>\n",
       "    <tr>\n",
       "      <th>294</th>\n",
       "      <td>C68</td>\n",
       "      <td>C</td>\n",
       "      <td>male</td>\n",
       "      <td>2</td>\n",
       "    </tr>\n",
       "    <tr>\n",
       "      <th>261</th>\n",
       "      <td>E24</td>\n",
       "      <td>E</td>\n",
       "      <td>male</td>\n",
       "      <td>3</td>\n",
       "    </tr>\n",
       "  </tbody>\n",
       "</table>\n",
       "</div>"
      ],
      "text/plain": [
       "     cabin Cabin_reduced     sex  Cabin_mapped\n",
       "501      ?             ?  female             0\n",
       "588      ?             ?  female             0\n",
       "402      ?             ?  female             0\n",
       "1193     ?             ?    male             0\n",
       "686      ?             ?  female             0\n",
       "971      ?             ?    male             0\n",
       "117    E36             E  female             1\n",
       "540      ?             ?  female             0\n",
       "294    C68             C    male             2\n",
       "261    E24             E    male             3"
      ]
     },
     "execution_count": 93,
     "metadata": {},
     "output_type": "execute_result"
    }
   ],
   "source": [
    "# Display First 10 Data in `X_train`\n",
    "X_train.head(10)"
   ]
  },
  {
   "cell_type": "markdown",
   "id": "9d0d03fc",
   "metadata": {},
   "source": [
    "Kita lihat bagaimana NaN mengambil nilai 0 pada variabel baru, E36 mengambil nilai 1, C68 mengambil nilai 2, dan seterusnya."
   ]
  },
  {
   "cell_type": "code",
   "execution_count": 94,
   "id": "be6e997b",
   "metadata": {},
   "outputs": [
    {
     "name": "stdout",
     "output_type": "stream",
     "text": [
      "Before Replace\n",
      "     Cabin_reduced cabin\n",
      "501              ?     ?\n",
      "588              ?     ?\n",
      "402              ?     ?\n",
      "1193             ?     ?\n",
      "686              ?     ?\n",
      "971              ?     ?\n",
      "117              E   E36\n",
      "540              ?     ?\n",
      "294              C   C68\n",
      "261              E   E24\n",
      "\n",
      "After Replace\n",
      "      Cabin_reduced cabin\n",
      "501               0     ?\n",
      "588               0     ?\n",
      "402               0     ?\n",
      "1193              0     ?\n",
      "686               0     ?\n",
      "971               0     ?\n",
      "117               1   E36\n",
      "540               0     ?\n",
      "294               2   C68\n",
      "261               1   E24\n",
      "\n"
     ]
    },
    {
     "name": "stderr",
     "output_type": "stream",
     "text": [
      "C:\\Users\\ASUS\\AppData\\Local\\Temp\\ipykernel_14356\\800770103.py:11: FutureWarning: In a future version, `df.iloc[:, i] = newvals` will attempt to set the values inplace instead of always setting a new array. To retain the old behavior, use either `df[df.columns[i]] = newvals` or, if columns are non-unique, `df.isetitem(i, newvals)`\n",
      "  X_train.loc[:, 'Cabin_reduced'] = X_train.loc[:, 'Cabin_reduced'].map(cabin_dict)\n",
      "C:\\Users\\ASUS\\AppData\\Local\\Temp\\ipykernel_14356\\800770103.py:12: FutureWarning: In a future version, `df.iloc[:, i] = newvals` will attempt to set the values inplace instead of always setting a new array. To retain the old behavior, use either `df[df.columns[i]] = newvals` or, if columns are non-unique, `df.isetitem(i, newvals)`\n",
      "  X_test.loc[:, 'Cabin_reduced'] = X_test.loc[:, 'Cabin_reduced'].map(cabin_dict)\n"
     ]
    }
   ],
   "source": [
    "# Now we will replace the letters in the reduced cabin variable (`Cabin_reduced`) with the same procedure\n",
    "\n",
    "# Create replace dictionary\n",
    "cabin_dict = {k: i for i, k in enumerate(X_train['Cabin_reduced'].unique(), 0)}\n",
    "\n",
    "print('Before Replace')\n",
    "print(X_train[['Cabin_reduced', 'cabin']].head(10))\n",
    "print('')\n",
    "\n",
    "# Replace labels by numbers with dictionary\n",
    "X_train.loc[:, 'Cabin_reduced'] = X_train.loc[:, 'Cabin_reduced'].map(cabin_dict)\n",
    "X_test.loc[:, 'Cabin_reduced'] = X_test.loc[:, 'Cabin_reduced'].map(cabin_dict)\n",
    "\n",
    "print('After Replace')\n",
    "print(X_train[['Cabin_reduced', 'cabin']].head(10))\n",
    "print('')"
   ]
  },
  {
   "cell_type": "code",
   "execution_count": 95,
   "id": "1d76093d",
   "metadata": {},
   "outputs": [
    {
     "data": {
      "text/html": [
       "<div>\n",
       "<style scoped>\n",
       "    .dataframe tbody tr th:only-of-type {\n",
       "        vertical-align: middle;\n",
       "    }\n",
       "\n",
       "    .dataframe tbody tr th {\n",
       "        vertical-align: top;\n",
       "    }\n",
       "\n",
       "    .dataframe thead th {\n",
       "        text-align: right;\n",
       "    }\n",
       "</style>\n",
       "<table border=\"1\" class=\"dataframe\">\n",
       "  <thead>\n",
       "    <tr style=\"text-align: right;\">\n",
       "      <th></th>\n",
       "      <th>cabin</th>\n",
       "      <th>Cabin_reduced</th>\n",
       "      <th>sex</th>\n",
       "      <th>Cabin_mapped</th>\n",
       "    </tr>\n",
       "  </thead>\n",
       "  <tbody>\n",
       "    <tr>\n",
       "      <th>501</th>\n",
       "      <td>?</td>\n",
       "      <td>0</td>\n",
       "      <td>female</td>\n",
       "      <td>0</td>\n",
       "    </tr>\n",
       "    <tr>\n",
       "      <th>588</th>\n",
       "      <td>?</td>\n",
       "      <td>0</td>\n",
       "      <td>female</td>\n",
       "      <td>0</td>\n",
       "    </tr>\n",
       "    <tr>\n",
       "      <th>402</th>\n",
       "      <td>?</td>\n",
       "      <td>0</td>\n",
       "      <td>female</td>\n",
       "      <td>0</td>\n",
       "    </tr>\n",
       "    <tr>\n",
       "      <th>1193</th>\n",
       "      <td>?</td>\n",
       "      <td>0</td>\n",
       "      <td>male</td>\n",
       "      <td>0</td>\n",
       "    </tr>\n",
       "    <tr>\n",
       "      <th>686</th>\n",
       "      <td>?</td>\n",
       "      <td>0</td>\n",
       "      <td>female</td>\n",
       "      <td>0</td>\n",
       "    </tr>\n",
       "    <tr>\n",
       "      <th>971</th>\n",
       "      <td>?</td>\n",
       "      <td>0</td>\n",
       "      <td>male</td>\n",
       "      <td>0</td>\n",
       "    </tr>\n",
       "    <tr>\n",
       "      <th>117</th>\n",
       "      <td>E36</td>\n",
       "      <td>1</td>\n",
       "      <td>female</td>\n",
       "      <td>1</td>\n",
       "    </tr>\n",
       "    <tr>\n",
       "      <th>540</th>\n",
       "      <td>?</td>\n",
       "      <td>0</td>\n",
       "      <td>female</td>\n",
       "      <td>0</td>\n",
       "    </tr>\n",
       "    <tr>\n",
       "      <th>294</th>\n",
       "      <td>C68</td>\n",
       "      <td>2</td>\n",
       "      <td>male</td>\n",
       "      <td>2</td>\n",
       "    </tr>\n",
       "    <tr>\n",
       "      <th>261</th>\n",
       "      <td>E24</td>\n",
       "      <td>1</td>\n",
       "      <td>male</td>\n",
       "      <td>3</td>\n",
       "    </tr>\n",
       "  </tbody>\n",
       "</table>\n",
       "</div>"
      ],
      "text/plain": [
       "     cabin  Cabin_reduced     sex  Cabin_mapped\n",
       "501      ?              0  female             0\n",
       "588      ?              0  female             0\n",
       "402      ?              0  female             0\n",
       "1193     ?              0    male             0\n",
       "686      ?              0  female             0\n",
       "971      ?              0    male             0\n",
       "117    E36              1  female             1\n",
       "540      ?              0  female             0\n",
       "294    C68              2    male             2\n",
       "261    E24              1    male             3"
      ]
     },
     "execution_count": 95,
     "metadata": {},
     "output_type": "execute_result"
    }
   ],
   "source": [
    "# Display First 10 Data in `X_train`\n",
    "X_train.head(10)"
   ]
  },
  {
   "cell_type": "markdown",
   "id": "527c0c84",
   "metadata": {},
   "source": [
    "Sekarang kita lihat bahwa E36 dan E24 mengambil angka yang sama, 1, karena kita hanya menangkap hurufnya. Keduanya dimulai dengan E."
   ]
  },
  {
   "cell_type": "code",
   "execution_count": 97,
   "id": "25612be1",
   "metadata": {},
   "outputs": [
    {
     "name": "stderr",
     "output_type": "stream",
     "text": [
      "C:\\Users\\ASUS\\AppData\\Local\\Temp\\ipykernel_14356\\1300005932.py:3: FutureWarning: In a future version, `df.iloc[:, i] = newvals` will attempt to set the values inplace instead of always setting a new array. To retain the old behavior, use either `df[df.columns[i]] = newvals` or, if columns are non-unique, `df.isetitem(i, newvals)`\n",
      "  X_train.loc[:, 'sex'] = X_train.loc[:, 'sex'].map({'male': 0, 'female': 1})\n",
      "C:\\Users\\ASUS\\AppData\\Local\\Temp\\ipykernel_14356\\1300005932.py:4: FutureWarning: In a future version, `df.iloc[:, i] = newvals` will attempt to set the values inplace instead of always setting a new array. To retain the old behavior, use either `df[df.columns[i]] = newvals` or, if columns are non-unique, `df.isetitem(i, newvals)`\n",
      "  X_test.loc[:, 'sex'] = X_test.loc[:, 'sex'].map({'male': 0, 'female': 1})\n"
     ]
    },
    {
     "data": {
      "text/plain": [
       "501     1\n",
       "588     1\n",
       "402     1\n",
       "1193    0\n",
       "686     1\n",
       "Name: sex, dtype: int64"
      ]
     },
     "execution_count": 97,
     "metadata": {},
     "output_type": "execute_result"
    }
   ],
   "source": [
    "# Re-map the categorical variable `Sex` into numbers\n",
    "\n",
    "X_train.loc[:, 'sex'] = X_train.loc[:, 'sex'].map({'male': 0, 'female': 1})\n",
    "X_test.loc[:, 'sex'] = X_test.loc[:, 'sex'].map({'male': 0, 'female': 1})\n",
    "\n",
    "X_train.sex.head()"
   ]
  },
  {
   "cell_type": "code",
   "execution_count": 98,
   "id": "70167d48",
   "metadata": {},
   "outputs": [
    {
     "data": {
      "text/plain": [
       "Cabin_mapped     0\n",
       "Cabin_reduced    0\n",
       "sex              0\n",
       "dtype: int64"
      ]
     },
     "execution_count": 98,
     "metadata": {},
     "output_type": "execute_result"
    }
   ],
   "source": [
    "# Check if there are missing values in these variables\n",
    "\n",
    "X_train[['Cabin_mapped', 'Cabin_reduced', 'sex']].isnull().sum()"
   ]
  },
  {
   "cell_type": "code",
   "execution_count": 99,
   "id": "7f4dbf02",
   "metadata": {},
   "outputs": [
    {
     "data": {
      "text/plain": [
       "Cabin_mapped     42\n",
       "Cabin_reduced     0\n",
       "sex               0\n",
       "dtype: int64"
      ]
     },
     "execution_count": 99,
     "metadata": {},
     "output_type": "execute_result"
    }
   ],
   "source": [
    "X_test[['Cabin_mapped', 'Cabin_reduced', 'sex']].isnull().sum()"
   ]
  },
  {
   "cell_type": "code",
   "execution_count": 100,
   "id": "6c634dbf",
   "metadata": {},
   "outputs": [
    {
     "data": {
      "text/html": [
       "<div>\n",
       "<style scoped>\n",
       "    .dataframe tbody tr th:only-of-type {\n",
       "        vertical-align: middle;\n",
       "    }\n",
       "\n",
       "    .dataframe tbody tr th {\n",
       "        vertical-align: top;\n",
       "    }\n",
       "\n",
       "    .dataframe thead th {\n",
       "        text-align: right;\n",
       "    }\n",
       "</style>\n",
       "<table border=\"1\" class=\"dataframe\">\n",
       "  <thead>\n",
       "    <tr style=\"text-align: right;\">\n",
       "      <th></th>\n",
       "      <th>cabin</th>\n",
       "      <th>Cabin_reduced</th>\n",
       "      <th>sex</th>\n",
       "      <th>Cabin_mapped</th>\n",
       "    </tr>\n",
       "  </thead>\n",
       "  <tbody>\n",
       "    <tr>\n",
       "      <th>5</th>\n",
       "      <td>E12</td>\n",
       "      <td>1</td>\n",
       "      <td>0</td>\n",
       "      <td>NaN</td>\n",
       "    </tr>\n",
       "    <tr>\n",
       "      <th>231</th>\n",
       "      <td>C104</td>\n",
       "      <td>2</td>\n",
       "      <td>0</td>\n",
       "      <td>NaN</td>\n",
       "    </tr>\n",
       "    <tr>\n",
       "      <th>31</th>\n",
       "      <td>A31</td>\n",
       "      <td>5</td>\n",
       "      <td>0</td>\n",
       "      <td>NaN</td>\n",
       "    </tr>\n",
       "    <tr>\n",
       "      <th>161</th>\n",
       "      <td>D11</td>\n",
       "      <td>3</td>\n",
       "      <td>1</td>\n",
       "      <td>NaN</td>\n",
       "    </tr>\n",
       "    <tr>\n",
       "      <th>215</th>\n",
       "      <td>D48</td>\n",
       "      <td>3</td>\n",
       "      <td>0</td>\n",
       "      <td>NaN</td>\n",
       "    </tr>\n",
       "    <tr>\n",
       "      <th>141</th>\n",
       "      <td>D10 D12</td>\n",
       "      <td>3</td>\n",
       "      <td>1</td>\n",
       "      <td>NaN</td>\n",
       "    </tr>\n",
       "    <tr>\n",
       "      <th>45</th>\n",
       "      <td>B38</td>\n",
       "      <td>4</td>\n",
       "      <td>0</td>\n",
       "      <td>NaN</td>\n",
       "    </tr>\n",
       "    <tr>\n",
       "      <th>152</th>\n",
       "      <td>D45</td>\n",
       "      <td>3</td>\n",
       "      <td>0</td>\n",
       "      <td>NaN</td>\n",
       "    </tr>\n",
       "    <tr>\n",
       "      <th>233</th>\n",
       "      <td>C50</td>\n",
       "      <td>2</td>\n",
       "      <td>1</td>\n",
       "      <td>NaN</td>\n",
       "    </tr>\n",
       "    <tr>\n",
       "      <th>268</th>\n",
       "      <td>C31</td>\n",
       "      <td>2</td>\n",
       "      <td>0</td>\n",
       "      <td>NaN</td>\n",
       "    </tr>\n",
       "    <tr>\n",
       "      <th>142</th>\n",
       "      <td>B82 B84</td>\n",
       "      <td>4</td>\n",
       "      <td>0</td>\n",
       "      <td>NaN</td>\n",
       "    </tr>\n",
       "    <tr>\n",
       "      <th>241</th>\n",
       "      <td>A32</td>\n",
       "      <td>5</td>\n",
       "      <td>0</td>\n",
       "      <td>NaN</td>\n",
       "    </tr>\n",
       "    <tr>\n",
       "      <th>298</th>\n",
       "      <td>C53</td>\n",
       "      <td>2</td>\n",
       "      <td>0</td>\n",
       "      <td>NaN</td>\n",
       "    </tr>\n",
       "    <tr>\n",
       "      <th>39</th>\n",
       "      <td>B10</td>\n",
       "      <td>4</td>\n",
       "      <td>0</td>\n",
       "      <td>NaN</td>\n",
       "    </tr>\n",
       "    <tr>\n",
       "      <th>295</th>\n",
       "      <td>C70</td>\n",
       "      <td>2</td>\n",
       "      <td>0</td>\n",
       "      <td>NaN</td>\n",
       "    </tr>\n",
       "    <tr>\n",
       "      <th>14</th>\n",
       "      <td>A23</td>\n",
       "      <td>5</td>\n",
       "      <td>0</td>\n",
       "      <td>NaN</td>\n",
       "    </tr>\n",
       "    <tr>\n",
       "      <th>254</th>\n",
       "      <td>C106</td>\n",
       "      <td>2</td>\n",
       "      <td>0</td>\n",
       "      <td>NaN</td>\n",
       "    </tr>\n",
       "    <tr>\n",
       "      <th>61</th>\n",
       "      <td>C46</td>\n",
       "      <td>2</td>\n",
       "      <td>1</td>\n",
       "      <td>NaN</td>\n",
       "    </tr>\n",
       "    <tr>\n",
       "      <th>75</th>\n",
       "      <td>E58</td>\n",
       "      <td>1</td>\n",
       "      <td>0</td>\n",
       "      <td>NaN</td>\n",
       "    </tr>\n",
       "    <tr>\n",
       "      <th>140</th>\n",
       "      <td>D10 D12</td>\n",
       "      <td>3</td>\n",
       "      <td>0</td>\n",
       "      <td>NaN</td>\n",
       "    </tr>\n",
       "    <tr>\n",
       "      <th>156</th>\n",
       "      <td>B11</td>\n",
       "      <td>4</td>\n",
       "      <td>0</td>\n",
       "      <td>NaN</td>\n",
       "    </tr>\n",
       "    <tr>\n",
       "      <th>270</th>\n",
       "      <td>C31</td>\n",
       "      <td>2</td>\n",
       "      <td>1</td>\n",
       "      <td>NaN</td>\n",
       "    </tr>\n",
       "    <tr>\n",
       "      <th>1122</th>\n",
       "      <td>F E69</td>\n",
       "      <td>6</td>\n",
       "      <td>1</td>\n",
       "      <td>NaN</td>\n",
       "    </tr>\n",
       "    <tr>\n",
       "      <th>192</th>\n",
       "      <td>B80</td>\n",
       "      <td>4</td>\n",
       "      <td>1</td>\n",
       "      <td>NaN</td>\n",
       "    </tr>\n",
       "    <tr>\n",
       "      <th>319</th>\n",
       "      <td>E39 E41</td>\n",
       "      <td>1</td>\n",
       "      <td>1</td>\n",
       "      <td>NaN</td>\n",
       "    </tr>\n",
       "    <tr>\n",
       "      <th>34</th>\n",
       "      <td>D22</td>\n",
       "      <td>3</td>\n",
       "      <td>0</td>\n",
       "      <td>NaN</td>\n",
       "    </tr>\n",
       "    <tr>\n",
       "      <th>194</th>\n",
       "      <td>C106</td>\n",
       "      <td>2</td>\n",
       "      <td>0</td>\n",
       "      <td>NaN</td>\n",
       "    </tr>\n",
       "    <tr>\n",
       "      <th>44</th>\n",
       "      <td>E40</td>\n",
       "      <td>1</td>\n",
       "      <td>1</td>\n",
       "      <td>NaN</td>\n",
       "    </tr>\n",
       "    <tr>\n",
       "      <th>269</th>\n",
       "      <td>A19</td>\n",
       "      <td>5</td>\n",
       "      <td>0</td>\n",
       "      <td>NaN</td>\n",
       "    </tr>\n",
       "    <tr>\n",
       "      <th>322</th>\n",
       "      <td>C32</td>\n",
       "      <td>2</td>\n",
       "      <td>1</td>\n",
       "      <td>NaN</td>\n",
       "    </tr>\n",
       "    <tr>\n",
       "      <th>195</th>\n",
       "      <td>B79</td>\n",
       "      <td>4</td>\n",
       "      <td>1</td>\n",
       "      <td>NaN</td>\n",
       "    </tr>\n",
       "    <tr>\n",
       "      <th>308</th>\n",
       "      <td>C32</td>\n",
       "      <td>2</td>\n",
       "      <td>1</td>\n",
       "      <td>NaN</td>\n",
       "    </tr>\n",
       "    <tr>\n",
       "      <th>103</th>\n",
       "      <td>C45</td>\n",
       "      <td>2</td>\n",
       "      <td>1</td>\n",
       "      <td>NaN</td>\n",
       "    </tr>\n",
       "    <tr>\n",
       "      <th>60</th>\n",
       "      <td>C46</td>\n",
       "      <td>2</td>\n",
       "      <td>0</td>\n",
       "      <td>NaN</td>\n",
       "    </tr>\n",
       "    <tr>\n",
       "      <th>82</th>\n",
       "      <td>B22</td>\n",
       "      <td>4</td>\n",
       "      <td>1</td>\n",
       "      <td>NaN</td>\n",
       "    </tr>\n",
       "    <tr>\n",
       "      <th>122</th>\n",
       "      <td>B39</td>\n",
       "      <td>4</td>\n",
       "      <td>1</td>\n",
       "      <td>NaN</td>\n",
       "    </tr>\n",
       "    <tr>\n",
       "      <th>196</th>\n",
       "      <td>C47</td>\n",
       "      <td>2</td>\n",
       "      <td>0</td>\n",
       "      <td>NaN</td>\n",
       "    </tr>\n",
       "    <tr>\n",
       "      <th>183</th>\n",
       "      <td>B101</td>\n",
       "      <td>4</td>\n",
       "      <td>0</td>\n",
       "      <td>NaN</td>\n",
       "    </tr>\n",
       "    <tr>\n",
       "      <th>81</th>\n",
       "      <td>B22</td>\n",
       "      <td>4</td>\n",
       "      <td>0</td>\n",
       "      <td>NaN</td>\n",
       "    </tr>\n",
       "    <tr>\n",
       "      <th>267</th>\n",
       "      <td>A7</td>\n",
       "      <td>5</td>\n",
       "      <td>0</td>\n",
       "      <td>NaN</td>\n",
       "    </tr>\n",
       "    <tr>\n",
       "      <th>77</th>\n",
       "      <td>E52</td>\n",
       "      <td>1</td>\n",
       "      <td>0</td>\n",
       "      <td>NaN</td>\n",
       "    </tr>\n",
       "    <tr>\n",
       "      <th>1249</th>\n",
       "      <td>F38</td>\n",
       "      <td>6</td>\n",
       "      <td>0</td>\n",
       "      <td>NaN</td>\n",
       "    </tr>\n",
       "  </tbody>\n",
       "</table>\n",
       "</div>"
      ],
      "text/plain": [
       "        cabin  Cabin_reduced  sex  Cabin_mapped\n",
       "5         E12              1    0           NaN\n",
       "231      C104              2    0           NaN\n",
       "31        A31              5    0           NaN\n",
       "161       D11              3    1           NaN\n",
       "215       D48              3    0           NaN\n",
       "141   D10 D12              3    1           NaN\n",
       "45        B38              4    0           NaN\n",
       "152       D45              3    0           NaN\n",
       "233       C50              2    1           NaN\n",
       "268       C31              2    0           NaN\n",
       "142   B82 B84              4    0           NaN\n",
       "241       A32              5    0           NaN\n",
       "298       C53              2    0           NaN\n",
       "39        B10              4    0           NaN\n",
       "295       C70              2    0           NaN\n",
       "14        A23              5    0           NaN\n",
       "254      C106              2    0           NaN\n",
       "61        C46              2    1           NaN\n",
       "75        E58              1    0           NaN\n",
       "140   D10 D12              3    0           NaN\n",
       "156       B11              4    0           NaN\n",
       "270       C31              2    1           NaN\n",
       "1122    F E69              6    1           NaN\n",
       "192       B80              4    1           NaN\n",
       "319   E39 E41              1    1           NaN\n",
       "34        D22              3    0           NaN\n",
       "194      C106              2    0           NaN\n",
       "44        E40              1    1           NaN\n",
       "269       A19              5    0           NaN\n",
       "322       C32              2    1           NaN\n",
       "195       B79              4    1           NaN\n",
       "308       C32              2    1           NaN\n",
       "103       C45              2    1           NaN\n",
       "60        C46              2    0           NaN\n",
       "82        B22              4    1           NaN\n",
       "122       B39              4    1           NaN\n",
       "196       C47              2    0           NaN\n",
       "183      B101              4    0           NaN\n",
       "81        B22              4    0           NaN\n",
       "267        A7              5    0           NaN\n",
       "77        E52              1    0           NaN\n",
       "1249      F38              6    0           NaN"
      ]
     },
     "execution_count": 100,
     "metadata": {},
     "output_type": "execute_result"
    }
   ],
   "source": [
    "# Display row in `X_test` that contains missing values\n",
    "X_test[X_test.isna().any(axis=1)]"
   ]
  },
  {
   "cell_type": "markdown",
   "id": "47cab881",
   "metadata": {},
   "source": [
    "Di set pengujian, sekarang ada **42 nilai yang hilang** untuk variabel yang sangat utama. Ini diperkenalkan saat menyandikan kategori menjadi angka. Bagaimana? **Banyak kategori hanya ada di set pengujian.** Jadi, saat kami membuat kamus enkode hanya menggunakan set rangkaian, kami tidak menghasilkan angka untuk menggantikan label yang hanya ada di set pengujian. Akibatnya, mereka dikodekan sebagai NaN. Untuk saat ini, mari isi nilai yang hilang itu dengan 0."
   ]
  },
  {
   "cell_type": "code",
   "execution_count": 101,
   "id": "db9f77aa",
   "metadata": {},
   "outputs": [
    {
     "data": {
      "text/html": [
       "<div>\n",
       "<style scoped>\n",
       "    .dataframe tbody tr th:only-of-type {\n",
       "        vertical-align: middle;\n",
       "    }\n",
       "\n",
       "    .dataframe tbody tr th {\n",
       "        vertical-align: top;\n",
       "    }\n",
       "\n",
       "    .dataframe thead th {\n",
       "        text-align: right;\n",
       "    }\n",
       "</style>\n",
       "<table border=\"1\" class=\"dataframe\">\n",
       "  <thead>\n",
       "    <tr style=\"text-align: right;\">\n",
       "      <th></th>\n",
       "      <th>cabin</th>\n",
       "      <th>Cabin_reduced</th>\n",
       "      <th>sex</th>\n",
       "      <th>Cabin_mapped</th>\n",
       "    </tr>\n",
       "  </thead>\n",
       "  <tbody>\n",
       "    <tr>\n",
       "      <th>501</th>\n",
       "      <td>?</td>\n",
       "      <td>0</td>\n",
       "      <td>1</td>\n",
       "      <td>0</td>\n",
       "    </tr>\n",
       "    <tr>\n",
       "      <th>588</th>\n",
       "      <td>?</td>\n",
       "      <td>0</td>\n",
       "      <td>1</td>\n",
       "      <td>0</td>\n",
       "    </tr>\n",
       "    <tr>\n",
       "      <th>402</th>\n",
       "      <td>?</td>\n",
       "      <td>0</td>\n",
       "      <td>1</td>\n",
       "      <td>0</td>\n",
       "    </tr>\n",
       "    <tr>\n",
       "      <th>1193</th>\n",
       "      <td>?</td>\n",
       "      <td>0</td>\n",
       "      <td>0</td>\n",
       "      <td>0</td>\n",
       "    </tr>\n",
       "    <tr>\n",
       "      <th>686</th>\n",
       "      <td>?</td>\n",
       "      <td>0</td>\n",
       "      <td>1</td>\n",
       "      <td>0</td>\n",
       "    </tr>\n",
       "    <tr>\n",
       "      <th>971</th>\n",
       "      <td>?</td>\n",
       "      <td>0</td>\n",
       "      <td>0</td>\n",
       "      <td>0</td>\n",
       "    </tr>\n",
       "    <tr>\n",
       "      <th>117</th>\n",
       "      <td>E36</td>\n",
       "      <td>1</td>\n",
       "      <td>1</td>\n",
       "      <td>1</td>\n",
       "    </tr>\n",
       "    <tr>\n",
       "      <th>540</th>\n",
       "      <td>?</td>\n",
       "      <td>0</td>\n",
       "      <td>1</td>\n",
       "      <td>0</td>\n",
       "    </tr>\n",
       "    <tr>\n",
       "      <th>294</th>\n",
       "      <td>C68</td>\n",
       "      <td>2</td>\n",
       "      <td>0</td>\n",
       "      <td>2</td>\n",
       "    </tr>\n",
       "    <tr>\n",
       "      <th>261</th>\n",
       "      <td>E24</td>\n",
       "      <td>1</td>\n",
       "      <td>0</td>\n",
       "      <td>3</td>\n",
       "    </tr>\n",
       "  </tbody>\n",
       "</table>\n",
       "</div>"
      ],
      "text/plain": [
       "     cabin  Cabin_reduced  sex  Cabin_mapped\n",
       "501      ?              0    1             0\n",
       "588      ?              0    1             0\n",
       "402      ?              0    1             0\n",
       "1193     ?              0    0             0\n",
       "686      ?              0    1             0\n",
       "971      ?              0    0             0\n",
       "117    E36              1    1             1\n",
       "540      ?              0    1             0\n",
       "294    C68              2    0             2\n",
       "261    E24              1    0             3"
      ]
     },
     "execution_count": 101,
     "metadata": {},
     "output_type": "execute_result"
    }
   ],
   "source": [
    "# Display X_train\n",
    "X_train.head(10)"
   ]
  },
  {
   "cell_type": "markdown",
   "id": "a4fbe84e",
   "metadata": {},
   "source": [
    "## Random Forest"
   ]
  },
  {
   "cell_type": "code",
   "execution_count": 102,
   "id": "75d964a8",
   "metadata": {},
   "outputs": [
    {
     "name": "stdout",
     "output_type": "stream",
     "text": [
      "Train set\n",
      "Random Forests roc-auc: 0.8561832352985574\n",
      "Test set\n",
      "Random Forests roc-auc: 0.7707953099939163\n"
     ]
    }
   ],
   "source": [
    "# Model built on data with high cardinality for cabin\n",
    "\n",
    "# Call the model\n",
    "rf = RandomForestClassifier(n_estimators=200, random_state=39)\n",
    "\n",
    "# Train the model\n",
    "rf.fit(X_train[['Cabin_mapped', 'sex']], y_train)\n",
    "\n",
    "# Make predictions on train and test set\n",
    "pred_train = rf.predict_proba(X_train[['Cabin_mapped', 'sex']])\n",
    "pred_test = rf.predict_proba(X_test[['Cabin_mapped', 'sex']].fillna(0))\n",
    "\n",
    "print('Train set')\n",
    "print('Random Forests roc-auc: {}'.format(roc_auc_score(y_train, pred_train[:,1])))\n",
    "print('Test set')\n",
    "print('Random Forests roc-auc: {}'.format(roc_auc_score(y_test, pred_test[:,1])))"
   ]
  },
  {
   "cell_type": "markdown",
   "id": "5759971e",
   "metadata": {},
   "source": [
    "Kami mengamati bahwa performa Hutan Acak pada set pelatihan cukup unggul dibandingkan performanya pada set pengujian. Hal ini menunjukkan bahwa model tersebut terlalu pas, yang berarti bahwa model tersebut bekerja dengan sangat baik dalam memprediksi hasil pada kumpulan data tempat ia dilatih, tetapi tidak memiliki kemampuan untuk menggeneralisasikan prediksi ke data yang tidak terlihat."
   ]
  },
  {
   "cell_type": "code",
   "execution_count": 103,
   "id": "54554571",
   "metadata": {},
   "outputs": [
    {
     "name": "stdout",
     "output_type": "stream",
     "text": [
      "Train set\n",
      "Random Forests roc-auc: 0.8163420365403872\n",
      "Test set\n",
      "Random Forests roc-auc: 0.8017670482827277\n"
     ]
    }
   ],
   "source": [
    "# Model built on data with low cardinality for cabin\n",
    "\n",
    "# Call the model\n",
    "rf = RandomForestClassifier(n_estimators=200, random_state=39)\n",
    "\n",
    "# Train the model\n",
    "rf.fit(X_train[['Cabin_reduced', 'sex']], y_train)\n",
    "\n",
    "# Make predictions on train and test set\n",
    "pred_train = rf.predict_proba(X_train[['Cabin_reduced', 'sex']])\n",
    "pred_test = rf.predict_proba(X_test[['Cabin_reduced', 'sex']])\n",
    "\n",
    "print('Train set')\n",
    "print('Random Forests roc-auc: {}'.format(roc_auc_score(y_train, pred_train[:,1])))\n",
    "print('Test set')\n",
    "print('Random Forests roc-auc: {}'.format(roc_auc_score(y_test, pred_test[:,1])))"
   ]
  },
  {
   "cell_type": "markdown",
   "id": "0bf04eed",
   "metadata": {},
   "source": [
    "Kita dapat melihat sekarang bahwa Hutan Acak tidak lagi terlalu sesuai dengan set pelatihan. Selain itu, model jauh lebih baik dalam menggeneralisasi prediksi (bandingkan roc-auc model ini pada set pengujian vs roc-auc model di atas juga pada set pengujian: 0,81 vs 0,80).\n",
    "\n",
    "**Mengingat model yang sama, dengan hyper-parameter identik, kardinalitas tinggi dapat menyebabkan model terlalu pas**."
   ]
  },
  {
   "cell_type": "markdown",
   "id": "81bd371a",
   "metadata": {},
   "source": [
    "## Logistic Regression"
   ]
  },
  {
   "cell_type": "code",
   "execution_count": 104,
   "id": "80745ca5",
   "metadata": {},
   "outputs": [
    {
     "name": "stdout",
     "output_type": "stream",
     "text": [
      "Train set\n",
      "Logistic regression roc-auc: 0.8135594926008485\n",
      "Test set\n",
      "Logistic regression roc-auc: 0.7744732039157127\n"
     ]
    }
   ],
   "source": [
    "# Model build on data with plenty of categories in Cabin variable\n",
    "\n",
    "# Call the model\n",
    "logit = LogisticRegression(random_state=44, solver='lbfgs')\n",
    "\n",
    "# Train the model\n",
    "logit.fit(X_train[['Cabin_mapped', 'sex']], y_train)\n",
    "\n",
    "# Make predictions on train and test set\n",
    "pred_train = logit.predict_proba(X_train[['Cabin_mapped', 'sex']])\n",
    "pred_test = logit.predict_proba(X_test[['Cabin_mapped', 'sex']].fillna(0))\n",
    "\n",
    "print('Train set')\n",
    "print('Logistic regression roc-auc: {}'.format(roc_auc_score(y_train, pred_train[:,1])))\n",
    "print('Test set')\n",
    "print('Logistic regression roc-auc: {}'.format(roc_auc_score(y_test, pred_test[:,1])))"
   ]
  },
  {
   "cell_type": "code",
   "execution_count": 105,
   "id": "9a391558",
   "metadata": {},
   "outputs": [
    {
     "name": "stdout",
     "output_type": "stream",
     "text": [
      "Train set\n",
      "Logistic regression roc-auc: 0.8123468468695123\n",
      "Test set\n",
      "Logistic regression roc-auc: 0.8008268347989602\n"
     ]
    }
   ],
   "source": [
    "# Model build on data with fewer categories in Cabin Variable\n",
    "\n",
    "# Call the model\n",
    "logit = LogisticRegression(random_state=44, solver='lbfgs')\n",
    "\n",
    "# Train the model\n",
    "logit.fit(X_train[['Cabin_reduced', 'sex']], y_train)\n",
    "\n",
    "# Make predictions on train and test set\n",
    "pred_train = logit.predict_proba(X_train[['Cabin_reduced', 'sex']])\n",
    "pred_test = logit.predict_proba(X_test[['Cabin_reduced', 'sex']].fillna(0))\n",
    "\n",
    "print('Train set')\n",
    "print('Logistic regression roc-auc: {}'.format(roc_auc_score(y_train, pred_train[:,1])))\n",
    "print('Test set')\n",
    "print('Logistic regression roc-auc: {}'.format(roc_auc_score(y_test, pred_test[:,1])))"
   ]
  },
  {
   "cell_type": "markdown",
   "id": "00d33ba5",
   "metadata": {},
   "source": [
    "Kita dapat menarik kesimpulan yang sama untuk Regresi Logistik: **mengurangi kardinalitas meningkatkan kinerja dan generalisasi algoritme**."
   ]
  }
 ],
 "metadata": {
  "kernelspec": {
   "display_name": "kmhacktiv8",
   "language": "python",
   "name": "kmhacktiv8"
  },
  "language_info": {
   "codemirror_mode": {
    "name": "ipython",
    "version": 3
   },
   "file_extension": ".py",
   "mimetype": "text/x-python",
   "name": "python",
   "nbconvert_exporter": "python",
   "pygments_lexer": "ipython3",
   "version": "3.10.10"
  }
 },
 "nbformat": 4,
 "nbformat_minor": 5
}
